{
 "cells": [
  {
   "cell_type": "markdown",
   "metadata": {},
   "source": [
    "# Self-Driving Car Engineer Nanodegree\n",
    "\n",
    "## Deep Learning\n",
    "\n",
    "## Project: Build a Traffic Sign Recognition Classifier\n",
    "\n",
    "In this notebook, a template is provided for you to implement your functionality in stages which is required to successfully complete this project. If additional code is required that cannot be included in the notebook, be sure that the Python code is successfully imported and included in your submission, if necessary. Sections that begin with **'Implementation'** in the header indicate where you should begin your implementation for your project. Note that some sections of implementation are optional, and will be marked with **'Optional'** in the header.\n",
    "\n",
    "In addition to implementing code, there will be questions that you must answer which relate to the project and your implementation. Each section where you will answer a question is preceded by a **'Question'** header. Carefully read each question and provide thorough answers in the following text boxes that begin with **'Answer:'**. Your project submission will be evaluated based on your answers to each of the questions and the implementation you provide.\n",
    "\n",
    ">**Note:** Code and Markdown cells can be executed using the **Shift + Enter** keyboard shortcut. In addition, Markdown cells can be edited by typically double-clicking the cell to enter edit mode."
   ]
  },
  {
   "cell_type": "markdown",
   "metadata": {},
   "source": [
    "---\n",
    "## Step 0: Load The Data"
   ]
  },
  {
   "cell_type": "code",
   "execution_count": 1,
   "metadata": {
    "collapsed": true
   },
   "outputs": [],
   "source": [
    "%matplotlib inline\n",
    "import matplotlib.pyplot as plt\n",
    "import seaborn as sns\n",
    "import numpy as np\n",
    "import csv\n",
    "from sklearn.model_selection import train_test_split\n",
    "from sklearn.utils import shuffle\n",
    "from tqdm import tqdm, tqdm_notebook, tnrange\n",
    "import tensorflow as tf\n",
    "import math\n",
    "import os\n",
    "#from sklearn.metrics import confusion_matrix\n",
    "#from sklearn.metrics import accuracy_score\n",
    "#from scipy import stats"
   ]
  },
  {
   "cell_type": "code",
   "execution_count": 2,
   "metadata": {
    "collapsed": false
   },
   "outputs": [
    {
     "name": "stdout",
     "output_type": "stream",
     "text": [
      "Data and modules loaded.\n"
     ]
    }
   ],
   "source": [
    "import pickle\n",
    "\n",
    "pickle_file = '/home/shreyas/Documents/sdcND/data/udacity_traffic_signs.pickle'\n",
    "with open(pickle_file, 'rb') as f:\n",
    "  pickle_data = pickle.load(f)\n",
    "  X_train = pickle_data['train_dataset']\n",
    "  y_train = pickle_data['train_labels']\n",
    "  X_valid = pickle_data['valid_dataset']\n",
    "  y_valid = pickle_data['valid_labels']\n",
    "  X_test = pickle_data['test_dataset']\n",
    "  y_test = pickle_data['test_labels']\n",
    "  del pickle_data  # Free up memory\n",
    "\n",
    "\n",
    "print('Data and modules loaded.')"
   ]
  },
  {
   "cell_type": "markdown",
   "metadata": {},
   "source": [
    "---\n",
    "\n",
    "## Step 1: Dataset Summary & Exploration\n",
    "\n",
    "The pickled data is a dictionary with 4 key/value pairs:\n",
    "\n",
    "- `'features'` is a 4D array containing raw pixel data of the traffic sign images, (num examples, width, height, channels).\n",
    "- `'labels'` is a 2D array containing the label/class id of the traffic sign. The file `signnames.csv` contains id -> name mappings for each id.\n",
    "- `'sizes'` is a list containing tuples, (width, height) representing the the original width and height the image.\n",
    "- `'coords'` is a list containing tuples, (x1, y1, x2, y2) representing coordinates of a bounding box around the sign in the image. **THESE COORDINATES ASSUME THE ORIGINAL IMAGE. THE PICKLED DATA CONTAINS RESIZED VERSIONS (32 by 32) OF THESE IMAGES**\n",
    "\n",
    "Complete the basic data summary below."
   ]
  },
  {
   "cell_type": "code",
   "execution_count": 3,
   "metadata": {
    "collapsed": false
   },
   "outputs": [
    {
     "name": "stdout",
     "output_type": "stream",
     "text": [
      "Number of training examples = 31367\n",
      "Number of testing examples = 12630\n",
      "Image data shape = (32, 32, 3)\n",
      "Number of classes = 43\n"
     ]
    }
   ],
   "source": [
    "# number of training examples\n",
    "n_train = len(X_train)\n",
    "# TODO: number of testing examples\n",
    "n_test = len(X_test)\n",
    "# TODO: what's the shape of an image?\n",
    "image_shape = X_train[0].shape\n",
    "# TODO: how many classes are in the dataset\n",
    "n_classes = len(set(y_train))\n",
    "\n",
    "print(\"Number of training examples =\", n_train)\n",
    "print(\"Number of testing examples =\", n_test)\n",
    "print(\"Image data shape =\", image_shape)\n",
    "print(\"Number of classes =\", n_classes)"
   ]
  },
  {
   "cell_type": "markdown",
   "metadata": {},
   "source": [
    "Visualize the German Traffic Signs Dataset using the pickled file(s). This is open ended, suggestions include: plotting traffic sign images, plotting the count of each sign, etc.\n",
    "\n",
    "The [Matplotlib](http://matplotlib.org/) [examples](http://matplotlib.org/examples/index.html) and [gallery](http://matplotlib.org/gallery.html) pages are a great resource for doing visualizations in Python.\n",
    "\n",
    "**NOTE:** It's recommended you start with something simple first. If you wish to do more, come back to it after you've completed the rest of the sections."
   ]
  },
  {
   "cell_type": "code",
   "execution_count": 4,
   "metadata": {
    "collapsed": true
   },
   "outputs": [],
   "source": [
    "### Data exploration visualization goes here.\n",
    "### Feel free to use as many code cells as needed.\n",
    "import matplotlib.pyplot as plt\n",
    "# Visualizations will be shown in the notebook.\n",
    "%matplotlib inline"
   ]
  },
  {
   "cell_type": "markdown",
   "metadata": {},
   "source": [
    "----\n",
    "\n",
    "## Step 2: Design and Test a Model Architecture\n",
    "\n",
    "Design and implement a deep learning model that learns to recognize traffic signs. Train and test your model on the [German Traffic Sign Dataset](http://benchmark.ini.rub.de/?section=gtsrb&subsection=dataset).\n",
    "\n",
    "There are various aspects to consider when thinking about this problem:\n",
    "\n",
    "- Neural network architecture\n",
    "- Play around preprocessing techniques (normalization, rgb to grayscale, etc)\n",
    "- Number of examples per label (some have more than others).\n",
    "- Generate fake data.\n",
    "\n",
    "Here is an example of a [published baseline model on this problem](http://yann.lecun.com/exdb/publis/pdf/sermanet-ijcnn-11.pdf). It's not required to be familiar with the approach used in the paper but, it's good practice to try to read papers like these.\n",
    "\n",
    "**NOTE:** The LeNet-5 implementation shown in the [classroom](https://classroom.udacity.com/nanodegrees/nd013/parts/fbf77062-5703-404e-b60c-95b78b2f3f9e/modules/6df7ae49-c61c-4bb2-a23e-6527e69209ec/lessons/601ae704-1035-4287-8b11-e2c2716217ad/concepts/d4aca031-508f-4e0b-b493-e7b706120f81) at the end of the CNN lesson is a solid starting point. You'll have to change the number of classes and possibly the preprocessing, but aside from that it's plug and play!"
   ]
  },
  {
   "cell_type": "markdown",
   "metadata": {},
   "source": [
    "### Implementation\n",
    "\n",
    "Use the code cell (or multiple code cells, if necessary) to implement the first step of your project. Once you have completed your implementation and are satisfied with the results, be sure to thoroughly answer the questions that follow."
   ]
  },
  {
   "cell_type": "code",
   "execution_count": 5,
   "metadata": {
    "collapsed": true
   },
   "outputs": [],
   "source": [
    "### Preprocess the data here.\n",
    "### Feel free to use as many code cells as needed.\n",
    "X_train = X_train.astype(np.float32)\n",
    "X_test = X_test.astype(np.float32)\n",
    "X_train, y_train = shuffle(X_train, y_train, random_state=42)"
   ]
  },
  {
   "cell_type": "markdown",
   "metadata": {},
   "source": [
    "### Question 1 \n",
    "\n",
    "_Describe how you preprocessed the data. Why did you choose that technique?_"
   ]
  },
  {
   "cell_type": "markdown",
   "metadata": {},
   "source": [
    "**Answer:**"
   ]
  },
  {
   "cell_type": "code",
   "execution_count": 6,
   "metadata": {
    "collapsed": false
   },
   "outputs": [],
   "source": [
    "### Generate data additional data (OPTIONAL!)\n",
    "### and split the data into training/validation/testing sets here.\n",
    "### Feel free to use as many code cells as needed.\n"
   ]
  },
  {
   "cell_type": "markdown",
   "metadata": {},
   "source": [
    "### Question 2\n",
    "\n",
    "_Describe how you set up the training, validation and testing data for your model. **Optional**: If you generated additional data, how did you generate the data? Why did you generate the data? What are the differences in the new dataset (with generated data) from the original dataset?_"
   ]
  },
  {
   "cell_type": "markdown",
   "metadata": {},
   "source": [
    "**Answer:**"
   ]
  },
  {
   "cell_type": "code",
   "execution_count": 7,
   "metadata": {
    "collapsed": false
   },
   "outputs": [],
   "source": [
    "### Define your architecture here.\n",
    "### Feel free to use as many code cells as needed.\n",
    "def weights(shape):\n",
    "    return tf.Variable(tf.truncated_normal(shape, mean=0.0, stddev=0.1))\n",
    "\n",
    "\n",
    "def biases(length):\n",
    "    return tf.Variable(tf.zeros(length))\n",
    "\n",
    "\n",
    "def conv2d(x, nb_filter,\n",
    "           filter_size=[1,1],  \n",
    "           strides=[1,1,1,1],\n",
    "           padding='SAME',\n",
    "           batch_norm=False,  \n",
    "           is_training=False):\n",
    "    \n",
    "    # get shape for weight tensor\n",
    "    nb_channel = int(x.get_shape()[3])\n",
    "    shape = [filter_size[0], filter_size[1], nb_channel, nb_filter]\n",
    "    \n",
    "    # initiate the weights\n",
    "    W = weights(shape)\n",
    "    # convolution\n",
    "    layer = tf.nn.conv2d(x, W, strides=strides, padding=padding)\n",
    "    \n",
    "    # batch_normalisation   \n",
    "    if batch_norm:\n",
    "        layer = tf.contrib.layers.batch_norm(layer, scale=True, updates_collections=None, is_training=is_training)\n",
    "        \n",
    "    return layer\n",
    "\n",
    "\n",
    "\n",
    "def flatten(layer):\n",
    "    layer_shape = layer.get_shape()\n",
    "    num_features = layer_shape[1:].num_elements()\n",
    "    layer_flat = tf.reshape(layer, [-1, num_features], name='flatten')\n",
    "    return layer_flat, num_features\n",
    "\n",
    "\n",
    "\n",
    "def dense(x, \n",
    "          nb_input, \n",
    "          nb_output,\n",
    "          batch_norm=False, \n",
    "          is_training=False,\n",
    "          relu=True):\n",
    "    \n",
    "    # get shape for weight tensor\n",
    "    shape = [nb_input, nb_output]\n",
    "    # intitiate weight matrix\n",
    "    W = weights(shape)\n",
    "    layer = tf.matmul(x,W)\n",
    "    \n",
    "    if batch_norm:\n",
    "        layer = tf.contrib.layers.batch_norm(layer, scale=True, updates_collections=None, is_training=is_training)\n",
    "    else:\n",
    "        b = biases(nb_output)\n",
    "        layer = tf.add(layer, b)\n",
    "    \n",
    "    # perform relu activation\n",
    "    if relu:\n",
    "        layer = tf.nn.relu(layer)\n",
    "    \n",
    "    return layer\n",
    "\n",
    "\n",
    "def max_pool(x, ksize=[1,3,3,1], strides=[1,2,2,1], padding='SAME'):\n",
    "    return tf.nn.max_pool(x, ksize=ksize, strides=strides, padding=padding)\n",
    "    \n",
    "\n",
    "def avg_pool(x, ksize=[1,3,3,1], strides=[1,2,2,1], padding='SAME'):\n",
    "    return tf.nn.avg_pool(x, ksize=ksize, strides=strides, padding=padding)\n",
    "\n",
    "def combined_pool(x):\n",
    "    return tf.add(max_pool(x),avg_pool(x))"
   ]
  },
  {
   "cell_type": "code",
   "execution_count": 8,
   "metadata": {
    "collapsed": true
   },
   "outputs": [],
   "source": [
    "def model1(x, keep_prob, is_training):\n",
    "    # learning color space \n",
    "    color_s1 = conv2d(X,10, batch_norm=True, is_training=is_training)\n",
    "    color_s2 = conv2d(color_s1,3, batch_norm=True, is_training=is_training)\n",
    "    \n",
    "    # block 1 - convolution \n",
    "    conv1x1 = conv2d(color_s2, nb_filter=64, filter_size=[1,1], batch_norm=True, is_training=is_training)\n",
    "    conv1x1 = tf.nn.relu(conv1x1)\n",
    "    conv5x5 = conv2d(conv1x1, nb_filter=64, filter_size=[5,5], batch_norm=True, is_training=is_training)\n",
    "    conv5x5 = tf.nn.relu(conv5x5)\n",
    "    conv1x1 = conv2d(conv5x5, nb_filter=128, filter_size=[1,1], batch_norm=True, is_training=is_training)\n",
    "    conv1x1 = tf.nn.relu(conv1x1)\n",
    "    \n",
    "    pool = combined_pool(conv1x1)\n",
    "    dropout = tf.nn.dropout(pool, keep_prob)\n",
    "    \n",
    "    # block 2 \n",
    "    \n",
    "    conv1x1 = conv2d(dropout, nb_filter=128, filter_size=[1,1], batch_norm=True, is_training=is_training)\n",
    "    conv1x1 = tf.nn.relu(conv1x1)\n",
    "    conv5x5 = conv2d(conv1x1, nb_filter=128, filter_size=[5,5], batch_norm=True, is_training=is_training)\n",
    "    conv5x5 = tf.nn.relu(conv5x5)\n",
    "    conv1x1 = conv2d(conv5x5, nb_filter=256, filter_size=[1,1], batch_norm=True, is_training=is_training)\n",
    "    conv1x1 = tf.nn.relu(conv1x1)\n",
    "    \n",
    "    pool = combined_pool(conv1x1)\n",
    "    dropout = tf.nn.dropout(pool, keep_prob)\n",
    "    \n",
    "    # block 3 \n",
    "    conv1x1 = conv2d(dropout, nb_filter=128, filter_size=[1,1], batch_norm=True, is_training=is_training)\n",
    "    conv1x1 = tf.nn.relu(conv1x1)\n",
    "    conv3x3 = conv2d(conv1x1, nb_filter=128, filter_size=[3,3], batch_norm=True, is_training=is_training)\n",
    "    conv3x3 = tf.nn.relu(conv3x3)\n",
    "    conv1x1 = conv2d(conv3x3, nb_filter=256, filter_size=[1,1], batch_norm=True, is_training=is_training)\n",
    "    conv1x1 = tf.nn.relu(conv1x1)\n",
    "    \n",
    "    pool = combined_pool(conv1x1)\n",
    "    dropout = tf.nn.dropout(pool, keep_prob)\n",
    "    \n",
    "    # flatten the layer\n",
    "    flat, features = flatten(dropout)\n",
    "    \n",
    "    # frist dense layer\n",
    "    fc1 = dense(flat, features, 4096, batch_norm=True, is_training=is_training)\n",
    "    dropout = tf.nn.dropout(fc1, keep_prob)\n",
    "    \n",
    "    # output layer\n",
    "    output = dense(dropout, 4096, 43, relu=False) \n",
    "    return output"
   ]
  },
  {
   "cell_type": "code",
   "execution_count": 9,
   "metadata": {
    "collapsed": true
   },
   "outputs": [],
   "source": [
    "def model2(x, keep_prob, is_training):\n",
    "    # learning color space \n",
    "    color_s1 = conv2d(X,10, batch_norm=True, is_training=is_training)\n",
    "    color_s2 = conv2d(color_s1,3, batch_norm=True, is_training=is_training)\n",
    "    \n",
    "    # block 1 - convolution \n",
    "    conv1x1 = conv2d(color_s2, nb_filter=64, filter_size=[1,1], batch_norm=True, is_training=is_training)\n",
    "    conv1x1 = tf.nn.relu(conv1x1)\n",
    "    conv5x5 = conv2d(conv1x1, nb_filter=64, filter_size=[5,5], batch_norm=True, is_training=is_training)\n",
    "    conv5x5 = tf.nn.relu(conv5x5)\n",
    "    conv1x1 = conv2d(conv5x5, nb_filter=256, filter_size=[1,1], batch_norm=True, is_training=is_training)\n",
    "    conv1x1 = tf.nn.relu(conv1x1)\n",
    "    \n",
    "    pool = combined_pool(conv1x1)\n",
    "    dropout = tf.nn.dropout(pool, keep_prob)\n",
    "    \n",
    "    # block 2 \n",
    "    \n",
    "    conv1x1 = conv2d(dropout, nb_filter=128, filter_size=[1,1], batch_norm=True, is_training=is_training)\n",
    "    conv1x1 = tf.nn.relu(conv1x1)\n",
    "    conv5x5 = conv2d(conv1x1, nb_filter=128, filter_size=[5,5], batch_norm=True, is_training=is_training)\n",
    "    conv5x5 = tf.nn.relu(conv5x5)\n",
    "    conv1x1 = conv2d(conv5x5, nb_filter=256, filter_size=[1,1], batch_norm=True, is_training=is_training)\n",
    "        \n",
    "    net = tf.add(conv1x1, pool)\n",
    "    net = tf.nn.relu(net)\n",
    "    pool = combined_pool(net)\n",
    "    dropout = tf.nn.dropout(pool, keep_prob)\n",
    "    \n",
    "    # block 3 \n",
    "    \n",
    "    conv1x1 = conv2d(dropout, nb_filter=128, filter_size=[1,1], batch_norm=True, is_training=is_training)\n",
    "    conv1x1 = tf.nn.relu(conv1x1)\n",
    "    conv3x3 = conv2d(conv1x1, nb_filter=128, filter_size=[3,3], batch_norm=True, is_training=is_training)\n",
    "    conv3x3 = tf.nn.relu(conv3x3)\n",
    "    conv1x1 = conv2d(conv3x3, nb_filter=256, filter_size=[1,1], batch_norm=True, is_training=is_training)\n",
    "    \n",
    "    net = tf.add(conv1x1, pool)\n",
    "    net = tf.nn.relu(net)\n",
    "    pool = combined_pool(net)\n",
    "    dropout = tf.nn.dropout(pool, keep_prob)\n",
    "    \n",
    "    # flatten the layer\n",
    "    flat, features = flatten(dropout)\n",
    "    \n",
    "    # frist dense layer\n",
    "    fc1 = dense(flat, features, 4096, batch_norm=True, is_training=is_training)\n",
    "    dropout = tf.nn.dropout(fc1, keep_prob)\n",
    "          \n",
    "    # output layer\n",
    "    output = dense(dropout, 4096, 43, relu=False) \n",
    "    return output"
   ]
  },
  {
   "cell_type": "code",
   "execution_count": 10,
   "metadata": {
    "collapsed": true
   },
   "outputs": [],
   "source": [
    "def model3(x, keep_prob, is_training):\n",
    "    # learning color space \n",
    "    color_s1 = conv2d(X,10, batch_norm=True, is_training=is_training)\n",
    "    color_s2 = conv2d(color_s1,3, batch_norm=True, is_training=is_training)\n",
    "    \n",
    "    # block 1 - convolution \n",
    "    conv1x1 = conv2d(color_s2, nb_filter=64, filter_size=[1,1], batch_norm=True, is_training=is_training)\n",
    "    conv1x1 = tf.nn.relu(conv1x1)\n",
    "    conv5x5 = conv2d(conv1x1, nb_filter=64, filter_size=[5,5], batch_norm=True, is_training=is_training)\n",
    "    conv5x5 = tf.nn.relu(conv5x5)\n",
    "    conv1x1 = conv2d(conv5x5, nb_filter=256, filter_size=[1,1], batch_norm=True, is_training=is_training)\n",
    "    conv1x1 = tf.nn.relu(conv1x1)\n",
    "    \n",
    "    pool = combined_pool(conv1x1)\n",
    "    dropout = tf.nn.dropout(pool, keep_prob)\n",
    "    \n",
    "    # block 2 - inception\n",
    "    branch_pool = avg_pool(conv1x1)\n",
    "    branch_pool = conv2d(branch_pool, nb_filter=96, filter_size=[1,1], batch_norm=True, is_training=is_training)\n",
    "    \n",
    "    branch_conv1x1 = conv2d(dropout, nb_filter=96, filter_size=[1,1], batch_norm=True, is_training=is_training)\n",
    "    conv1x1 = conv2d(dropout, nb_filter=64, filter_size=[1,1], batch_norm=True, is_training=is_training)\n",
    "    branch_conv3x3 = conv2d(conv1x1, nb_filter=96, filter_size=[3,3], batch_norm=True, is_training=is_training)\n",
    "    branch2_conv3x3 = conv2d(branch_conv3x3, nb_filter=96, filter_size=[3,3], batch_norm=True, is_training=is_training)\n",
    "        \n",
    "    net = tf.concat(3,[branch_pool, branch_conv1x1, branch_conv3x3, branch2_conv3x3])\n",
    "    net = tf.nn.relu(net)\n",
    "    pool = max_pool(net)\n",
    "    dropout = tf.nn.dropout(pool, keep_prob)\n",
    "    \n",
    "    # block 3 - inception\n",
    "    branch_pool = avg_pool(net)\n",
    "    branch_pool = conv2d(branch_pool, nb_filter=96, filter_size=[1,1], batch_norm=True, is_training=is_training)\n",
    "    \n",
    "    branch_conv1x1 = conv2d(dropout, nb_filter=96, filter_size=[1,1], batch_norm=True, is_training=is_training)\n",
    "    conv1x1 = conv2d(dropout, nb_filter=64, filter_size=[1,1], batch_norm=True, is_training=is_training)\n",
    "    branch_conv3x3 = conv2d(conv1x1, nb_filter=96, filter_size=[3,3], batch_norm=True, is_training=is_training)\n",
    "    branch_conv5x5 = conv2d(conv1x1, nb_filter=96, filter_size=[5,5], batch_norm=True, is_training=is_training)\n",
    "    \n",
    "    net = tf.concat(3,[branch_pool, branch_conv1x1, branch_conv3x3, branch_conv5x5])\n",
    "    net = tf.nn.relu(net)\n",
    "    pool = max_pool(net)\n",
    "    dropout = tf.nn.dropout(pool, keep_prob)\n",
    "    \n",
    "    # flatten the layer\n",
    "    flat, features = flatten(dropout)\n",
    "    \n",
    "    # frist dense layer\n",
    "    fc1 = dense(flat, features, 4096, batch_norm=True, is_training=is_training)\n",
    "    dropout = tf.nn.dropout(fc1, keep_prob)\n",
    "        \n",
    "    # output layer\n",
    "    output = dense(dropout, 4096, 43, relu=False) \n",
    "    return output"
   ]
  },
  {
   "cell_type": "code",
   "execution_count": 11,
   "metadata": {
    "collapsed": true
   },
   "outputs": [],
   "source": [
    "def model4(x, keep_prob, is_training):\n",
    "    # learning color space \n",
    "    color_s1 = conv2d(X,10, batch_norm=True, is_training=is_training)\n",
    "    color_s2 = conv2d(color_s1,3, batch_norm=True, is_training=is_training)\n",
    "    \n",
    "    # block 1 - convolution \n",
    "    conv1x1 = conv2d(color_s2, nb_filter=64, filter_size=[1,1], batch_norm=True, is_training=is_training)\n",
    "    conv1x1 = tf.nn.relu(conv1x1)\n",
    "    conv5x5 = conv2d(conv1x1, nb_filter=64, filter_size=[5,5], batch_norm=True, is_training=is_training)\n",
    "    conv5x5 = tf.nn.relu(conv5x5)\n",
    "    conv1x1 = conv2d(conv5x5, nb_filter=384, filter_size=[1,1], batch_norm=True, is_training=is_training)\n",
    "    conv1x1 = tf.nn.relu(conv1x1)\n",
    "    \n",
    "    pool = combined_pool(conv1x1)\n",
    "    dropout = tf.nn.dropout(pool, keep_prob)\n",
    "    \n",
    "    # block 2 - inception\n",
    "    branch_pool = avg_pool(conv1x1)\n",
    "    branch_pool = conv2d(branch_pool, nb_filter=96, filter_size=[1,1], batch_norm=True, is_training=is_training)\n",
    "    \n",
    "    branch_conv1x1 = conv2d(dropout, nb_filter=96, filter_size=[1,1], batch_norm=True, is_training=is_training)\n",
    "    conv1x1 = conv2d(dropout, nb_filter=64, filter_size=[1,1], batch_norm=True, is_training=is_training)\n",
    "    branch_conv3x3 = conv2d(conv1x1, nb_filter=96, filter_size=[3,3], batch_norm=True, is_training=is_training)\n",
    "    branch2_conv3x3 = conv2d(branch_conv3x3, nb_filter=96, filter_size=[3,3], batch_norm=True, is_training=is_training)\n",
    "        \n",
    "    net = tf.concat(3,[branch_pool, branch_conv1x1, branch_conv3x3, branch2_conv3x3])\n",
    "    net = tf.add(pool,net)\n",
    "    net = tf.nn.relu(net)\n",
    "    pool = max_pool(net)\n",
    "    dropout = tf.nn.dropout(pool, keep_prob)\n",
    "    \n",
    "    # block 3 - inception\n",
    "    branch_pool = avg_pool(net)\n",
    "    branch_pool = conv2d(branch_pool, nb_filter=96, filter_size=[1,1], batch_norm=True, is_training=is_training)\n",
    "    \n",
    "    branch_conv1x1 = conv2d(dropout, nb_filter=96, filter_size=[1,1], batch_norm=True, is_training=is_training)\n",
    "    conv1x1 = conv2d(dropout, nb_filter=64, filter_size=[1,1], batch_norm=True, is_training=is_training)\n",
    "    branch_conv3x3 = conv2d(conv1x1, nb_filter=96, filter_size=[3,3], batch_norm=True, is_training=is_training)\n",
    "    branch_conv5x5 = conv2d(conv1x1, nb_filter=96, filter_size=[5,5], batch_norm=True, is_training=is_training)\n",
    "    \n",
    "    net = tf.concat(3,[branch_pool, branch_conv1x1, branch_conv3x3, branch_conv5x5])\n",
    "    net = tf.add(pool,net)\n",
    "    net = tf.nn.relu(net)\n",
    "    pool = max_pool(net)\n",
    "    dropout = tf.nn.dropout(pool, keep_prob)\n",
    "    \n",
    "    # flatten the layer\n",
    "    flat, features = flatten(dropout)\n",
    "    \n",
    "    # frist dense layer\n",
    "    fc1 = dense(flat, features, 4096, batch_norm=True, is_training=is_training)\n",
    "    dropout = tf.nn.dropout(fc1, keep_prob)\n",
    "   \n",
    "    # output layer\n",
    "    output = dense(dropout, 4096, 43, relu=False) \n",
    "    return output"
   ]
  },
  {
   "cell_type": "code",
   "execution_count": 12,
   "metadata": {
    "collapsed": true
   },
   "outputs": [],
   "source": [
    "def get_accuracy(y_pred, y):\n",
    "    #y_pred = tf.nn.softmax(logits)\n",
    "    correct_pred = tf.equal(tf.argmax(y_pred,1),y)\n",
    "    accuracy = tf.reduce_mean(tf.cast(correct_pred, tf.float32))\n",
    "    return accuracy\n",
    "\n",
    "def evaluate(X_data, y_data):\n",
    "    num_examples = len(X_data)\n",
    "    total_accuracy = 0\n",
    "    total_loss = 0\n",
    "    sess = tf.get_default_session()\n",
    "    for offset in range(0, num_examples, batch_size):\n",
    "        batch_x, batch_y = X_data[offset:offset+batch_size], y_data[offset:offset+batch_size]\n",
    "        acc, cost = sess.run([accuracy,loss], feed_dict={X: batch_x, y: batch_y, keep_prob:1.0, is_training:False})\n",
    "        total_accuracy += (acc * len(batch_x))\n",
    "        total_loss += cost\n",
    "    return total_accuracy/num_examples, total_loss/num_examples"
   ]
  },
  {
   "cell_type": "markdown",
   "metadata": {},
   "source": [
    "### Question 3\n",
    "\n",
    "_What does your final architecture look like? (Type of model, layers, sizes, connectivity, etc.)  For reference on how to build a deep neural network using TensorFlow, see [Deep Neural Network in TensorFlow\n",
    "](https://classroom.udacity.com/nanodegrees/nd013/parts/fbf77062-5703-404e-b60c-95b78b2f3f9e/modules/6df7ae49-c61c-4bb2-a23e-6527e69209ec/lessons/b516a270-8600-4f93-a0a3-20dfeabe5da6/concepts/83a3a2a2-a9bd-4b7b-95b0-eb924ab14432) from the classroom._\n"
   ]
  },
  {
   "cell_type": "markdown",
   "metadata": {},
   "source": [
    "**Answer:**"
   ]
  },
  {
   "cell_type": "code",
   "execution_count": 13,
   "metadata": {
    "collapsed": false
   },
   "outputs": [],
   "source": [
    "# placeholder for input and outputs\n",
    "X = tf.placeholder(tf.float32, (None, 32, 32, 3))\n",
    "y = tf.placeholder(tf.int64, (None))\n",
    "keep_prob = tf.placeholder(tf.float32)\n",
    "is_training = tf.placeholder(tf.bool, [])"
   ]
  },
  {
   "cell_type": "code",
   "execution_count": 14,
   "metadata": {
    "collapsed": false
   },
   "outputs": [],
   "source": [
    "### Train your model here.\n",
    "### Feel free to use as many code cells as needed.\n",
    "logits =model1(X, keep_prob, is_training)\n",
    "\n",
    "cross_entropy = tf.nn.sparse_softmax_cross_entropy_with_logits(logits, y)\n",
    "loss = tf.reduce_mean(cross_entropy)\n",
    "\n",
    "optimizer = tf.train.AdamOptimizer(3e-4).minimize(loss)\n",
    "\n",
    "accuracy = get_accuracy(logits, y)"
   ]
  },
  {
   "cell_type": "code",
   "execution_count": 15,
   "metadata": {
    "collapsed": false,
    "scrolled": false
   },
   "outputs": [
    {
     "name": "stderr",
     "output_type": "stream",
     "text": [
      "Epoch  1/200: 100%|██████████| 246/246 [00:41<00:00,  5.99batches/s]\n"
     ]
    },
    {
     "name": "stdout",
     "output_type": "stream",
     "text": [
      "Validation accuracy at 0.0592960979346755\n"
     ]
    },
    {
     "name": "stderr",
     "output_type": "stream",
     "text": [
      "Epoch  2/200: 100%|██████████| 246/246 [00:38<00:00,  6.45batches/s]\n",
      "Epoch  3/200:   0%|          | 1/246 [00:00<00:34,  7.05batches/s]"
     ]
    },
    {
     "name": "stdout",
     "output_type": "stream",
     "text": [
      "Validation accuracy at 0.02971180821266581\n"
     ]
    },
    {
     "name": "stderr",
     "output_type": "stream",
     "text": [
      "Epoch  3/200: 100%|██████████| 246/246 [00:38<00:00,  6.43batches/s]\n",
      "Epoch  4/200:   0%|          | 1/246 [00:00<00:33,  7.32batches/s]"
     ]
    },
    {
     "name": "stdout",
     "output_type": "stream",
     "text": [
      "Validation accuracy at 0.05483295078926383\n"
     ]
    },
    {
     "name": "stderr",
     "output_type": "stream",
     "text": [
      "Epoch  4/200: 100%|██████████| 246/246 [00:39<00:00,  6.29batches/s]\n",
      "Epoch  5/200:   0%|          | 1/246 [00:00<00:35,  6.88batches/s]"
     ]
    },
    {
     "name": "stdout",
     "output_type": "stream",
     "text": [
      "Validation accuracy at 0.05483295078926383\n"
     ]
    },
    {
     "name": "stderr",
     "output_type": "stream",
     "text": [
      "Epoch  5/200: 100%|██████████| 246/246 [00:38<00:00,  6.34batches/s]\n",
      "Epoch  6/200:   0%|          | 1/246 [00:00<00:34,  7.06batches/s]"
     ]
    },
    {
     "name": "stdout",
     "output_type": "stream",
     "text": [
      "Validation accuracy at 0.05483295078926383\n"
     ]
    },
    {
     "name": "stderr",
     "output_type": "stream",
     "text": [
      "Epoch  6/200: 100%|██████████| 246/246 [00:38<00:00,  6.37batches/s]\n",
      "Epoch  7/200:   0%|          | 1/246 [00:00<00:34,  7.06batches/s]"
     ]
    },
    {
     "name": "stdout",
     "output_type": "stream",
     "text": [
      "Validation accuracy at 0.009946442234123947\n"
     ]
    },
    {
     "name": "stderr",
     "output_type": "stream",
     "text": [
      "Epoch  7/200: 100%|██████████| 246/246 [00:39<00:00,  6.30batches/s]\n",
      "Epoch  8/200:   0%|          | 1/246 [00:00<00:35,  6.86batches/s]"
     ]
    },
    {
     "name": "stdout",
     "output_type": "stream",
     "text": [
      "Validation accuracy at 0.0056108135679673555\n"
     ]
    },
    {
     "name": "stderr",
     "output_type": "stream",
     "text": [
      "Epoch  8/200: 100%|██████████| 246/246 [00:39<00:00,  6.29batches/s]\n",
      "Epoch  9/200:   0%|          | 1/246 [00:00<00:33,  7.25batches/s]"
     ]
    },
    {
     "name": "stdout",
     "output_type": "stream",
     "text": [
      "Validation accuracy at 0.0056108135679673555\n"
     ]
    },
    {
     "name": "stderr",
     "output_type": "stream",
     "text": [
      "Epoch  9/200: 100%|██████████| 246/246 [00:38<00:00,  6.40batches/s]\n",
      "Epoch 10/200:   0%|          | 1/246 [00:00<00:35,  6.91batches/s]"
     ]
    },
    {
     "name": "stdout",
     "output_type": "stream",
     "text": [
      "Validation accuracy at 0.0056108135679673555\n"
     ]
    },
    {
     "name": "stderr",
     "output_type": "stream",
     "text": [
      "Epoch 10/200: 100%|██████████| 246/246 [00:39<00:00,  6.24batches/s]\n",
      "Epoch 11/200:   0%|          | 1/246 [00:00<00:38,  6.30batches/s]"
     ]
    },
    {
     "name": "stdout",
     "output_type": "stream",
     "text": [
      "Validation accuracy at 0.00612088752869166\n"
     ]
    },
    {
     "name": "stderr",
     "output_type": "stream",
     "text": [
      "Epoch 11/200: 100%|██████████| 246/246 [00:39<00:00,  6.20batches/s]\n",
      "Epoch 12/200:   0%|          | 1/246 [00:00<00:34,  7.11batches/s]"
     ]
    },
    {
     "name": "stdout",
     "output_type": "stream",
     "text": [
      "Validation accuracy at 0.010073960724305024\n"
     ]
    },
    {
     "name": "stderr",
     "output_type": "stream",
     "text": [
      "Epoch 12/200: 100%|██████████| 246/246 [00:39<00:00,  6.25batches/s]\n",
      "Epoch 13/200:   0%|          | 1/246 [00:00<00:34,  7.06batches/s]"
     ]
    },
    {
     "name": "stdout",
     "output_type": "stream",
     "text": [
      "Validation accuracy at 0.005738332058148432\n"
     ]
    },
    {
     "name": "stderr",
     "output_type": "stream",
     "text": [
      "Epoch 13/200: 100%|██████████| 246/246 [00:36<00:00,  6.68batches/s]\n",
      "Epoch 14/200:   0%|          | 1/246 [00:00<00:35,  6.96batches/s]"
     ]
    },
    {
     "name": "stdout",
     "output_type": "stream",
     "text": [
      "Validation accuracy at 0.005993369038510584\n"
     ]
    },
    {
     "name": "stderr",
     "output_type": "stream",
     "text": [
      "Epoch 14/200: 100%|██████████| 246/246 [00:39<00:00,  6.28batches/s]\n",
      "Epoch 15/200:   0%|          | 1/246 [00:00<00:34,  7.02batches/s]"
     ]
    },
    {
     "name": "stdout",
     "output_type": "stream",
     "text": [
      "Validation accuracy at 0.029201734251941506\n"
     ]
    },
    {
     "name": "stderr",
     "output_type": "stream",
     "text": [
      "Epoch 15/200: 100%|██████████| 246/246 [00:38<00:00,  6.33batches/s]\n",
      "Epoch 16/200:   0%|          | 1/246 [00:00<00:33,  7.27batches/s]"
     ]
    },
    {
     "name": "stdout",
     "output_type": "stream",
     "text": [
      "Validation accuracy at 0.0841622035290112\n"
     ]
    },
    {
     "name": "stderr",
     "output_type": "stream",
     "text": [
      "Epoch 16/200: 100%|██████████| 246/246 [00:38<00:00,  6.32batches/s]\n",
      "Epoch 17/200:   0%|          | 1/246 [00:00<00:35,  6.94batches/s]"
     ]
    },
    {
     "name": "stdout",
     "output_type": "stream",
     "text": [
      "Validation accuracy at 0.12050497324771949\n"
     ]
    },
    {
     "name": "stderr",
     "output_type": "stream",
     "text": [
      "Epoch 17/200: 100%|██████████| 246/246 [00:38<00:00,  6.41batches/s]\n",
      "Epoch 18/200:   0%|          | 1/246 [00:00<00:34,  7.13batches/s]"
     ]
    },
    {
     "name": "stdout",
     "output_type": "stream",
     "text": [
      "Validation accuracy at 0.17508288703001873\n"
     ]
    },
    {
     "name": "stderr",
     "output_type": "stream",
     "text": [
      "Epoch 18/200: 100%|██████████| 246/246 [00:38<00:00,  6.40batches/s]\n"
     ]
    },
    {
     "name": "stdout",
     "output_type": "stream",
     "text": [
      "Validation accuracy at 0.29329252746207957\n"
     ]
    },
    {
     "name": "stderr",
     "output_type": "stream",
     "text": [
      "Epoch 19/200: 100%|██████████| 246/246 [00:38<00:00,  6.40batches/s]\n"
     ]
    },
    {
     "name": "stdout",
     "output_type": "stream",
     "text": [
      "Validation accuracy at 0.3360112216727401\n"
     ]
    },
    {
     "name": "stderr",
     "output_type": "stream",
     "text": [
      "Epoch 20/200: 100%|██████████| 246/246 [00:38<00:00,  6.40batches/s]\n"
     ]
    },
    {
     "name": "stdout",
     "output_type": "stream",
     "text": [
      "Validation accuracy at 0.3729915838328529\n"
     ]
    },
    {
     "name": "stderr",
     "output_type": "stream",
     "text": [
      "Epoch 21/200: 100%|██████████| 246/246 [00:40<00:00,  6.05batches/s]\n",
      "Epoch 22/200:   0%|          | 1/246 [00:00<00:35,  6.94batches/s]"
     ]
    },
    {
     "name": "stdout",
     "output_type": "stream",
     "text": [
      "Validation accuracy at 0.4803621525349163\n"
     ]
    },
    {
     "name": "stderr",
     "output_type": "stream",
     "text": [
      "Epoch 22/200: 100%|██████████| 246/246 [00:38<00:00,  6.39batches/s]\n"
     ]
    },
    {
     "name": "stdout",
     "output_type": "stream",
     "text": [
      "Validation accuracy at 0.5793165011358516\n"
     ]
    },
    {
     "name": "stderr",
     "output_type": "stream",
     "text": [
      "Epoch 23/200: 100%|██████████| 246/246 [00:40<00:00,  6.04batches/s]\n",
      "Epoch 24/200:   0%|          | 1/246 [00:00<00:33,  7.28batches/s]"
     ]
    },
    {
     "name": "stdout",
     "output_type": "stream",
     "text": [
      "Validation accuracy at 0.6837541444573406\n"
     ]
    },
    {
     "name": "stderr",
     "output_type": "stream",
     "text": [
      "Epoch 24/200: 100%|██████████| 246/246 [00:38<00:00,  6.37batches/s]\n",
      "Epoch 25/200:   0%|          | 1/246 [00:00<00:35,  6.82batches/s]"
     ]
    },
    {
     "name": "stdout",
     "output_type": "stream",
     "text": [
      "Validation accuracy at 0.7149961746733154\n"
     ]
    },
    {
     "name": "stderr",
     "output_type": "stream",
     "text": [
      "Epoch 25/200: 100%|██████████| 246/246 [00:40<00:00,  6.05batches/s]\n"
     ]
    },
    {
     "name": "stdout",
     "output_type": "stream",
     "text": [
      "Validation accuracy at 0.8499107371176788\n"
     ]
    },
    {
     "name": "stderr",
     "output_type": "stream",
     "text": [
      "Epoch 26/200: 100%|██████████| 246/246 [00:35<00:00,  6.84batches/s]\n"
     ]
    },
    {
     "name": "stdout",
     "output_type": "stream",
     "text": [
      "Validation accuracy at 0.8788574343583804\n"
     ]
    },
    {
     "name": "stderr",
     "output_type": "stream",
     "text": [
      "Epoch 27/200: 100%|██████████| 246/246 [00:39<00:00,  6.30batches/s]\n",
      "Epoch 28/200:   0%|          | 1/246 [00:00<00:34,  7.11batches/s]"
     ]
    },
    {
     "name": "stdout",
     "output_type": "stream",
     "text": [
      "Validation accuracy at 0.8788574342519706\n"
     ]
    },
    {
     "name": "stderr",
     "output_type": "stream",
     "text": [
      "Epoch 28/200: 100%|██████████| 246/246 [00:41<00:00,  5.95batches/s]\n"
     ]
    },
    {
     "name": "stdout",
     "output_type": "stream",
     "text": [
      "Validation accuracy at 0.9334353481558809\n"
     ]
    },
    {
     "name": "stderr",
     "output_type": "stream",
     "text": [
      "Epoch 29/200: 100%|██████████| 246/246 [00:39<00:00,  6.29batches/s]\n"
     ]
    },
    {
     "name": "stdout",
     "output_type": "stream",
     "text": [
      "Validation accuracy at 0.9742412650138254\n"
     ]
    },
    {
     "name": "stderr",
     "output_type": "stream",
     "text": [
      "Epoch 30/200: 100%|██████████| 246/246 [00:39<00:00,  6.29batches/s]\n"
     ]
    },
    {
     "name": "stdout",
     "output_type": "stream",
     "text": [
      "Validation accuracy at 0.9853353736291762\n"
     ]
    },
    {
     "name": "stderr",
     "output_type": "stream",
     "text": [
      "Epoch 31/200: 100%|██████████| 246/246 [00:39<00:00,  6.28batches/s]\n",
      "Epoch 32/200:   0%|          | 1/246 [00:00<00:35,  6.84batches/s]"
     ]
    },
    {
     "name": "stdout",
     "output_type": "stream",
     "text": [
      "Validation accuracy at 0.9776842642183117\n"
     ]
    },
    {
     "name": "stderr",
     "output_type": "stream",
     "text": [
      "Epoch 32/200: 100%|██████████| 246/246 [00:38<00:00,  6.40batches/s]\n"
     ]
    },
    {
     "name": "stdout",
     "output_type": "stream",
     "text": [
      "Validation accuracy at 0.9873756694720734\n"
     ]
    },
    {
     "name": "stderr",
     "output_type": "stream",
     "text": [
      "Epoch 33/200: 100%|██████████| 246/246 [00:38<00:00,  6.45batches/s]\n",
      "Epoch 34/200:   0%|          | 1/246 [00:00<00:36,  6.74batches/s]"
     ]
    },
    {
     "name": "stdout",
     "output_type": "stream",
     "text": [
      "Validation accuracy at 0.9852078551389951\n"
     ]
    },
    {
     "name": "stderr",
     "output_type": "stream",
     "text": [
      "Epoch 34/200: 100%|██████████| 246/246 [00:40<00:00,  6.09batches/s]\n",
      "Epoch 35/200:   0%|          | 1/246 [00:00<00:37,  6.54batches/s]"
     ]
    },
    {
     "name": "stdout",
     "output_type": "stream",
     "text": [
      "Validation accuracy at 0.9889058914910589\n"
     ]
    },
    {
     "name": "stderr",
     "output_type": "stream",
     "text": [
      "Epoch 35/200: 100%|██████████| 246/246 [00:37<00:00,  6.50batches/s]\n",
      "Epoch 36/200:   0%|          | 1/246 [00:00<00:36,  6.79batches/s]"
     ]
    },
    {
     "name": "stdout",
     "output_type": "stream",
     "text": [
      "Validation accuracy at 0.9872481511187049\n"
     ]
    },
    {
     "name": "stderr",
     "output_type": "stream",
     "text": [
      "Epoch 36/200: 100%|██████████| 246/246 [00:37<00:00,  6.51batches/s]\n",
      "Epoch 37/200:   0%|          | 1/246 [00:00<00:36,  6.78batches/s]"
     ]
    },
    {
     "name": "stdout",
     "output_type": "stream",
     "text": [
      "Validation accuracy at 0.9803621525273156\n"
     ]
    },
    {
     "name": "stderr",
     "output_type": "stream",
     "text": [
      "Epoch 37/200: 100%|██████████| 246/246 [00:37<00:00,  6.51batches/s]\n"
     ]
    },
    {
     "name": "stdout",
     "output_type": "stream",
     "text": [
      "Validation accuracy at 0.9934965570007651\n"
     ]
    },
    {
     "name": "stderr",
     "output_type": "stream",
     "text": [
      "Epoch 38/200: 100%|██████████| 246/246 [00:37<00:00,  6.50batches/s]\n",
      "Epoch 39/200:   0%|          | 1/246 [00:00<00:36,  6.75batches/s]"
     ]
    },
    {
     "name": "stdout",
     "output_type": "stream",
     "text": [
      "Validation accuracy at 0.9929864830400408\n"
     ]
    },
    {
     "name": "stderr",
     "output_type": "stream",
     "text": [
      "Epoch 39/200: 100%|██████████| 246/246 [00:35<00:00,  6.90batches/s]\n"
     ]
    },
    {
     "name": "stdout",
     "output_type": "stream",
     "text": [
      "Validation accuracy at 0.993369038510584\n"
     ]
    },
    {
     "name": "stderr",
     "output_type": "stream",
     "text": [
      "Epoch 40/200: 100%|██████████| 246/246 [00:40<00:00,  6.11batches/s]\n",
      "Epoch 41/200:   0%|          | 1/246 [00:00<00:37,  6.56batches/s]"
     ]
    },
    {
     "name": "stdout",
     "output_type": "stream",
     "text": [
      "Validation accuracy at 0.9863555215506249\n"
     ]
    },
    {
     "name": "stderr",
     "output_type": "stream",
     "text": [
      "Epoch 41/200: 100%|██████████| 246/246 [00:37<00:00,  6.51batches/s]\n"
     ]
    },
    {
     "name": "stdout",
     "output_type": "stream",
     "text": [
      "Validation accuracy at 0.9946442234123948\n"
     ]
    },
    {
     "name": "stderr",
     "output_type": "stream",
     "text": [
      "Epoch 42/200: 100%|██████████| 246/246 [00:37<00:00,  6.53batches/s]\n",
      "Epoch 43/200:   0%|          | 1/246 [00:00<00:37,  6.51batches/s]"
     ]
    },
    {
     "name": "stdout",
     "output_type": "stream",
     "text": [
      "Validation accuracy at 0.9920938537455858\n"
     ]
    },
    {
     "name": "stderr",
     "output_type": "stream",
     "text": [
      "Epoch 43/200: 100%|██████████| 246/246 [00:37<00:00,  6.53batches/s]\n",
      "Epoch 44/200:   0%|          | 1/246 [00:00<00:35,  6.93batches/s]"
     ]
    },
    {
     "name": "stdout",
     "output_type": "stream",
     "text": [
      "Validation accuracy at 0.9909461871971436\n"
     ]
    },
    {
     "name": "stderr",
     "output_type": "stream",
     "text": [
      "Epoch 44/200: 100%|██████████| 246/246 [00:37<00:00,  6.53batches/s]\n",
      "Epoch 45/200:   0%|          | 1/246 [00:00<00:37,  6.60batches/s]"
     ]
    },
    {
     "name": "stdout",
     "output_type": "stream",
     "text": [
      "Validation accuracy at 0.993369038510584\n"
     ]
    },
    {
     "name": "stderr",
     "output_type": "stream",
     "text": [
      "Epoch 45/200: 100%|██████████| 246/246 [00:37<00:00,  6.53batches/s]\n"
     ]
    },
    {
     "name": "stdout",
     "output_type": "stream",
     "text": [
      "Validation accuracy at 0.9960469268043867\n"
     ]
    },
    {
     "name": "stderr",
     "output_type": "stream",
     "text": [
      "Epoch 46/200: 100%|██████████| 246/246 [00:37<00:00,  6.54batches/s]\n",
      "Epoch 47/200:   0%|          | 1/246 [00:00<00:37,  6.45batches/s]"
     ]
    },
    {
     "name": "stdout",
     "output_type": "stream",
     "text": [
      "Validation accuracy at 0.993241520020403\n"
     ]
    },
    {
     "name": "stderr",
     "output_type": "stream",
     "text": [
      "Epoch 47/200: 100%|██████████| 246/246 [00:37<00:00,  6.53batches/s]\n"
     ]
    },
    {
     "name": "stdout",
     "output_type": "stream",
     "text": [
      "Validation accuracy at 0.9959194083142056\n"
     ]
    },
    {
     "name": "stderr",
     "output_type": "stream",
     "text": [
      "Epoch 48/200: 100%|██████████| 246/246 [00:37<00:00,  6.53batches/s]\n"
     ]
    },
    {
     "name": "stdout",
     "output_type": "stream",
     "text": [
      "Validation accuracy at 0.9965570007651109\n"
     ]
    },
    {
     "name": "stderr",
     "output_type": "stream",
     "text": [
      "Epoch 49/200: 100%|██████████| 246/246 [00:37<00:00,  6.54batches/s]\n",
      "Epoch 50/200:   0%|          | 1/246 [00:00<00:38,  6.42batches/s]"
     ]
    },
    {
     "name": "stdout",
     "output_type": "stream",
     "text": [
      "Validation accuracy at 0.9938791126081208\n"
     ]
    },
    {
     "name": "stderr",
     "output_type": "stream",
     "text": [
      "Epoch 50/200: 100%|██████████| 246/246 [00:37<00:00,  6.53batches/s]\n",
      "Epoch 51/200:   0%|          | 1/246 [00:00<00:36,  6.71batches/s]"
     ]
    },
    {
     "name": "stdout",
     "output_type": "stream",
     "text": [
      "Validation accuracy at 0.9954093343534812\n"
     ]
    },
    {
     "name": "stderr",
     "output_type": "stream",
     "text": [
      "Epoch 51/200: 100%|██████████| 246/246 [00:37<00:00,  6.53batches/s]\n",
      "Epoch 52/200:   0%|          | 1/246 [00:00<00:36,  6.69batches/s]"
     ]
    },
    {
     "name": "stdout",
     "output_type": "stream",
     "text": [
      "Validation accuracy at 0.9892884468247896\n"
     ]
    },
    {
     "name": "stderr",
     "output_type": "stream",
     "text": [
      "Epoch 52/200: 100%|██████████| 246/246 [00:35<00:00,  6.93batches/s]\n",
      "Epoch 53/200:   0%|          | 1/246 [00:00<00:35,  6.81batches/s]"
     ]
    },
    {
     "name": "stdout",
     "output_type": "stream",
     "text": [
      "Validation accuracy at 0.9957918898240244\n"
     ]
    },
    {
     "name": "stderr",
     "output_type": "stream",
     "text": [
      "Epoch 53/200: 100%|██████████| 246/246 [00:37<00:00,  6.53batches/s]\n",
      "Epoch 54/200:   0%|          | 1/246 [00:00<00:38,  6.44batches/s]"
     ]
    },
    {
     "name": "stdout",
     "output_type": "stream",
     "text": [
      "Validation accuracy at 0.9928589645498598\n"
     ]
    },
    {
     "name": "stderr",
     "output_type": "stream",
     "text": [
      "Epoch 54/200: 100%|██████████| 246/246 [00:37<00:00,  6.53batches/s]\n",
      "Epoch 55/200:   0%|          | 1/246 [00:00<00:36,  6.76batches/s]"
     ]
    },
    {
     "name": "stdout",
     "output_type": "stream",
     "text": [
      "Validation accuracy at 0.9943891864320327\n"
     ]
    },
    {
     "name": "stderr",
     "output_type": "stream",
     "text": [
      "Epoch 55/200: 100%|██████████| 246/246 [00:37<00:00,  6.53batches/s]\n",
      "Epoch 56/200:   0%|          | 1/246 [00:00<00:37,  6.53batches/s]"
     ]
    },
    {
     "name": "stdout",
     "output_type": "stream",
     "text": [
      "Validation accuracy at 0.9920938536087732\n"
     ]
    },
    {
     "name": "stderr",
     "output_type": "stream",
     "text": [
      "Epoch 56/200: 100%|██████████| 246/246 [00:37<00:00,  6.53batches/s]\n"
     ]
    },
    {
     "name": "stdout",
     "output_type": "stream",
     "text": [
      "Validation accuracy at 0.9970670747258352\n"
     ]
    },
    {
     "name": "stderr",
     "output_type": "stream",
     "text": [
      "Epoch 57/200: 100%|██████████| 246/246 [00:37<00:00,  6.54batches/s]\n"
     ]
    },
    {
     "name": "stdout",
     "output_type": "stream",
     "text": [
      "Validation accuracy at 0.9973221117061974\n"
     ]
    },
    {
     "name": "stderr",
     "output_type": "stream",
     "text": [
      "Epoch 58/200: 100%|██████████| 246/246 [00:37<00:00,  6.54batches/s]\n",
      "Epoch 59/200:   0%|          | 1/246 [00:00<00:34,  7.06batches/s]"
     ]
    },
    {
     "name": "stdout",
     "output_type": "stream",
     "text": [
      "Validation accuracy at 0.9970670747258352\n"
     ]
    },
    {
     "name": "stderr",
     "output_type": "stream",
     "text": [
      "Epoch 59/200: 100%|██████████| 246/246 [00:39<00:00,  6.17batches/s]\n",
      "Epoch 60/200:   0%|          | 1/246 [00:00<00:35,  6.95batches/s]"
     ]
    },
    {
     "name": "stdout",
     "output_type": "stream",
     "text": [
      "Validation accuracy at 0.9951542973731191\n"
     ]
    },
    {
     "name": "stderr",
     "output_type": "stream",
     "text": [
      "Epoch 60/200: 100%|██████████| 246/246 [00:37<00:00,  6.53batches/s]\n",
      "Epoch 61/200:   0%|          | 1/246 [00:00<00:35,  6.92batches/s]"
     ]
    },
    {
     "name": "stdout",
     "output_type": "stream",
     "text": [
      "Validation accuracy at 0.9940066309614894\n"
     ]
    },
    {
     "name": "stderr",
     "output_type": "stream",
     "text": [
      "Epoch 61/200: 100%|██████████| 246/246 [00:37<00:00,  6.58batches/s]\n"
     ]
    },
    {
     "name": "stdout",
     "output_type": "stream",
     "text": [
      "Validation accuracy at 0.9977046671767407\n"
     ]
    },
    {
     "name": "stderr",
     "output_type": "stream",
     "text": [
      "Epoch 62/200: 100%|██████████| 246/246 [00:37<00:00,  6.61batches/s]\n"
     ]
    },
    {
     "name": "stdout",
     "output_type": "stream",
     "text": [
      "Validation accuracy at 0.9984697781178271\n"
     ]
    },
    {
     "name": "stderr",
     "output_type": "stream",
     "text": [
      "Epoch 63/200: 100%|██████████| 246/246 [00:37<00:00,  6.60batches/s]\n",
      "Epoch 64/200:   0%|          | 1/246 [00:00<00:37,  6.58batches/s]"
     ]
    },
    {
     "name": "stdout",
     "output_type": "stream",
     "text": [
      "Validation accuracy at 0.9971945932160163\n"
     ]
    },
    {
     "name": "stderr",
     "output_type": "stream",
     "text": [
      "Epoch 64/200: 100%|██████████| 246/246 [00:35<00:00,  7.00batches/s]\n",
      "Epoch 65/200:   0%|          | 0/246 [00:00<?, ?batches/s]"
     ]
    },
    {
     "name": "stdout",
     "output_type": "stream",
     "text": [
      "Validation accuracy at 0.9969395562356542\n"
     ]
    },
    {
     "name": "stderr",
     "output_type": "stream",
     "text": [
      "Epoch 65/200: 100%|██████████| 246/246 [00:37<00:00,  6.61batches/s]\n",
      "Epoch 66/200:   0%|          | 1/246 [00:00<00:36,  6.75batches/s]"
     ]
    },
    {
     "name": "stdout",
     "output_type": "stream",
     "text": [
      "Validation accuracy at 0.9970670747258352\n"
     ]
    },
    {
     "name": "stderr",
     "output_type": "stream",
     "text": [
      "Epoch 66/200: 100%|██████████| 246/246 [00:37<00:00,  6.60batches/s]\n",
      "Epoch 67/200:   0%|          | 1/246 [00:00<00:37,  6.61batches/s]"
     ]
    },
    {
     "name": "stdout",
     "output_type": "stream",
     "text": [
      "Validation accuracy at 0.9941341494516704\n"
     ]
    },
    {
     "name": "stderr",
     "output_type": "stream",
     "text": [
      "Epoch 67/200: 100%|██████████| 246/246 [00:37<00:00,  6.60batches/s]\n",
      "Epoch 68/200:   0%|          | 1/246 [00:00<00:36,  6.64batches/s]"
     ]
    },
    {
     "name": "stdout",
     "output_type": "stream",
     "text": [
      "Validation accuracy at 0.9973221117061974\n"
     ]
    },
    {
     "name": "stderr",
     "output_type": "stream",
     "text": [
      "Epoch 68/200: 100%|██████████| 246/246 [00:37<00:00,  6.61batches/s]\n",
      "Epoch 69/200:   0%|          | 1/246 [00:00<00:36,  6.75batches/s]"
     ]
    },
    {
     "name": "stdout",
     "output_type": "stream",
     "text": [
      "Validation accuracy at 0.996684519255292\n"
     ]
    },
    {
     "name": "stderr",
     "output_type": "stream",
     "text": [
      "Epoch 69/200: 100%|██████████| 246/246 [00:37<00:00,  6.61batches/s]\n",
      "Epoch 70/200:   0%|          | 1/246 [00:00<00:36,  6.73batches/s]"
     ]
    },
    {
     "name": "stdout",
     "output_type": "stream",
     "text": [
      "Validation accuracy at 0.9974496301963784\n"
     ]
    },
    {
     "name": "stderr",
     "output_type": "stream",
     "text": [
      "Epoch 70/200: 100%|██████████| 246/246 [00:37<00:00,  6.54batches/s]\n",
      "Epoch 71/200:   0%|          | 1/246 [00:00<00:36,  6.71batches/s]"
     ]
    },
    {
     "name": "stdout",
     "output_type": "stream",
     "text": [
      "Validation accuracy at 0.9977046671767407\n"
     ]
    },
    {
     "name": "stderr",
     "output_type": "stream",
     "text": [
      "Epoch 71/200: 100%|██████████| 246/246 [00:37<00:00,  6.60batches/s]\n",
      "Epoch 72/200:   0%|          | 1/246 [00:00<00:36,  6.72batches/s]"
     ]
    },
    {
     "name": "stdout",
     "output_type": "stream",
     "text": [
      "Validation accuracy at 0.9984697781178271\n"
     ]
    },
    {
     "name": "stderr",
     "output_type": "stream",
     "text": [
      "Epoch 72/200: 100%|██████████| 246/246 [00:37<00:00,  6.61batches/s]\n",
      "Epoch 73/200:   0%|          | 1/246 [00:00<00:36,  6.73batches/s]"
     ]
    },
    {
     "name": "stdout",
     "output_type": "stream",
     "text": [
      "Validation accuracy at 0.9963019637847488\n"
     ]
    },
    {
     "name": "stderr",
     "output_type": "stream",
     "text": [
      "Epoch 73/200: 100%|██████████| 246/246 [00:39<00:00,  6.21batches/s]\n"
     ]
    },
    {
     "name": "stdout",
     "output_type": "stream",
     "text": [
      "Validation accuracy at 0.998342259627646\n"
     ]
    },
    {
     "name": "stderr",
     "output_type": "stream",
     "text": [
      "Epoch 74/200: 100%|██████████| 246/246 [00:37<00:00,  6.61batches/s]\n",
      "Epoch 75/200:   0%|          | 1/246 [00:00<00:37,  6.58batches/s]"
     ]
    },
    {
     "name": "stdout",
     "output_type": "stream",
     "text": [
      "Validation accuracy at 0.995026778882938\n"
     ]
    },
    {
     "name": "stderr",
     "output_type": "stream",
     "text": [
      "Epoch 75/200: 100%|██████████| 246/246 [00:37<00:00,  6.60batches/s]\n",
      "Epoch 76/200:   0%|          | 1/246 [00:00<00:36,  6.70batches/s]"
     ]
    },
    {
     "name": "stdout",
     "output_type": "stream",
     "text": [
      "Validation accuracy at 0.9887783728640653\n"
     ]
    },
    {
     "name": "stderr",
     "output_type": "stream",
     "text": [
      "Epoch 76/200: 100%|██████████| 246/246 [00:37<00:00,  6.61batches/s]\n",
      "Epoch 77/200:   0%|          | 1/246 [00:00<00:37,  6.56batches/s]"
     ]
    },
    {
     "name": "stdout",
     "output_type": "stream",
     "text": [
      "Validation accuracy at 0.9965570007651109\n"
     ]
    },
    {
     "name": "stderr",
     "output_type": "stream",
     "text": [
      "Epoch 77/200: 100%|██████████| 246/246 [00:35<00:00,  7.00batches/s]\n",
      "Epoch 78/200:   0%|          | 1/246 [00:00<00:36,  6.63batches/s]"
     ]
    },
    {
     "name": "stdout",
     "output_type": "stream",
     "text": [
      "Validation accuracy at 0.9977046671767407\n"
     ]
    },
    {
     "name": "stderr",
     "output_type": "stream",
     "text": [
      "Epoch 78/200: 100%|██████████| 246/246 [00:37<00:00,  6.61batches/s]\n",
      "Epoch 79/200:   0%|          | 1/246 [00:00<00:36,  6.65batches/s]"
     ]
    },
    {
     "name": "stdout",
     "output_type": "stream",
     "text": [
      "Validation accuracy at 0.9970670747258352\n"
     ]
    },
    {
     "name": "stderr",
     "output_type": "stream",
     "text": [
      "Epoch 79/200: 100%|██████████| 246/246 [00:37<00:00,  6.61batches/s]\n",
      "Epoch 80/200:   0%|          | 1/246 [00:00<00:37,  6.61batches/s]"
     ]
    },
    {
     "name": "stdout",
     "output_type": "stream",
     "text": [
      "Validation accuracy at 0.9977046671767407\n"
     ]
    },
    {
     "name": "stderr",
     "output_type": "stream",
     "text": [
      "Epoch 80/200: 100%|██████████| 246/246 [00:37<00:00,  6.61batches/s]\n",
      "Epoch 81/200:   0%|          | 1/246 [00:00<00:36,  6.66batches/s]"
     ]
    },
    {
     "name": "stdout",
     "output_type": "stream",
     "text": [
      "Validation accuracy at 0.9931140015302219\n"
     ]
    },
    {
     "name": "stderr",
     "output_type": "stream",
     "text": [
      "Epoch 81/200: 100%|██████████| 246/246 [00:37<00:00,  6.60batches/s]\n",
      "Epoch 82/200:   0%|          | 1/246 [00:00<00:36,  6.71batches/s]"
     ]
    },
    {
     "name": "stdout",
     "output_type": "stream",
     "text": [
      "Validation accuracy at 0.9973221117061974\n"
     ]
    },
    {
     "name": "stderr",
     "output_type": "stream",
     "text": [
      "Epoch 82/200: 100%|██████████| 246/246 [00:37<00:00,  6.61batches/s]\n",
      "Epoch 83/200:   0%|          | 1/246 [00:00<00:36,  6.75batches/s]"
     ]
    },
    {
     "name": "stdout",
     "output_type": "stream",
     "text": [
      "Validation accuracy at 0.9979597041571028\n"
     ]
    },
    {
     "name": "stderr",
     "output_type": "stream",
     "text": [
      "Epoch 83/200: 100%|██████████| 246/246 [00:37<00:00,  6.61batches/s]\n",
      "Epoch 84/200:   0%|          | 1/246 [00:00<00:35,  6.91batches/s]"
     ]
    },
    {
     "name": "stdout",
     "output_type": "stream",
     "text": [
      "Validation accuracy at 0.9984697781178271\n"
     ]
    },
    {
     "name": "stderr",
     "output_type": "stream",
     "text": [
      "Epoch 84/200: 100%|██████████| 246/246 [00:37<00:00,  6.61batches/s]\n",
      "Epoch 85/200:   0%|          | 1/246 [00:00<00:36,  6.72batches/s]"
     ]
    },
    {
     "name": "stdout",
     "output_type": "stream",
     "text": [
      "Validation accuracy at 0.9982147411374649\n"
     ]
    },
    {
     "name": "stderr",
     "output_type": "stream",
     "text": [
      "Epoch 85/200: 100%|██████████| 246/246 [00:37<00:00,  6.61batches/s]\n",
      "Epoch 86/200:   0%|          | 1/246 [00:00<00:36,  6.62batches/s]"
     ]
    },
    {
     "name": "stdout",
     "output_type": "stream",
     "text": [
      "Validation accuracy at 0.9980872226472839\n"
     ]
    },
    {
     "name": "stderr",
     "output_type": "stream",
     "text": [
      "Epoch 86/200: 100%|██████████| 246/246 [00:37<00:00,  6.60batches/s]\n",
      "Epoch 87/200:   0%|          | 1/246 [00:00<00:36,  6.76batches/s]"
     ]
    },
    {
     "name": "stdout",
     "output_type": "stream",
     "text": [
      "Validation accuracy at 0.9894159653149707\n"
     ]
    },
    {
     "name": "stderr",
     "output_type": "stream",
     "text": [
      "Epoch 87/200: 100%|██████████| 246/246 [00:37<00:00,  6.61batches/s]\n",
      "Epoch 88/200:   0%|          | 1/246 [00:00<00:36,  6.74batches/s]"
     ]
    },
    {
     "name": "stdout",
     "output_type": "stream",
     "text": [
      "Validation accuracy at 0.9971945932160163\n"
     ]
    },
    {
     "name": "stderr",
     "output_type": "stream",
     "text": [
      "Epoch 88/200: 100%|██████████| 246/246 [00:37<00:00,  6.61batches/s]\n",
      "Epoch 89/200:   0%|          | 1/246 [00:00<00:36,  6.66batches/s]"
     ]
    },
    {
     "name": "stdout",
     "output_type": "stream",
     "text": [
      "Validation accuracy at 0.9978321856669217\n"
     ]
    },
    {
     "name": "stderr",
     "output_type": "stream",
     "text": [
      "Epoch 89/200: 100%|██████████| 246/246 [00:37<00:00,  6.61batches/s]\n",
      "Epoch 90/200:   0%|          | 1/246 [00:00<00:36,  6.74batches/s]"
     ]
    },
    {
     "name": "stdout",
     "output_type": "stream",
     "text": [
      "Validation accuracy at 0.9968120377454731\n"
     ]
    },
    {
     "name": "stderr",
     "output_type": "stream",
     "text": [
      "Epoch 90/200: 100%|██████████| 246/246 [00:35<00:00,  7.00batches/s]\n"
     ]
    },
    {
     "name": "stdout",
     "output_type": "stream",
     "text": [
      "Validation accuracy at 0.9988523335883703\n"
     ]
    },
    {
     "name": "stderr",
     "output_type": "stream",
     "text": [
      "Epoch 91/200: 100%|██████████| 246/246 [00:37<00:00,  6.61batches/s]\n"
     ]
    },
    {
     "name": "stdout",
     "output_type": "stream",
     "text": [
      "Validation accuracy at 0.9992348890589136\n"
     ]
    },
    {
     "name": "stderr",
     "output_type": "stream",
     "text": [
      "Epoch 92/200: 100%|██████████| 246/246 [00:37<00:00,  6.61batches/s]\n",
      "Epoch 93/200:   0%|          | 1/246 [00:00<00:36,  6.76batches/s]"
     ]
    },
    {
     "name": "stdout",
     "output_type": "stream",
     "text": [
      "Validation accuracy at 0.9980872226472839\n"
     ]
    },
    {
     "name": "stderr",
     "output_type": "stream",
     "text": [
      "Epoch 93/200: 100%|██████████| 246/246 [00:37<00:00,  6.60batches/s]\n",
      "Epoch 94/200:   0%|          | 1/246 [00:00<00:36,  6.76batches/s]"
     ]
    },
    {
     "name": "stdout",
     "output_type": "stream",
     "text": [
      "Validation accuracy at 0.9952818158633002\n"
     ]
    },
    {
     "name": "stderr",
     "output_type": "stream",
     "text": [
      "Epoch 94/200: 100%|██████████| 246/246 [00:37<00:00,  6.60batches/s]\n",
      "Epoch 95/200:   0%|          | 1/246 [00:00<00:36,  6.74batches/s]"
     ]
    },
    {
     "name": "stdout",
     "output_type": "stream",
     "text": [
      "Validation accuracy at 0.9979597041571028\n"
     ]
    },
    {
     "name": "stderr",
     "output_type": "stream",
     "text": [
      "Epoch 95/200: 100%|██████████| 246/246 [00:37<00:00,  6.61batches/s]\n",
      "Epoch 96/200:   0%|          | 1/246 [00:00<00:36,  6.73batches/s]"
     ]
    },
    {
     "name": "stdout",
     "output_type": "stream",
     "text": [
      "Validation accuracy at 0.9984697781178271\n"
     ]
    },
    {
     "name": "stderr",
     "output_type": "stream",
     "text": [
      "Epoch 96/200: 100%|██████████| 246/246 [00:37<00:00,  6.61batches/s]\n"
     ]
    },
    {
     "name": "stdout",
     "output_type": "stream",
     "text": [
      "Validation accuracy at 0.9984697781178271\n"
     ]
    },
    {
     "name": "stderr",
     "output_type": "stream",
     "text": [
      "Epoch 97/200: 100%|██████████| 246/246 [00:37<00:00,  6.61batches/s]\n",
      "Epoch 98/200:   0%|          | 1/246 [00:00<00:36,  6.68batches/s]"
     ]
    },
    {
     "name": "stdout",
     "output_type": "stream",
     "text": [
      "Validation accuracy at 0.9974496301963784\n"
     ]
    },
    {
     "name": "stderr",
     "output_type": "stream",
     "text": [
      "Epoch 98/200: 100%|██████████| 246/246 [00:37<00:00,  6.60batches/s]\n",
      "Epoch 99/200:   0%|          | 1/246 [00:00<00:36,  6.80batches/s]"
     ]
    },
    {
     "name": "stdout",
     "output_type": "stream",
     "text": [
      "Validation accuracy at 0.9977046671767407\n"
     ]
    },
    {
     "name": "stderr",
     "output_type": "stream",
     "text": [
      "Epoch 99/200: 100%|██████████| 246/246 [00:37<00:00,  6.61batches/s]\n",
      "Epoch 100/200:   0%|          | 1/246 [00:00<00:36,  6.81batches/s]"
     ]
    },
    {
     "name": "stdout",
     "output_type": "stream",
     "text": [
      "Validation accuracy at 0.9973221117061974\n"
     ]
    },
    {
     "name": "stderr",
     "output_type": "stream",
     "text": [
      "Epoch 100/200: 100%|██████████| 246/246 [00:37<00:00,  6.60batches/s]\n",
      "Epoch 101/200:   0%|          | 1/246 [00:00<00:36,  6.70batches/s]"
     ]
    },
    {
     "name": "stdout",
     "output_type": "stream",
     "text": [
      "Validation accuracy at 0.9970670747258352\n"
     ]
    },
    {
     "name": "stderr",
     "output_type": "stream",
     "text": [
      "Epoch 101/200: 100%|██████████| 246/246 [00:37<00:00,  6.61batches/s]\n",
      "Epoch 102/200:   0%|          | 1/246 [00:00<00:37,  6.47batches/s]"
     ]
    },
    {
     "name": "stdout",
     "output_type": "stream",
     "text": [
      "Validation accuracy at 0.9979597041571028\n"
     ]
    },
    {
     "name": "stderr",
     "output_type": "stream",
     "text": [
      "Epoch 102/200: 100%|██████████| 246/246 [00:37<00:00,  6.60batches/s]\n",
      "Epoch 103/200:   0%|          | 1/246 [00:00<00:37,  6.57batches/s]"
     ]
    },
    {
     "name": "stdout",
     "output_type": "stream",
     "text": [
      "Validation accuracy at 0.9974496301963784\n"
     ]
    },
    {
     "name": "stderr",
     "output_type": "stream",
     "text": [
      "Epoch 103/200: 100%|██████████| 246/246 [00:35<00:00,  7.00batches/s]\n",
      "Epoch 104/200:   0%|          | 1/246 [00:00<00:36,  6.72batches/s]"
     ]
    },
    {
     "name": "stdout",
     "output_type": "stream",
     "text": [
      "Validation accuracy at 0.9982147411374649\n"
     ]
    },
    {
     "name": "stderr",
     "output_type": "stream",
     "text": [
      "Epoch 104/200: 100%|██████████| 246/246 [00:37<00:00,  6.60batches/s]\n",
      "Epoch 105/200:   0%|          | 1/246 [00:00<00:37,  6.56batches/s]"
     ]
    },
    {
     "name": "stdout",
     "output_type": "stream",
     "text": [
      "Validation accuracy at 0.9977046671767407\n"
     ]
    },
    {
     "name": "stderr",
     "output_type": "stream",
     "text": [
      "Epoch 105/200: 100%|██████████| 246/246 [00:37<00:00,  6.60batches/s]\n",
      "Epoch 106/200:   0%|          | 1/246 [00:00<00:36,  6.80batches/s]"
     ]
    },
    {
     "name": "stdout",
     "output_type": "stream",
     "text": [
      "Validation accuracy at 0.9969395562356542\n"
     ]
    },
    {
     "name": "stderr",
     "output_type": "stream",
     "text": [
      "Epoch 106/200: 100%|██████████| 246/246 [00:37<00:00,  6.61batches/s]\n",
      "Epoch 107/200:   0%|          | 1/246 [00:00<00:35,  6.82batches/s]"
     ]
    },
    {
     "name": "stdout",
     "output_type": "stream",
     "text": [
      "Validation accuracy at 0.9985972966080081\n"
     ]
    },
    {
     "name": "stderr",
     "output_type": "stream",
     "text": [
      "Epoch 107/200: 100%|██████████| 246/246 [00:39<00:00,  6.21batches/s]\n",
      "Epoch 108/200:   0%|          | 1/246 [00:00<00:36,  6.77batches/s]"
     ]
    },
    {
     "name": "stdout",
     "output_type": "stream",
     "text": [
      "Validation accuracy at 0.9968120377454731\n"
     ]
    },
    {
     "name": "stderr",
     "output_type": "stream",
     "text": [
      "Epoch 108/200: 100%|██████████| 246/246 [00:37<00:00,  6.60batches/s]\n",
      "Epoch 109/200:   0%|          | 1/246 [00:00<00:36,  6.76batches/s]"
     ]
    },
    {
     "name": "stdout",
     "output_type": "stream",
     "text": [
      "Validation accuracy at 0.9957918898240244\n"
     ]
    },
    {
     "name": "stderr",
     "output_type": "stream",
     "text": [
      "Epoch 109/200: 100%|██████████| 246/246 [00:37<00:00,  6.61batches/s]\n",
      "Epoch 110/200:   0%|          | 1/246 [00:00<00:36,  6.75batches/s]"
     ]
    },
    {
     "name": "stdout",
     "output_type": "stream",
     "text": [
      "Validation accuracy at 0.9984697781178271\n"
     ]
    },
    {
     "name": "stderr",
     "output_type": "stream",
     "text": [
      "Epoch 110/200: 100%|██████████| 246/246 [00:37<00:00,  6.61batches/s]\n",
      "Epoch 111/200:   0%|          | 1/246 [00:00<00:36,  6.77batches/s]"
     ]
    },
    {
     "name": "stdout",
     "output_type": "stream",
     "text": [
      "Validation accuracy at 0.996684519255292\n"
     ]
    },
    {
     "name": "stderr",
     "output_type": "stream",
     "text": [
      "Epoch 111/200: 100%|██████████| 246/246 [00:37<00:00,  6.61batches/s]\n",
      "Epoch 112/200:   0%|          | 1/246 [00:00<00:36,  6.67batches/s]"
     ]
    },
    {
     "name": "stdout",
     "output_type": "stream",
     "text": [
      "Validation accuracy at 0.9974496301963784\n"
     ]
    },
    {
     "name": "stderr",
     "output_type": "stream",
     "text": [
      "Epoch 112/200: 100%|██████████| 246/246 [00:37<00:00,  6.61batches/s]\n",
      "Epoch 113/200:   0%|          | 1/246 [00:00<00:36,  6.72batches/s]"
     ]
    },
    {
     "name": "stdout",
     "output_type": "stream",
     "text": [
      "Validation accuracy at 0.9982147411374649\n"
     ]
    },
    {
     "name": "stderr",
     "output_type": "stream",
     "text": [
      "Epoch 113/200: 100%|██████████| 246/246 [00:37<00:00,  6.61batches/s]\n",
      "Epoch 114/200:   0%|          | 1/246 [00:00<00:36,  6.63batches/s]"
     ]
    },
    {
     "name": "stdout",
     "output_type": "stream",
     "text": [
      "Validation accuracy at 0.9952818158633002\n"
     ]
    },
    {
     "name": "stderr",
     "output_type": "stream",
     "text": [
      "Epoch 114/200: 100%|██████████| 246/246 [00:37<00:00,  6.60batches/s]\n",
      "Epoch 115/200:   0%|          | 1/246 [00:00<00:36,  6.72batches/s]"
     ]
    },
    {
     "name": "stdout",
     "output_type": "stream",
     "text": [
      "Validation accuracy at 0.9978321856669217\n"
     ]
    },
    {
     "name": "stderr",
     "output_type": "stream",
     "text": [
      "Epoch 115/200: 100%|██████████| 246/246 [00:37<00:00,  6.61batches/s]\n",
      "Epoch 116/200:   0%|          | 1/246 [00:00<00:36,  6.72batches/s]"
     ]
    },
    {
     "name": "stdout",
     "output_type": "stream",
     "text": [
      "Validation accuracy at 0.9952818158633002\n"
     ]
    },
    {
     "name": "stderr",
     "output_type": "stream",
     "text": [
      "Epoch 116/200: 100%|██████████| 246/246 [00:35<00:00,  7.00batches/s]\n",
      "Epoch 117/200:   0%|          | 1/246 [00:00<00:36,  6.77batches/s]"
     ]
    },
    {
     "name": "stdout",
     "output_type": "stream",
     "text": [
      "Validation accuracy at 0.9964294822749299\n"
     ]
    },
    {
     "name": "stderr",
     "output_type": "stream",
     "text": [
      "Epoch 117/200: 100%|██████████| 246/246 [00:37<00:00,  6.61batches/s]\n",
      "Epoch 118/200:   0%|          | 1/246 [00:00<00:36,  6.70batches/s]"
     ]
    },
    {
     "name": "stdout",
     "output_type": "stream",
     "text": [
      "Validation accuracy at 0.9926039275694976\n"
     ]
    },
    {
     "name": "stderr",
     "output_type": "stream",
     "text": [
      "Epoch 118/200: 100%|██████████| 246/246 [00:37<00:00,  6.60batches/s]\n",
      "Epoch 119/200:   0%|          | 1/246 [00:00<00:36,  6.79batches/s]"
     ]
    },
    {
     "name": "stdout",
     "output_type": "stream",
     "text": [
      "Validation accuracy at 0.998342259627646\n"
     ]
    },
    {
     "name": "stderr",
     "output_type": "stream",
     "text": [
      "Epoch 119/200: 100%|██████████| 246/246 [00:37<00:00,  6.61batches/s]\n",
      "Epoch 120/200:   0%|          | 1/246 [00:00<00:35,  6.83batches/s]"
     ]
    },
    {
     "name": "stdout",
     "output_type": "stream",
     "text": [
      "Validation accuracy at 0.9977046671767407\n"
     ]
    },
    {
     "name": "stderr",
     "output_type": "stream",
     "text": [
      "Epoch 120/200: 100%|██████████| 246/246 [00:37<00:00,  6.60batches/s]\n",
      "Epoch 121/200:   0%|          | 1/246 [00:00<00:36,  6.70batches/s]"
     ]
    },
    {
     "name": "stdout",
     "output_type": "stream",
     "text": [
      "Validation accuracy at 0.9973221117061974\n"
     ]
    },
    {
     "name": "stderr",
     "output_type": "stream",
     "text": [
      "Epoch 121/200: 100%|██████████| 246/246 [00:37<00:00,  6.60batches/s]\n",
      "Epoch 122/200:   0%|          | 1/246 [00:00<00:36,  6.77batches/s]"
     ]
    },
    {
     "name": "stdout",
     "output_type": "stream",
     "text": [
      "Validation accuracy at 0.9988523335883703\n"
     ]
    },
    {
     "name": "stderr",
     "output_type": "stream",
     "text": [
      "Epoch 122/200: 100%|██████████| 246/246 [00:37<00:00,  6.61batches/s]\n",
      "Epoch 123/200:   0%|          | 1/246 [00:00<00:37,  6.62batches/s]"
     ]
    },
    {
     "name": "stdout",
     "output_type": "stream",
     "text": [
      "Validation accuracy at 0.9987248150981892\n"
     ]
    },
    {
     "name": "stderr",
     "output_type": "stream",
     "text": [
      "Epoch 123/200: 100%|██████████| 246/246 [00:37<00:00,  6.60batches/s]\n",
      "Epoch 124/200:   0%|          | 1/246 [00:00<00:36,  6.73batches/s]"
     ]
    },
    {
     "name": "stdout",
     "output_type": "stream",
     "text": [
      "Validation accuracy at 0.998342259627646\n"
     ]
    },
    {
     "name": "stderr",
     "output_type": "stream",
     "text": [
      "Epoch 124/200: 100%|██████████| 246/246 [00:37<00:00,  6.60batches/s]\n",
      "Epoch 125/200:   0%|          | 1/246 [00:00<00:36,  6.74batches/s]"
     ]
    },
    {
     "name": "stdout",
     "output_type": "stream",
     "text": [
      "Validation accuracy at 0.9985972966080081\n"
     ]
    },
    {
     "name": "stderr",
     "output_type": "stream",
     "text": [
      "Epoch 125/200: 100%|██████████| 246/246 [00:37<00:00,  6.61batches/s]\n",
      "Epoch 126/200:   0%|          | 1/246 [00:00<00:36,  6.63batches/s]"
     ]
    },
    {
     "name": "stdout",
     "output_type": "stream",
     "text": [
      "Validation accuracy at 0.998342259627646\n"
     ]
    },
    {
     "name": "stderr",
     "output_type": "stream",
     "text": [
      "Epoch 126/200: 100%|██████████| 246/246 [00:37<00:00,  6.61batches/s]\n",
      "Epoch 127/200:   0%|          | 1/246 [00:00<00:36,  6.66batches/s]"
     ]
    },
    {
     "name": "stdout",
     "output_type": "stream",
     "text": [
      "Validation accuracy at 0.9984697781178271\n"
     ]
    },
    {
     "name": "stderr",
     "output_type": "stream",
     "text": [
      "Epoch 127/200: 100%|██████████| 246/246 [00:37<00:00,  6.60batches/s]\n",
      "Epoch 128/200:   0%|          | 1/246 [00:00<00:36,  6.76batches/s]"
     ]
    },
    {
     "name": "stdout",
     "output_type": "stream",
     "text": [
      "Validation accuracy at 0.9952818158633002\n"
     ]
    },
    {
     "name": "stderr",
     "output_type": "stream",
     "text": [
      "Epoch 128/200: 100%|██████████| 246/246 [00:35<00:00,  7.01batches/s]\n",
      "Epoch 129/200:   0%|          | 0/246 [00:00<?, ?batches/s]"
     ]
    },
    {
     "name": "stdout",
     "output_type": "stream",
     "text": [
      "Validation accuracy at 0.9968120377454731\n"
     ]
    },
    {
     "name": "stderr",
     "output_type": "stream",
     "text": [
      "Epoch 129/200: 100%|██████████| 246/246 [00:37<00:00,  6.60batches/s]\n",
      "Epoch 130/200:   0%|          | 1/246 [00:00<00:36,  6.73batches/s]"
     ]
    },
    {
     "name": "stdout",
     "output_type": "stream",
     "text": [
      "Validation accuracy at 0.9988523335883703\n"
     ]
    },
    {
     "name": "stderr",
     "output_type": "stream",
     "text": [
      "Epoch 130/200: 100%|██████████| 246/246 [00:37<00:00,  6.60batches/s]\n"
     ]
    },
    {
     "name": "stdout",
     "output_type": "stream",
     "text": [
      "Validation accuracy at 0.9991073705687324\n"
     ]
    },
    {
     "name": "stderr",
     "output_type": "stream",
     "text": [
      "Epoch 131/200: 100%|██████████| 246/246 [00:37<00:00,  6.61batches/s]\n",
      "Epoch 132/200:   0%|          | 1/246 [00:00<00:36,  6.73batches/s]"
     ]
    },
    {
     "name": "stdout",
     "output_type": "stream",
     "text": [
      "Validation accuracy at 0.997449630333191\n"
     ]
    },
    {
     "name": "stderr",
     "output_type": "stream",
     "text": [
      "Epoch 132/200: 100%|██████████| 246/246 [00:37<00:00,  6.60batches/s]\n",
      "Epoch 133/200:   0%|          | 1/246 [00:00<00:36,  6.72batches/s]"
     ]
    },
    {
     "name": "stdout",
     "output_type": "stream",
     "text": [
      "Validation accuracy at 0.9970670747258352\n"
     ]
    },
    {
     "name": "stderr",
     "output_type": "stream",
     "text": [
      "Epoch 133/200: 100%|██████████| 246/246 [00:37<00:00,  6.60batches/s]\n"
     ]
    },
    {
     "name": "stdout",
     "output_type": "stream",
     "text": [
      "Validation accuracy at 0.9991073705687324\n"
     ]
    },
    {
     "name": "stderr",
     "output_type": "stream",
     "text": [
      "Epoch 134/200: 100%|██████████| 246/246 [00:37<00:00,  6.61batches/s]\n",
      "Epoch 135/200:   0%|          | 1/246 [00:00<00:37,  6.62batches/s]"
     ]
    },
    {
     "name": "stdout",
     "output_type": "stream",
     "text": [
      "Validation accuracy at 0.9991073705687324\n"
     ]
    },
    {
     "name": "stderr",
     "output_type": "stream",
     "text": [
      "Epoch 135/200: 100%|██████████| 246/246 [00:37<00:00,  6.61batches/s]\n",
      "Epoch 136/200:   0%|          | 1/246 [00:00<00:36,  6.80batches/s]"
     ]
    },
    {
     "name": "stdout",
     "output_type": "stream",
     "text": [
      "Validation accuracy at 0.998342259627646\n"
     ]
    },
    {
     "name": "stderr",
     "output_type": "stream",
     "text": [
      "Epoch 136/200: 100%|██████████| 246/246 [00:37<00:00,  6.61batches/s]\n",
      "Epoch 137/200:   0%|          | 1/246 [00:00<00:35,  6.82batches/s]"
     ]
    },
    {
     "name": "stdout",
     "output_type": "stream",
     "text": [
      "Validation accuracy at 0.9988523335883703\n"
     ]
    },
    {
     "name": "stderr",
     "output_type": "stream",
     "text": [
      "Epoch 137/200: 100%|██████████| 246/246 [00:37<00:00,  6.61batches/s]\n",
      "Epoch 138/200:   0%|          | 1/246 [00:00<00:36,  6.74batches/s]"
     ]
    },
    {
     "name": "stdout",
     "output_type": "stream",
     "text": [
      "Validation accuracy at 0.9991073705687324\n"
     ]
    },
    {
     "name": "stderr",
     "output_type": "stream",
     "text": [
      "Epoch 138/200: 100%|██████████| 246/246 [00:37<00:00,  6.61batches/s]\n",
      "Epoch 139/200:   0%|          | 1/246 [00:00<00:36,  6.69batches/s]"
     ]
    },
    {
     "name": "stdout",
     "output_type": "stream",
     "text": [
      "Validation accuracy at 0.9977046671767407\n"
     ]
    },
    {
     "name": "stderr",
     "output_type": "stream",
     "text": [
      "Epoch 139/200: 100%|██████████| 246/246 [00:37<00:00,  6.60batches/s]\n",
      "Epoch 140/200:   0%|          | 1/246 [00:00<00:36,  6.69batches/s]"
     ]
    },
    {
     "name": "stdout",
     "output_type": "stream",
     "text": [
      "Validation accuracy at 0.9984697781178271\n"
     ]
    },
    {
     "name": "stderr",
     "output_type": "stream",
     "text": [
      "Epoch 140/200: 100%|██████████| 246/246 [00:37<00:00,  6.60batches/s]\n",
      "Epoch 141/200:   0%|          | 1/246 [00:00<00:36,  6.73batches/s]"
     ]
    },
    {
     "name": "stdout",
     "output_type": "stream",
     "text": [
      "Validation accuracy at 0.9987248150981892\n"
     ]
    },
    {
     "name": "stderr",
     "output_type": "stream",
     "text": [
      "Epoch 141/200: 100%|██████████| 246/246 [00:35<00:00,  7.01batches/s]\n",
      "Epoch 142/200:   0%|          | 1/246 [00:00<00:35,  6.84batches/s]"
     ]
    },
    {
     "name": "stdout",
     "output_type": "stream",
     "text": [
      "Validation accuracy at 0.9918388166284111\n"
     ]
    },
    {
     "name": "stderr",
     "output_type": "stream",
     "text": [
      "Epoch 142/200: 100%|██████████| 246/246 [00:37<00:00,  6.61batches/s]\n",
      "Epoch 143/200:   0%|          | 1/246 [00:00<00:37,  6.60batches/s]"
     ]
    },
    {
     "name": "stdout",
     "output_type": "stream",
     "text": [
      "Validation accuracy at 0.9991073705687324\n"
     ]
    },
    {
     "name": "stderr",
     "output_type": "stream",
     "text": [
      "Epoch 143/200: 100%|██████████| 246/246 [00:37<00:00,  6.61batches/s]\n",
      "Epoch 144/200:   0%|          | 1/246 [00:00<00:36,  6.63batches/s]"
     ]
    },
    {
     "name": "stdout",
     "output_type": "stream",
     "text": [
      "Validation accuracy at 0.9982147411374649\n"
     ]
    },
    {
     "name": "stderr",
     "output_type": "stream",
     "text": [
      "Epoch 144/200: 100%|██████████| 246/246 [00:37<00:00,  6.61batches/s]\n",
      "Epoch 145/200:   0%|          | 1/246 [00:00<00:36,  6.70batches/s]"
     ]
    },
    {
     "name": "stdout",
     "output_type": "stream",
     "text": [
      "Validation accuracy at 0.9971945932160163\n"
     ]
    },
    {
     "name": "stderr",
     "output_type": "stream",
     "text": [
      "Epoch 145/200: 100%|██████████| 246/246 [00:37<00:00,  6.60batches/s]\n",
      "Epoch 146/200:   0%|          | 1/246 [00:00<00:36,  6.72batches/s]"
     ]
    },
    {
     "name": "stdout",
     "output_type": "stream",
     "text": [
      "Validation accuracy at 0.9987248150981892\n"
     ]
    },
    {
     "name": "stderr",
     "output_type": "stream",
     "text": [
      "Epoch 146/200: 100%|██████████| 246/246 [00:37<00:00,  6.60batches/s]\n",
      "Epoch 147/200:   0%|          | 1/246 [00:00<00:36,  6.80batches/s]"
     ]
    },
    {
     "name": "stdout",
     "output_type": "stream",
     "text": [
      "Validation accuracy at 0.9993624075490947\n"
     ]
    },
    {
     "name": "stderr",
     "output_type": "stream",
     "text": [
      "Epoch 147/200: 100%|██████████| 246/246 [00:37<00:00,  6.60batches/s]\n",
      "Epoch 148/200:   0%|          | 1/246 [00:00<00:36,  6.73batches/s]"
     ]
    },
    {
     "name": "stdout",
     "output_type": "stream",
     "text": [
      "Validation accuracy at 0.9988523335883703\n"
     ]
    },
    {
     "name": "stderr",
     "output_type": "stream",
     "text": [
      "Epoch 148/200: 100%|██████████| 246/246 [00:37<00:00,  6.61batches/s]\n",
      "Epoch 149/200:   0%|          | 1/246 [00:00<00:36,  6.76batches/s]"
     ]
    },
    {
     "name": "stdout",
     "output_type": "stream",
     "text": [
      "Validation accuracy at 0.9989798520785514\n"
     ]
    },
    {
     "name": "stderr",
     "output_type": "stream",
     "text": [
      "Epoch 149/200: 100%|██████████| 246/246 [00:37<00:00,  6.61batches/s]\n",
      "Epoch 150/200:   0%|          | 1/246 [00:00<00:35,  6.85batches/s]"
     ]
    },
    {
     "name": "stdout",
     "output_type": "stream",
     "text": [
      "Validation accuracy at 0.9989798520785514\n"
     ]
    },
    {
     "name": "stderr",
     "output_type": "stream",
     "text": [
      "Epoch 150/200: 100%|██████████| 246/246 [00:37<00:00,  6.61batches/s]\n",
      "Epoch 151/200:   0%|          | 1/246 [00:00<00:35,  6.98batches/s]"
     ]
    },
    {
     "name": "stdout",
     "output_type": "stream",
     "text": [
      "Validation accuracy at 0.9977046671767407\n"
     ]
    },
    {
     "name": "stderr",
     "output_type": "stream",
     "text": [
      "Epoch 151/200: 100%|██████████| 246/246 [00:37<00:00,  6.61batches/s]\n",
      "Epoch 152/200:   0%|          | 1/246 [00:00<00:36,  6.80batches/s]"
     ]
    },
    {
     "name": "stdout",
     "output_type": "stream",
     "text": [
      "Validation accuracy at 0.9991073705687324\n"
     ]
    },
    {
     "name": "stderr",
     "output_type": "stream",
     "text": [
      "Epoch 152/200: 100%|██████████| 246/246 [00:37<00:00,  6.61batches/s]\n",
      "Epoch 153/200:   0%|          | 1/246 [00:00<00:35,  6.82batches/s]"
     ]
    },
    {
     "name": "stdout",
     "output_type": "stream",
     "text": [
      "Validation accuracy at 0.9992348890589136\n"
     ]
    },
    {
     "name": "stderr",
     "output_type": "stream",
     "text": [
      "Epoch 153/200: 100%|██████████| 246/246 [00:37<00:00,  6.61batches/s]\n",
      "Epoch 154/200:   0%|          | 1/246 [00:00<00:37,  6.57batches/s]"
     ]
    },
    {
     "name": "stdout",
     "output_type": "stream",
     "text": [
      "Validation accuracy at 0.9991073705687324\n"
     ]
    },
    {
     "name": "stderr",
     "output_type": "stream",
     "text": [
      "Epoch 154/200: 100%|██████████| 246/246 [00:35<00:00,  7.01batches/s]\n"
     ]
    },
    {
     "name": "stdout",
     "output_type": "stream",
     "text": [
      "Validation accuracy at 0.9996174445294568\n"
     ]
    },
    {
     "name": "stderr",
     "output_type": "stream",
     "text": [
      "Epoch 155/200: 100%|██████████| 246/246 [00:37<00:00,  6.61batches/s]\n",
      "Epoch 156/200:   0%|          | 1/246 [00:00<00:36,  6.72batches/s]"
     ]
    },
    {
     "name": "stdout",
     "output_type": "stream",
     "text": [
      "Validation accuracy at 0.9985972966080081\n"
     ]
    },
    {
     "name": "stderr",
     "output_type": "stream",
     "text": [
      "Epoch 156/200: 100%|██████████| 246/246 [00:37<00:00,  6.61batches/s]\n",
      "Epoch 157/200:   0%|          | 1/246 [00:00<00:36,  6.70batches/s]"
     ]
    },
    {
     "name": "stdout",
     "output_type": "stream",
     "text": [
      "Validation accuracy at 0.9989798520785514\n"
     ]
    },
    {
     "name": "stderr",
     "output_type": "stream",
     "text": [
      "Epoch 157/200: 100%|██████████| 246/246 [00:37<00:00,  6.60batches/s]\n",
      "Epoch 158/200:   0%|          | 1/246 [00:00<00:36,  6.74batches/s]"
     ]
    },
    {
     "name": "stdout",
     "output_type": "stream",
     "text": [
      "Validation accuracy at 0.9982147411374649\n"
     ]
    },
    {
     "name": "stderr",
     "output_type": "stream",
     "text": [
      "Epoch 158/200: 100%|██████████| 246/246 [00:37<00:00,  6.61batches/s]\n",
      "Epoch 159/200:   0%|          | 1/246 [00:00<00:36,  6.64batches/s]"
     ]
    },
    {
     "name": "stdout",
     "output_type": "stream",
     "text": [
      "Validation accuracy at 0.9979597041571028\n"
     ]
    },
    {
     "name": "stderr",
     "output_type": "stream",
     "text": [
      "Epoch 159/200: 100%|██████████| 246/246 [00:37<00:00,  6.60batches/s]\n",
      "Epoch 160/200:   0%|          | 1/246 [00:00<00:37,  6.61batches/s]"
     ]
    },
    {
     "name": "stdout",
     "output_type": "stream",
     "text": [
      "Validation accuracy at 0.9992348890589136\n"
     ]
    },
    {
     "name": "stderr",
     "output_type": "stream",
     "text": [
      "Epoch 160/200: 100%|██████████| 246/246 [00:37<00:00,  6.60batches/s]\n",
      "Epoch 161/200:   0%|          | 1/246 [00:00<00:36,  6.78batches/s]"
     ]
    },
    {
     "name": "stdout",
     "output_type": "stream",
     "text": [
      "Validation accuracy at 0.9987248150981892\n"
     ]
    },
    {
     "name": "stderr",
     "output_type": "stream",
     "text": [
      "Epoch 161/200: 100%|██████████| 246/246 [00:37<00:00,  6.60batches/s]\n",
      "Epoch 162/200:   0%|          | 1/246 [00:00<00:36,  6.80batches/s]"
     ]
    },
    {
     "name": "stdout",
     "output_type": "stream",
     "text": [
      "Validation accuracy at 0.9961744452945677\n"
     ]
    },
    {
     "name": "stderr",
     "output_type": "stream",
     "text": [
      "Epoch 162/200: 100%|██████████| 246/246 [00:37<00:00,  6.60batches/s]\n",
      "Epoch 163/200:   0%|          | 1/246 [00:00<00:36,  6.69batches/s]"
     ]
    },
    {
     "name": "stdout",
     "output_type": "stream",
     "text": [
      "Validation accuracy at 0.9985972966080081\n"
     ]
    },
    {
     "name": "stderr",
     "output_type": "stream",
     "text": [
      "Epoch 163/200: 100%|██████████| 246/246 [00:37<00:00,  6.60batches/s]\n",
      "Epoch 164/200:   0%|          | 1/246 [00:00<00:36,  6.77batches/s]"
     ]
    },
    {
     "name": "stdout",
     "output_type": "stream",
     "text": [
      "Validation accuracy at 0.998342259627646\n"
     ]
    },
    {
     "name": "stderr",
     "output_type": "stream",
     "text": [
      "Epoch 164/200: 100%|██████████| 246/246 [00:37<00:00,  6.60batches/s]\n",
      "Epoch 165/200:   0%|          | 1/246 [00:00<00:36,  6.74batches/s]"
     ]
    },
    {
     "name": "stdout",
     "output_type": "stream",
     "text": [
      "Validation accuracy at 0.9993624075490947\n"
     ]
    },
    {
     "name": "stderr",
     "output_type": "stream",
     "text": [
      "Epoch 165/200: 100%|██████████| 246/246 [00:37<00:00,  6.60batches/s]\n",
      "Epoch 166/200:   0%|          | 1/246 [00:00<00:36,  6.67batches/s]"
     ]
    },
    {
     "name": "stdout",
     "output_type": "stream",
     "text": [
      "Validation accuracy at 0.998342259627646\n"
     ]
    },
    {
     "name": "stderr",
     "output_type": "stream",
     "text": [
      "Epoch 166/200: 100%|██████████| 246/246 [00:37<00:00,  6.60batches/s]\n",
      "Epoch 167/200:   0%|          | 1/246 [00:00<00:36,  6.76batches/s]"
     ]
    },
    {
     "name": "stdout",
     "output_type": "stream",
     "text": [
      "Validation accuracy at 0.9989798520785514\n"
     ]
    },
    {
     "name": "stderr",
     "output_type": "stream",
     "text": [
      "Epoch 167/200: 100%|██████████| 246/246 [00:35<00:00,  7.00batches/s]\n",
      "Epoch 168/200:   0%|          | 1/246 [00:00<00:36,  6.71batches/s]"
     ]
    },
    {
     "name": "stdout",
     "output_type": "stream",
     "text": [
      "Validation accuracy at 0.9989798520785514\n"
     ]
    },
    {
     "name": "stderr",
     "output_type": "stream",
     "text": [
      "Epoch 168/200: 100%|██████████| 246/246 [00:37<00:00,  6.60batches/s]\n",
      "Epoch 169/200:   0%|          | 1/246 [00:00<00:36,  6.79batches/s]"
     ]
    },
    {
     "name": "stdout",
     "output_type": "stream",
     "text": [
      "Validation accuracy at 0.9987248150981892\n"
     ]
    },
    {
     "name": "stderr",
     "output_type": "stream",
     "text": [
      "Epoch 169/200: 100%|██████████| 246/246 [00:37<00:00,  6.60batches/s]\n",
      "Epoch 170/200:   0%|          | 1/246 [00:00<00:36,  6.73batches/s]"
     ]
    },
    {
     "name": "stdout",
     "output_type": "stream",
     "text": [
      "Validation accuracy at 0.9988523335883703\n"
     ]
    },
    {
     "name": "stderr",
     "output_type": "stream",
     "text": [
      "Epoch 170/200: 100%|██████████| 246/246 [00:37<00:00,  6.61batches/s]\n",
      "Epoch 171/200:   0%|          | 1/246 [00:00<00:36,  6.74batches/s]"
     ]
    },
    {
     "name": "stdout",
     "output_type": "stream",
     "text": [
      "Validation accuracy at 0.9992348890589136\n"
     ]
    },
    {
     "name": "stderr",
     "output_type": "stream",
     "text": [
      "Epoch 171/200: 100%|██████████| 246/246 [00:37<00:00,  6.60batches/s]\n",
      "Epoch 172/200:   0%|          | 1/246 [00:00<00:36,  6.67batches/s]"
     ]
    },
    {
     "name": "stdout",
     "output_type": "stream",
     "text": [
      "Validation accuracy at 0.9987248150981892\n"
     ]
    },
    {
     "name": "stderr",
     "output_type": "stream",
     "text": [
      "Epoch 172/200: 100%|██████████| 246/246 [00:37<00:00,  6.60batches/s]\n",
      "Epoch 173/200:   0%|          | 1/246 [00:00<00:36,  6.71batches/s]"
     ]
    },
    {
     "name": "stdout",
     "output_type": "stream",
     "text": [
      "Validation accuracy at 0.9947717419025759\n"
     ]
    },
    {
     "name": "stderr",
     "output_type": "stream",
     "text": [
      "Epoch 173/200: 100%|██████████| 246/246 [00:37<00:00,  6.60batches/s]\n",
      "Epoch 174/200:   0%|          | 1/246 [00:00<00:35,  6.95batches/s]"
     ]
    },
    {
     "name": "stdout",
     "output_type": "stream",
     "text": [
      "Validation accuracy at 0.9959194083142056\n"
     ]
    },
    {
     "name": "stderr",
     "output_type": "stream",
     "text": [
      "Epoch 174/200: 100%|██████████| 246/246 [00:37<00:00,  6.60batches/s]\n",
      "Epoch 175/200:   0%|          | 1/246 [00:00<00:36,  6.68batches/s]"
     ]
    },
    {
     "name": "stdout",
     "output_type": "stream",
     "text": [
      "Validation accuracy at 0.9993624075490947\n"
     ]
    },
    {
     "name": "stderr",
     "output_type": "stream",
     "text": [
      "Epoch 175/200: 100%|██████████| 246/246 [00:37<00:00,  6.60batches/s]\n",
      "Epoch 176/200:   0%|          | 1/246 [00:00<00:36,  6.76batches/s]"
     ]
    },
    {
     "name": "stdout",
     "output_type": "stream",
     "text": [
      "Validation accuracy at 0.9985972966080081\n"
     ]
    },
    {
     "name": "stderr",
     "output_type": "stream",
     "text": [
      "Epoch 176/200: 100%|██████████| 246/246 [00:37<00:00,  6.61batches/s]\n",
      "Epoch 177/200:   0%|          | 1/246 [00:00<00:36,  6.66batches/s]"
     ]
    },
    {
     "name": "stdout",
     "output_type": "stream",
     "text": [
      "Validation accuracy at 0.9991073705687324\n"
     ]
    },
    {
     "name": "stderr",
     "output_type": "stream",
     "text": [
      "Epoch 177/200: 100%|██████████| 246/246 [00:37<00:00,  6.61batches/s]\n",
      "Epoch 178/200:   0%|          | 1/246 [00:00<00:36,  6.72batches/s]"
     ]
    },
    {
     "name": "stdout",
     "output_type": "stream",
     "text": [
      "Validation accuracy at 0.9988523335883703\n"
     ]
    },
    {
     "name": "stderr",
     "output_type": "stream",
     "text": [
      "Epoch 178/200: 100%|██████████| 246/246 [00:37<00:00,  6.61batches/s]\n",
      "Epoch 179/200:   0%|          | 1/246 [00:00<00:36,  6.71batches/s]"
     ]
    },
    {
     "name": "stdout",
     "output_type": "stream",
     "text": [
      "Validation accuracy at 0.9988523335883703\n"
     ]
    },
    {
     "name": "stderr",
     "output_type": "stream",
     "text": [
      "Epoch 179/200: 100%|██████████| 246/246 [00:37<00:00,  6.60batches/s]\n",
      "Epoch 180/200:   0%|          | 1/246 [00:00<00:36,  6.63batches/s]"
     ]
    },
    {
     "name": "stdout",
     "output_type": "stream",
     "text": [
      "Validation accuracy at 0.9988523335883703\n"
     ]
    },
    {
     "name": "stderr",
     "output_type": "stream",
     "text": [
      "Epoch 180/200: 100%|██████████| 246/246 [00:35<00:00,  7.01batches/s]\n",
      "Epoch 181/200:   0%|          | 1/246 [00:00<00:36,  6.67batches/s]"
     ]
    },
    {
     "name": "stdout",
     "output_type": "stream",
     "text": [
      "Validation accuracy at 0.9970670747258352\n"
     ]
    },
    {
     "name": "stderr",
     "output_type": "stream",
     "text": [
      "Epoch 181/200: 100%|██████████| 246/246 [00:37<00:00,  6.60batches/s]\n",
      "Epoch 182/200:   0%|          | 1/246 [00:00<00:36,  6.73batches/s]"
     ]
    },
    {
     "name": "stdout",
     "output_type": "stream",
     "text": [
      "Validation accuracy at 0.9923488905891354\n"
     ]
    },
    {
     "name": "stderr",
     "output_type": "stream",
     "text": [
      "Epoch 182/200: 100%|██████████| 246/246 [00:37<00:00,  6.61batches/s]\n",
      "Epoch 183/200:   0%|          | 1/246 [00:00<00:36,  6.69batches/s]"
     ]
    },
    {
     "name": "stdout",
     "output_type": "stream",
     "text": [
      "Validation accuracy at 0.998342259627646\n"
     ]
    },
    {
     "name": "stderr",
     "output_type": "stream",
     "text": [
      "Epoch 183/200: 100%|██████████| 246/246 [00:37<00:00,  6.61batches/s]\n",
      "Epoch 184/200:   0%|          | 1/246 [00:00<00:36,  6.76batches/s]"
     ]
    },
    {
     "name": "stdout",
     "output_type": "stream",
     "text": [
      "Validation accuracy at 0.9992348890589136\n"
     ]
    },
    {
     "name": "stderr",
     "output_type": "stream",
     "text": [
      "Epoch 184/200: 100%|██████████| 246/246 [00:37<00:00,  6.61batches/s]\n",
      "Epoch 185/200:   0%|          | 1/246 [00:00<00:36,  6.78batches/s]"
     ]
    },
    {
     "name": "stdout",
     "output_type": "stream",
     "text": [
      "Validation accuracy at 0.998342259627646\n"
     ]
    },
    {
     "name": "stderr",
     "output_type": "stream",
     "text": [
      "Epoch 185/200: 100%|██████████| 246/246 [00:37<00:00,  6.60batches/s]\n",
      "Epoch 186/200:   0%|          | 1/246 [00:00<00:36,  6.68batches/s]"
     ]
    },
    {
     "name": "stdout",
     "output_type": "stream",
     "text": [
      "Validation accuracy at 0.998342259627646\n"
     ]
    },
    {
     "name": "stderr",
     "output_type": "stream",
     "text": [
      "Epoch 186/200: 100%|██████████| 246/246 [00:37<00:00,  6.60batches/s]\n",
      "Epoch 187/200:   0%|          | 1/246 [00:00<00:36,  6.78batches/s]"
     ]
    },
    {
     "name": "stdout",
     "output_type": "stream",
     "text": [
      "Validation accuracy at 0.9992348890589136\n"
     ]
    },
    {
     "name": "stderr",
     "output_type": "stream",
     "text": [
      "Epoch 187/200: 100%|██████████| 246/246 [00:37<00:00,  6.61batches/s]\n"
     ]
    },
    {
     "name": "stdout",
     "output_type": "stream",
     "text": [
      "Validation accuracy at 0.9996174445294568\n"
     ]
    },
    {
     "name": "stderr",
     "output_type": "stream",
     "text": [
      "Epoch 188/200: 100%|██████████| 246/246 [00:37<00:00,  6.61batches/s]\n",
      "Epoch 189/200:   0%|          | 1/246 [00:00<00:36,  6.74batches/s]"
     ]
    },
    {
     "name": "stdout",
     "output_type": "stream",
     "text": [
      "Validation accuracy at 0.9994899260392757\n"
     ]
    },
    {
     "name": "stderr",
     "output_type": "stream",
     "text": [
      "Epoch 189/200: 100%|██████████| 246/246 [00:37<00:00,  6.60batches/s]\n",
      "Epoch 190/200:   0%|          | 1/246 [00:00<00:36,  6.74batches/s]"
     ]
    },
    {
     "name": "stdout",
     "output_type": "stream",
     "text": [
      "Validation accuracy at 0.998342259627646\n"
     ]
    },
    {
     "name": "stderr",
     "output_type": "stream",
     "text": [
      "Epoch 190/200: 100%|██████████| 246/246 [00:37<00:00,  6.60batches/s]\n",
      "Epoch 191/200:   0%|          | 1/246 [00:00<00:36,  6.70batches/s]"
     ]
    },
    {
     "name": "stdout",
     "output_type": "stream",
     "text": [
      "Validation accuracy at 0.9985972966080081\n"
     ]
    },
    {
     "name": "stderr",
     "output_type": "stream",
     "text": [
      "Epoch 191/200: 100%|██████████| 246/246 [00:37<00:00,  6.61batches/s]\n",
      "Epoch 192/200:   0%|          | 1/246 [00:00<00:36,  6.69batches/s]"
     ]
    },
    {
     "name": "stdout",
     "output_type": "stream",
     "text": [
      "Validation accuracy at 0.9985972966080081\n"
     ]
    },
    {
     "name": "stderr",
     "output_type": "stream",
     "text": [
      "Epoch 192/200: 100%|██████████| 246/246 [00:35<00:00,  7.01batches/s]\n",
      "Epoch 193/200:   0%|          | 0/246 [00:00<?, ?batches/s]"
     ]
    },
    {
     "name": "stdout",
     "output_type": "stream",
     "text": [
      "Validation accuracy at 0.9984697781178271\n"
     ]
    },
    {
     "name": "stderr",
     "output_type": "stream",
     "text": [
      "Epoch 193/200: 100%|██████████| 246/246 [00:37<00:00,  6.61batches/s]\n",
      "Epoch 194/200:   0%|          | 1/246 [00:00<00:37,  6.56batches/s]"
     ]
    },
    {
     "name": "stdout",
     "output_type": "stream",
     "text": [
      "Validation accuracy at 0.998342259627646\n"
     ]
    },
    {
     "name": "stderr",
     "output_type": "stream",
     "text": [
      "Epoch 194/200: 100%|██████████| 246/246 [00:37<00:00,  6.60batches/s]\n",
      "Epoch 195/200:   0%|          | 1/246 [00:00<00:36,  6.66batches/s]"
     ]
    },
    {
     "name": "stdout",
     "output_type": "stream",
     "text": [
      "Validation accuracy at 0.9994899260392757\n"
     ]
    },
    {
     "name": "stderr",
     "output_type": "stream",
     "text": [
      "Epoch 195/200: 100%|██████████| 246/246 [00:37<00:00,  6.61batches/s]\n",
      "Epoch 196/200:   0%|          | 1/246 [00:00<00:36,  6.75batches/s]"
     ]
    },
    {
     "name": "stdout",
     "output_type": "stream",
     "text": [
      "Validation accuracy at 0.9987248150981892\n"
     ]
    },
    {
     "name": "stderr",
     "output_type": "stream",
     "text": [
      "Epoch 196/200: 100%|██████████| 246/246 [00:37<00:00,  6.60batches/s]\n",
      "Epoch 197/200:   0%|          | 1/246 [00:00<00:37,  6.60batches/s]"
     ]
    },
    {
     "name": "stdout",
     "output_type": "stream",
     "text": [
      "Validation accuracy at 0.9994899260392757\n"
     ]
    },
    {
     "name": "stderr",
     "output_type": "stream",
     "text": [
      "Epoch 197/200: 100%|██████████| 246/246 [00:37<00:00,  6.60batches/s]\n",
      "Epoch 198/200:   0%|          | 1/246 [00:00<00:35,  6.87batches/s]"
     ]
    },
    {
     "name": "stdout",
     "output_type": "stream",
     "text": [
      "Validation accuracy at 0.9991073705687324\n"
     ]
    },
    {
     "name": "stderr",
     "output_type": "stream",
     "text": [
      "Epoch 198/200: 100%|██████████| 246/246 [00:37<00:00,  6.61batches/s]\n",
      "Epoch 199/200:   0%|          | 1/246 [00:00<00:35,  6.86batches/s]"
     ]
    },
    {
     "name": "stdout",
     "output_type": "stream",
     "text": [
      "Validation accuracy at 0.9992348890589136\n"
     ]
    },
    {
     "name": "stderr",
     "output_type": "stream",
     "text": [
      "Epoch 199/200: 100%|██████████| 246/246 [00:37<00:00,  6.60batches/s]\n",
      "Epoch 200/200:   0%|          | 1/246 [00:00<00:37,  6.57batches/s]"
     ]
    },
    {
     "name": "stdout",
     "output_type": "stream",
     "text": [
      "Validation accuracy at 0.9994899260392757\n"
     ]
    },
    {
     "name": "stderr",
     "output_type": "stream",
     "text": [
      "Epoch 200/200: 100%|██████████| 246/246 [00:37<00:00,  6.60batches/s]\n"
     ]
    },
    {
     "name": "stdout",
     "output_type": "stream",
     "text": [
      "Validation accuracy at 0.9992348890589136\n"
     ]
    },
    {
     "data": {
      "image/png": "[encoded data removed]",
      "text/plain": [
       "<matplotlib.figure.Figure at 0x7f5b78a08048>"
      ]
     },
     "metadata": {},
     "output_type": "display_data"
    },
    {
     "name": "stdout",
     "output_type": "stream",
     "text": [
      "Best Validation loss at 1.5280513867440664e-05 last iteration 46001\n",
      "Validation accuracy at 0.9992348890589136\n"
     ]
    }
   ],
   "source": [
    "n_epochs = 200\n",
    "epoch = 0\n",
    "\n",
    "batch_size = 128 \n",
    "done_training = False\n",
    "# The accuracy measured against the validation set\n",
    "valid_accuracy = 0.0\n",
    "best_valid_loss = np.inf\n",
    "last_iteration = 0\n",
    "improvement_threshold = 0.995\n",
    "\n",
    "# Measurements use for graphing loss and accuracy\n",
    "batches = []\n",
    "loss_batch = []\n",
    "train_acc_batch = []\n",
    "valid_acc_batch = []\n",
    "\n",
    "save_dir =  'model1s/'\n",
    "\n",
    "saver = tf.train.Saver(tf.global_variables())\n",
    "init = tf.global_variables_initializer()\n",
    "\n",
    "with tf.Session() as session:\n",
    "    session.run(init)\n",
    "    batch_count = int(math.ceil(len(X_train)/batch_size))\n",
    "\n",
    "    while (epoch < n_epochs) and (not done_training):\n",
    "        epoch = epoch + 1\n",
    "        \n",
    "        # Progress bar\n",
    "        batches_pbar = tqdm(range(batch_count), desc='Epoch {:>2}/{}'.format(epoch, n_epochs), unit='batches')\n",
    "        \n",
    "        # The training cycle\n",
    "        for batch_i in batches_pbar:\n",
    "            iteration = (epoch - 1) * batch_count + batch_i\n",
    "            # Get a batch of training features and labels\n",
    "            batch_start = batch_i*batch_size\n",
    "            X_batch = X_train[batch_start:batch_start + batch_size]\n",
    "            y_batch = y_train[batch_start:batch_start + batch_size]\n",
    "\n",
    "            # Run optimizer and get loss\n",
    "            _, l = session.run([optimizer, loss],feed_dict={X: X_batch, y: y_batch, keep_prob:0.5, is_training:True})\n",
    "\n",
    "            # Log every 50 batches\n",
    "            if not iteration % batch_size:\n",
    "                # Calculate Training and Validation accuracy\n",
    "                #training_accuracy = evaluate(X_train, y_train)\n",
    "                valid_accuracy, valid_loss = evaluate(X_valid, y_valid)\n",
    "\n",
    "                # Log batches\n",
    "                previous_batch = batches[-1] if batches else 0\n",
    "                batches.append(batch_size + previous_batch)\n",
    "                loss_batch.append(l)\n",
    "                #train_acc_batch.append(training_accuracy)\n",
    "                valid_acc_batch.append(valid_accuracy)\n",
    "            \n",
    "            if not iteration % 512:\n",
    "                if valid_loss < best_valid_loss*improvement_threshold:\n",
    "                    best_valid_loss = valid_loss\n",
    "                    last_iteration = iteration\n",
    "                    checkpoint_path = os.path.join(save_dir, 'model.ckpt')\n",
    "                    saver.save(session, checkpoint_path, global_step=iteration)\n",
    "                \n",
    "            if last_iteration - iteration > 987:\n",
    "                done_training = True\n",
    "                break\n",
    "        \n",
    "\n",
    "        # Check accuracy against Validation data\n",
    "        validation_accuracy, valid_loss = evaluate(X_valid, y_valid)\n",
    "        print('Validation accuracy at {}'.format(validation_accuracy))\n",
    "        if valid_loss < best_valid_loss:\n",
    "            best_valid_loss = valid_loss\n",
    "            last_iteration = iteration\n",
    "            checkpoint_path = os.path.join(save_dir, 'session.ckpt')\n",
    "            saver.save(session, checkpoint_path, global_step=iteration)\n",
    "        \n",
    "loss_plot = plt.subplot(211)\n",
    "loss_plot.set_title('Loss')\n",
    "loss_plot.plot(batches, loss_batch, 'g')\n",
    "loss_plot.set_xlim([batches[0], batches[-1]])\n",
    "acc_plot = plt.subplot(212)\n",
    "acc_plot.set_title('Accuracy')\n",
    "#acc_plot.plot(batches, train_acc_batch, 'r', label='Training Accuracy')\n",
    "acc_plot.plot(batches, valid_acc_batch, 'b', label='Validation Accuracy')\n",
    "acc_plot.set_ylim([0, 1.0])\n",
    "acc_plot.set_xlim([batches[0], batches[-1]])\n",
    "acc_plot.legend(loc=4)\n",
    "plt.tight_layout()\n",
    "plt.show()\n",
    "\n",
    "print('Best Validation loss at {} last iteration {}'.format(best_valid_loss, last_iteration))\n",
    "print('Validation accuracy at {}'.format(validation_accuracy))"
   ]
  },
  {
   "cell_type": "code",
   "execution_count": 16,
   "metadata": {
    "collapsed": false
   },
   "outputs": [
    {
     "name": "stdout",
     "output_type": "stream",
     "text": [
      "0.968566904121 0.00146503661459\n"
     ]
    }
   ],
   "source": [
    "with tf.Session() as session:\n",
    "        saver = tf.train.Saver(tf.global_variables())\n",
    "        ckpt = tf.train.latest_checkpoint(save_dir)\n",
    "        saver.restore(session, ckpt)\n",
    "        test_acc, test_loss = evaluate(X_test, y_test)\n",
    "print(test_acc, test_loss)"
   ]
  },
  {
   "cell_type": "markdown",
   "metadata": {},
   "source": [
    "### Question 4\n",
    "\n",
    "_How did you train your model? (Type of optimizer, batch size, epochs, hyperparameters, etc.)_\n"
   ]
  },
  {
   "cell_type": "markdown",
   "metadata": {},
   "source": [
    "**Answer:**"
   ]
  },
  {
   "cell_type": "markdown",
   "metadata": {},
   "source": [
    "### Question 5\n",
    "\n",
    "\n",
    "_What approach did you take in coming up with a solution to this problem? It may have been a process of trial and error, in which case, outline the steps you took to get to the final solution and why you chose those steps. Perhaps your solution involved an already well known implementation or architecture. In this case, discuss why you think this is suitable for the current problem._"
   ]
  },
  {
   "cell_type": "markdown",
   "metadata": {},
   "source": [
    "**Answer:**"
   ]
  },
  {
   "cell_type": "markdown",
   "metadata": {},
   "source": [
    "---\n",
    "\n",
    "## Step 3: Test a Model on New Images\n",
    "\n",
    "Take several pictures of traffic signs that you find on the web or around you (at least five), and run them through your classifier on your computer to produce example results. The classifier might not recognize some local signs but it could prove interesting nonetheless.\n",
    "\n",
    "You may find `signnames.csv` useful as it contains mappings from the class id (integer) to the actual sign name."
   ]
  },
  {
   "cell_type": "markdown",
   "metadata": {},
   "source": [
    "### Implementation\n",
    "\n",
    "Use the code cell (or multiple code cells, if necessary) to implement the first step of your project. Once you have completed your implementation and are satisfied with the results, be sure to thoroughly answer the questions that follow."
   ]
  },
  {
   "cell_type": "code",
   "execution_count": 17,
   "metadata": {
    "collapsed": true
   },
   "outputs": [],
   "source": [
    "### Load the images and plot them here.\n",
    "### Feel free to use as many code cells as needed."
   ]
  },
  {
   "cell_type": "markdown",
   "metadata": {},
   "source": [
    "### Question 6\n",
    "\n",
    "_Choose five candidate images of traffic signs and provide them in the report. Are there any particular qualities of the image(s) that might make classification difficult? It could be helpful to plot the images in the notebook._\n",
    "\n"
   ]
  },
  {
   "cell_type": "markdown",
   "metadata": {},
   "source": [
    "**Answer:**"
   ]
  },
  {
   "cell_type": "code",
   "execution_count": 18,
   "metadata": {
    "collapsed": true
   },
   "outputs": [],
   "source": [
    "### Run the predictions here.\n",
    "### Feel free to use as many code cells as needed."
   ]
  },
  {
   "cell_type": "markdown",
   "metadata": {},
   "source": [
    "### Question 7\n",
    "\n",
    "_Is your model able to perform equally well on captured pictures when compared to testing on the dataset? The simplest way to do this check the accuracy of the predictions. For example, if the model predicted 1 out of 5 signs correctly, it's 20% accurate._\n",
    "\n",
    "_**NOTE:** You could check the accuracy manually by using `signnames.csv` (same directory). This file has a mapping from the class id (0-42) to the corresponding sign name. So, you could take the class id the model outputs, lookup the name in `signnames.csv` and see if it matches the sign from the image._\n"
   ]
  },
  {
   "cell_type": "markdown",
   "metadata": {},
   "source": [
    "**Answer:**"
   ]
  },
  {
   "cell_type": "code",
   "execution_count": 19,
   "metadata": {
    "collapsed": true
   },
   "outputs": [],
   "source": [
    "### Visualize the softmax probabilities here.\n",
    "### Feel free to use as many code cells as needed."
   ]
  },
  {
   "cell_type": "markdown",
   "metadata": {},
   "source": [
    "### Question 8\n",
    "\n",
    "*Use the model's softmax probabilities to visualize the **certainty** of its predictions, [`tf.nn.top_k`](https://www.tensorflow.org/versions/r0.12/api_docs/python/nn.html#top_k) could prove helpful here. Which predictions is the model certain of? Uncertain? If the model was incorrect in its initial prediction, does the correct prediction appear in the top k? (k should be 5 at most)*\n",
    "\n",
    "`tf.nn.top_k` will return the values and indices (class ids) of the top k predictions. So if k=3, for each sign, it'll return the 3 largest probabilities (out of a possible 43) and the correspoding class ids.\n",
    "\n",
    "Take this numpy array as an example:\n",
    "\n",
    "```\n",
    "# (5, 6) array\n",
    "a = np.array([[ 0.24879643,  0.07032244,  0.12641572,  0.34763842,  0.07893497,\n",
    "         0.12789202],\n",
    "       [ 0.28086119,  0.27569815,  0.08594638,  0.0178669 ,  0.18063401,\n",
    "         0.15899337],\n",
    "       [ 0.26076848,  0.23664738,  0.08020603,  0.07001922,  0.1134371 ,\n",
    "         0.23892179],\n",
    "       [ 0.11943333,  0.29198961,  0.02605103,  0.26234032,  0.1351348 ,\n",
    "         0.16505091],\n",
    "       [ 0.09561176,  0.34396535,  0.0643941 ,  0.16240774,  0.24206137,\n",
    "         0.09155967]])\n",
    "```\n",
    "\n",
    "Running it through `sess.run(tf.nn.top_k(tf.constant(a), k=3))` produces:\n",
    "\n",
    "```\n",
    "TopKV2(values=array([[ 0.34763842,  0.24879643,  0.12789202],\n",
    "       [ 0.28086119,  0.27569815,  0.18063401],\n",
    "       [ 0.26076848,  0.23892179,  0.23664738],\n",
    "       [ 0.29198961,  0.26234032,  0.16505091],\n",
    "       [ 0.34396535,  0.24206137,  0.16240774]]), indices=array([[3, 0, 5],\n",
    "       [0, 1, 4],\n",
    "       [0, 5, 1],\n",
    "       [1, 3, 5],\n",
    "       [1, 4, 3]], dtype=int32))\n",
    "```\n",
    "\n",
    "Looking just at the first row we get `[ 0.34763842,  0.24879643,  0.12789202]`, you can confirm these are the 3 largest probabilities in `a`. You'll also notice `[3, 0, 5]` are the corresponding indices."
   ]
  },
  {
   "cell_type": "markdown",
   "metadata": {},
   "source": [
    "**Answer:**"
   ]
  },
  {
   "cell_type": "markdown",
   "metadata": {},
   "source": [
    "> **Note**: Once you have completed all of the code implementations and successfully answered each question above, you may finalize your work by exporting the iPython Notebook as an HTML document. You can do this by using the menu above and navigating to  \\n\",\n",
    "    \"**File -> Download as -> HTML (.html)**. Include the finished document along with this notebook as your submission."
   ]
  },
  {
   "cell_type": "code",
   "execution_count": null,
   "metadata": {
    "collapsed": true
   },
   "outputs": [],
   "source": []
  }
 ],
 "metadata": {
  "anaconda-cloud": {},
  "kernelspec": {
   "display_name": "Python 3",
   "language": "python",
   "name": "python3"
  },
  "language_info": {
   "codemirror_mode": {
    "name": "ipython",
    "version": 3
   },
   "file_extension": ".py",
   "mimetype": "text/x-python",
   "name": "python",
   "nbconvert_exporter": "python",
   "pygments_lexer": "ipython3",
   "version": "3.5.2"
  }
 },
 "nbformat": 4,
 "nbformat_minor": 1
}
