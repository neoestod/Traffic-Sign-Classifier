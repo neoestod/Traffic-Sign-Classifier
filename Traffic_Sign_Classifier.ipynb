{
 "cells": [
  {
   "cell_type": "markdown",
   "metadata": {},
   "source": [
    "# Self-Driving Car Engineer Nanodegree\n",
    "\n",
    "## Deep Learning\n",
    "\n",
    "## Project: Build a Traffic Sign Recognition Classifier\n",
    "\n",
    "In this notebook, a template is provided for you to implement your functionality in stages which is required to successfully complete this project. If additional code is required that cannot be included in the notebook, be sure that the Python code is successfully imported and included in your submission, if necessary. Sections that begin with **'Implementation'** in the header indicate where you should begin your implementation for your project. Note that some sections of implementation are optional, and will be marked with **'Optional'** in the header.\n",
    "\n",
    "In addition to implementing code, there will be questions that you must answer which relate to the project and your implementation. Each section where you will answer a question is preceded by a **'Question'** header. Carefully read each question and provide thorough answers in the following text boxes that begin with **'Answer:'**. Your project submission will be evaluated based on your answers to each of the questions and the implementation you provide.\n",
    "\n",
    ">**Note:** Code and Markdown cells can be executed using the **Shift + Enter** keyboard shortcut. In addition, Markdown cells can be edited by typically double-clicking the cell to enter edit mode."
   ]
  },
  {
   "cell_type": "markdown",
   "metadata": {},
   "source": [
    "---\n",
    "## Step 0: Load The Data"
   ]
  },
  {
   "cell_type": "code",
   "execution_count": 1,
   "metadata": {
    "collapsed": false
   },
   "outputs": [
    {
     "name": "stderr",
     "output_type": "stream",
     "text": [
      "Using TensorFlow backend.\n"
     ]
    }
   ],
   "source": [
    "%matplotlib inline\n",
    "import matplotlib.pyplot as plt\n",
    "import seaborn as sns\n",
    "import numpy as np\n",
    "import csv\n",
    "from keras.preprocessing.image import ImageDataGenerator\n",
    "from sklearn.model_selection import train_test_split\n",
    "from sklearn.utils import shuffle\n",
    "from tqdm import tqdm, tqdm_notebook, tnrange\n",
    "import tensorflow as tf\n",
    "import math\n",
    "import os\n"
   ]
  },
  {
   "cell_type": "code",
   "execution_count": 2,
   "metadata": {
    "collapsed": true
   },
   "outputs": [],
   "source": [
    "# Load pickled data\n",
    "import pickle\n",
    "\n",
    "# TODO: fill this in based on where you saved the training and testing data\n",
    "training_file = \"/home/shreyas/Documents/sdcND/data/lab2/train.p\"\n",
    "testing_file = \"/home/shreyas/Documents/sdcND/data/lab2/test.p\"\n",
    "\n",
    "with open(training_file, mode='rb') as f:\n",
    "    train = pickle.load(f)\n",
    "with open(testing_file, mode='rb') as f:\n",
    "    test = pickle.load(f)\n",
    "    \n",
    "X_train, y_train = train['features'], train['labels']\n",
    "X_test, y_test = test['features'], test['labels']"
   ]
  },
  {
   "cell_type": "markdown",
   "metadata": {},
   "source": [
    "---\n",
    "\n",
    "## Step 1: Dataset Summary & Exploration\n",
    "\n",
    "The pickled data is a dictionary with 4 key/value pairs:\n",
    "\n",
    "- `'features'` is a 4D array containing raw pixel data of the traffic sign images, (num examples, width, height, channels).\n",
    "- `'labels'` is a 2D array containing the label/class id of the traffic sign. The file `signnames.csv` contains id -> name mappings for each id.\n",
    "- `'sizes'` is a list containing tuples, (width, height) representing the the original width and height the image.\n",
    "- `'coords'` is a list containing tuples, (x1, y1, x2, y2) representing coordinates of a bounding box around the sign in the image. **THESE COORDINATES ASSUME THE ORIGINAL IMAGE. THE PICKLED DATA CONTAINS RESIZED VERSIONS (32 by 32) OF THESE IMAGES**\n",
    "\n",
    "Complete the basic data summary below."
   ]
  },
  {
   "cell_type": "code",
   "execution_count": 3,
   "metadata": {
    "collapsed": false
   },
   "outputs": [
    {
     "name": "stdout",
     "output_type": "stream",
     "text": [
      "Number of training examples = 39209\n",
      "Number of testing examples = 12630\n",
      "Image data shape = (32, 32, 3)\n",
      "Number of classes = 43\n"
     ]
    }
   ],
   "source": [
    "# number of training examples\n",
    "n_train = len(X_train)\n",
    "# TODO: number of testing examples\n",
    "n_test = len(X_test)\n",
    "# TODO: what's the shape of an image?\n",
    "image_shape = X_train[0].shape\n",
    "# TODO: how many classes are in the dataset\n",
    "n_classes = len(set(y_train))\n",
    "\n",
    "print(\"Number of training examples =\", n_train)\n",
    "print(\"Number of testing examples =\", n_test)\n",
    "print(\"Image data shape =\", image_shape)\n",
    "print(\"Number of classes =\", n_classes)"
   ]
  },
  {
   "cell_type": "markdown",
   "metadata": {},
   "source": [
    "Visualize the German Traffic Signs Dataset using the pickled file(s). This is open ended, suggestions include: plotting traffic sign images, plotting the count of each sign, etc.\n",
    "\n",
    "The [Matplotlib](http://matplotlib.org/) [examples](http://matplotlib.org/examples/index.html) and [gallery](http://matplotlib.org/gallery.html) pages are a great resource for doing visualizations in Python.\n",
    "\n",
    "**NOTE:** It's recommended you start with something simple first. If you wish to do more, come back to it after you've completed the rest of the sections."
   ]
  },
  {
   "cell_type": "code",
   "execution_count": 4,
   "metadata": {
    "collapsed": true
   },
   "outputs": [],
   "source": [
    "### import and extract the signnames\n",
    "signnames = []\n",
    "with open('signnames.csv', newline='') as csvfile:\n",
    "    signname_file = csv.reader(csvfile)\n",
    "    next(signname_file, None)\n",
    "    for row in signname_file:\n",
    "        signnames.append(row[1])"
   ]
  },
  {
   "cell_type": "code",
   "execution_count": 5,
   "metadata": {
    "collapsed": true
   },
   "outputs": [],
   "source": [
    "def plot_img(images, labels, pred_labels=None):\n",
    "    '''\n",
    "    images - 5 given images to plotted\n",
    "    labels - true labels of images\n",
    "    pred_labels - predicted labels\n",
    "    Creates a 1x5 plot for given images'''\n",
    "   \n",
    "    f, axes = plt.subplots(1,5,figsize=(12, 3))\n",
    "    f.subplots_adjust(wspace=.3)\n",
    "    for i, ax in enumerate(axes.flat):\n",
    "        ax.imshow(images[i])\n",
    "        #sinplot()\n",
    "        \n",
    "        if pred_labels is None:\n",
    "            xlabel = \"{}\\n{}\".format(labels[i], signnames[labels[i]])\n",
    "        else:\n",
    "            xlabel = \"given {}: {}\\npredicate {}: {}\".format(labels[i], signnames[labels[i]], \n",
    "                                                             pred_labels[i], signnames[pred_labels[i]])\n",
    "        \n",
    "        ax.set_xlabel(xlabel)\n",
    "        #remove ticks from the plot\n",
    "        ax.set_xticks([])\n",
    "        ax.set_yticks([])"
   ]
  },
  {
   "cell_type": "code",
   "execution_count": 6,
   "metadata": {
    "collapsed": false
   },
   "outputs": [
    {
     "data": {
      "image/png": "[encoded data removed]",
      "text/plain": [
       "<matplotlib.figure.Figure at 0x7fee660d52e8>"
      ]
     },
     "metadata": {},
     "output_type": "display_data"
    }
   ],
   "source": [
    "images = np.random.choice(len(X_train),5)\n",
    "plot_img(X_train[images], y_train[images])"
   ]
  },
  {
   "cell_type": "code",
   "execution_count": 7,
   "metadata": {
    "collapsed": false
   },
   "outputs": [
    {
     "data": {
      "image/png": "[encoded data removed]",
      "text/plain": [
       "<matplotlib.figure.Figure at 0x7fee6600f978>"
      ]
     },
     "metadata": {},
     "output_type": "display_data"
    }
   ],
   "source": [
    "plot_img(X_test[:5],y_test[:5])"
   ]
  },
  {
   "cell_type": "code",
   "execution_count": 8,
   "metadata": {
    "collapsed": false
   },
   "outputs": [
    {
     "data": {
      "text/plain": [
       "43"
      ]
     },
     "execution_count": 8,
     "metadata": {},
     "output_type": "execute_result"
    }
   ],
   "source": [
    "from collections import Counter\n",
    "data_distribution = Counter(y_train)\n",
    "label_list = set(y_train)\n",
    "len(label_list)"
   ]
  },
  {
   "cell_type": "code",
   "execution_count": 9,
   "metadata": {
    "collapsed": false,
    "scrolled": true
   },
   "outputs": [
    {
     "data": {
      "image/png": "[encoded data removed]",
      "text/plain": [
       "<matplotlib.figure.Figure at 0x7fee66037080>"
      ]
     },
     "metadata": {},
     "output_type": "display_data"
    }
   ],
   "source": [
    "order = list(zip(*data_distribution.most_common()))[0]\n",
    "\n",
    "f, ax = plt.subplots(figsize=(13, 5))\n",
    "ax = sns.countplot(x=y_train, order=order, color='seagreen', ax=ax, label=\"train\")\n",
    "\n",
    "#ax = sns.countplot(x=y_test, order=order, color='lightblue', ax=ax, label=\"test\")\n",
    "\n",
    "_ = ax.set_title('Label distribution')\n",
    "_ = ax.legend(ncol=2, loc=\"upper right\", frameon=True)\n",
    "_ = ax.set_xticklabels(['%s - %s'% (signnames[i], i) for i in order], rotation=90)"
   ]
  },
  {
   "cell_type": "markdown",
   "metadata": {},
   "source": [
    "----\n",
    "\n",
    "## Step 2: Design and Test a Model Architecture\n",
    "\n",
    "Design and implement a deep learning model that learns to recognize traffic signs. Train and test your model on the [German Traffic Sign Dataset](http://benchmark.ini.rub.de/?section=gtsrb&subsection=dataset).\n",
    "\n",
    "There are various aspects to consider when thinking about this problem:\n",
    "\n",
    "- Neural network architecture\n",
    "- Play around preprocessing techniques (normalization, rgb to grayscale, etc)\n",
    "- Number of examples per label (some have more than others).\n",
    "- Generate fake data.\n",
    "\n",
    "Here is an example of a [published baseline model on this problem](http://yann.lecun.com/exdb/publis/pdf/sermanet-ijcnn-11.pdf). It's not required to be familiar with the approach used in the paper but, it's good practice to try to read papers like these.\n",
    "\n",
    "**NOTE:** The LeNet-5 implementation shown in the [classroom](https://classroom.udacity.com/nanodegrees/nd013/parts/fbf77062-5703-404e-b60c-95b78b2f3f9e/modules/6df7ae49-c61c-4bb2-a23e-6527e69209ec/lessons/601ae704-1035-4287-8b11-e2c2716217ad/concepts/d4aca031-508f-4e0b-b493-e7b706120f81) at the end of the CNN lesson is a solid starting point. You'll have to change the number of classes and possibly the preprocessing, but aside from that it's plug and play!"
   ]
  },
  {
   "cell_type": "markdown",
   "metadata": {},
   "source": [
    "### Implementation\n",
    "\n",
    "Use the code cell (or multiple code cells, if necessary) to implement the first step of your project. Once you have completed your implementation and are satisfied with the results, be sure to thoroughly answer the questions that follow."
   ]
  },
  {
   "cell_type": "code",
   "execution_count": 10,
   "metadata": {
    "collapsed": true
   },
   "outputs": [],
   "source": [
    "### Preprocess the data here.\n",
    "### Feel free to use as many code cells as needed.\n",
    "X_train, y_train = shuffle(X_train, y_train, random_state=42)\n",
    "X_train, X_valid, y_train, y_valid = train_test_split(X_train, y_train, test_size=0.2, random_state=42)"
   ]
  },
  {
   "cell_type": "code",
   "execution_count": 11,
   "metadata": {
    "collapsed": true
   },
   "outputs": [],
   "source": [
    "def augument_data(x, y,\n",
    "                  rotation = 29, \n",
    "                  trans_range = 0.3, \n",
    "                  channel_shift = 0.01):\n",
    "    \n",
    "    datagen = ImageDataGenerator(rotation_range=rotation,                           \n",
    "                                 channel_shift_range=channel_shift,\n",
    "                                 shear_range=trans_range,\n",
    "                                 zoom_range=trans_range,\n",
    "                                 width_shift_range=trans_range,\n",
    "                                 height_shift_range=trans_range,\n",
    "                                 fill_mode='nearest')\n",
    "\n",
    "    datagen.fit(x, seed=42)\n",
    "    batch_size = min(x.shape[0],(1781-x.shape[0]))\n",
    "    nb_transforms = int(math.ceil(1700/x.shape[0]))-1\n",
    "    #print (\"batchsize: {}, nb_transforms: {}\".format(batch_size, nb_transforms))\n",
    "    for i in range(nb_transforms):       \n",
    "        X_batch, y_batch = next(datagen.flow(x, y, batch_size=batch_size, seed=42))\n",
    "\n",
    "        x = np.concatenate((x, X_batch), axis=0)\n",
    "        y = np.concatenate((y, y_batch), axis=0)\n",
    "        \n",
    "    return x,y"
   ]
  },
  {
   "cell_type": "code",
   "execution_count": 12,
   "metadata": {
    "collapsed": false
   },
   "outputs": [],
   "source": [
    "X_a = np.zeros(shape=(0,32,32,3))\n",
    "y_a = np.zeros(shape=(0,))\n",
    "\n",
    "for label in label_list:\n",
    "        index_list = [i for i, x in enumerate(y_train) if x == label]\n",
    "        x_b, y_b = augument_data(X_train[index_list], y_train[index_list])\n",
    "        X_a = np.concatenate((X_a, x_b), axis=0)\n",
    "        y_a = np.concatenate((y_a, y_b), axis=0)\n",
    "        #print (label, len(y_a))"
   ]
  },
  {
   "cell_type": "code",
   "execution_count": 13,
   "metadata": {
    "collapsed": false
   },
   "outputs": [
    {
     "name": "stdout",
     "output_type": "stream",
     "text": [
      "Counter({1: 3562, 2: 3552, 13: 3476, 12: 3451, 38: 3444, 4: 3372, 10: 3369, 5: 3271, 25: 2995, 9: 2945, 7: 2927, 3: 2919, 8: 2898, 11: 2842, 18: 2749, 35: 2748, 17: 2678, 33: 2645, 28: 2544, 15: 2520, 26: 2515, 14: 2512, 31: 2472, 16: 2303, 22: 2275, 39: 2178, 23: 2170, 36: 2156, 21: 2112, 20: 2079, 30: 2076, 34: 2076, 6: 2052, 37: 2016, 40: 1995, 0: 1992, 27: 1990, 32: 1960, 29: 1953, 24: 1935, 41: 1930, 42: 1910, 19: 1892})\n"
     ]
    }
   ],
   "source": [
    "aug_data_distribution = Counter(y_a)"
   ]
  },
  {
   "cell_type": "code",
   "execution_count": 14,
   "metadata": {
    "collapsed": false,
    "scrolled": true
   },
   "outputs": [
    {
     "data": {
      "image/png": "[encoded data removed]",
      "text/plain": [
       "<matplotlib.figure.Figure at 0x7fee64e2dcf8>"
      ]
     },
     "metadata": {},
     "output_type": "display_data"
    }
   ],
   "source": [
    "order_list = list(zip(*aug_data_distribution.most_common()))[0]\n",
    "order = [int(indices) for indices in order_list]\n",
    "f, ax = plt.subplots(figsize=(13, 5))\n",
    "ax = sns.countplot(x=y_a, order=order, color='seagreen', ax=ax, label=\"train\")\n",
    "\n",
    "#ax = sns.countplot(x=y_test, order=order, color='lightblue', ax=ax, label=\"test\")\n",
    "\n",
    "_ = ax.set_title('Label distribution')\n",
    "_ = ax.legend(ncol=2, loc=\"upper right\", frameon=True)\n",
    "_ = ax.set_xticklabels(['%s - %s'% (signnames[i], i) for i in order], rotation=90)"
   ]
  },
  {
   "cell_type": "code",
   "execution_count": 15,
   "metadata": {
    "collapsed": false
   },
   "outputs": [],
   "source": [
    "#normalize features so that all values are be\n",
    "X_train = X_a.astype(np.float32)\n",
    "X_valid = X_valid.astype(np.float32)\n",
    "X_test = X_test.astype(np.float32)\n",
    "y_train = y_a\n",
    "\n",
    "X_train /= 255\n",
    "X_valid /= 255\n",
    "X_test /= 255"
   ]
  },
  {
   "cell_type": "code",
   "execution_count": 16,
   "metadata": {
    "collapsed": false
   },
   "outputs": [
    {
     "name": "stdout",
     "output_type": "stream",
     "text": [
      "Data cached in pickle file.\n"
     ]
    }
   ],
   "source": [
    "import os\n",
    "# Save the data for easy access\n",
    "pickle_file = '/home/shreyas/Documents/sdcND/data/traffic_signs.pickle'\n",
    "if not os.path.isfile(pickle_file):\n",
    "    print('Saving data to pickle file...')\n",
    "    try:\n",
    "        with open(pickle_file, 'wb') as pfile:\n",
    "            pickle.dump(\n",
    "                {\n",
    "                    'train_dataset': X_train,\n",
    "                    'train_labels': y_train,\n",
    "                    'valid_dataset': X_valid,\n",
    "                    'valid_labels': y_valid,\n",
    "                    'test_dataset': X_test,\n",
    "                    'test_labels': y_test,\n",
    "                },\n",
    "                pfile, pickle.HIGHEST_PROTOCOL)\n",
    "    except Exception as e:\n",
    "        print('Unable to save data to', pickle_file, ':', e)\n",
    "        raise\n",
    "\n",
    "print('Data cached in pickle file.')"
   ]
  },
  {
   "cell_type": "code",
   "execution_count": 2,
   "metadata": {
    "collapsed": false
   },
   "outputs": [
    {
     "name": "stdout",
     "output_type": "stream",
     "text": [
      "Data and modules loaded.\n"
     ]
    }
   ],
   "source": [
    "import pickle\n",
    "\n",
    "pickle_file = '/home/shreyas/Documents/sdcND/data/traffic_signs.pickle'\n",
    "with open(pickle_file, 'rb') as f:\n",
    "  pickle_data = pickle.load(f)\n",
    "  X_train = pickle_data['train_dataset']\n",
    "  y_train = pickle_data['train_labels']\n",
    "  X_valid = pickle_data['valid_dataset']\n",
    "  y_valid = pickle_data['valid_labels']\n",
    "  X_test = pickle_data['test_dataset']\n",
    "  y_test = pickle_data['test_labels']\n",
    "  del pickle_data  # Free up memory\n",
    "\n",
    "\n",
    "print('Data and modules loaded.')"
   ]
  },
  {
   "cell_type": "code",
   "execution_count": 3,
   "metadata": {
    "collapsed": false
   },
   "outputs": [
    {
     "name": "stdout",
     "output_type": "stream",
     "text": [
      "(7842,) (12630,) (109456,)\n",
      "(7842, 32, 32, 3) (12630, 32, 32, 3) (109456, 32, 32, 3)\n"
     ]
    }
   ],
   "source": [
    "print (y_valid.shape, y_test.shape, y_train.shape)\n",
    "print (X_valid.shape, X_test.shape, X_train.shape)"
   ]
  },
  {
   "cell_type": "markdown",
   "metadata": {},
   "source": [
    "### Question 1 \n",
    "\n",
    "_Describe how you preprocessed the data. Why did you choose that technique?_"
   ]
  },
  {
   "cell_type": "markdown",
   "metadata": {},
   "source": [
    "**Answer:**"
   ]
  },
  {
   "cell_type": "markdown",
   "metadata": {
    "collapsed": false
   },
   "source": [
    "### Generate data additional data (OPTIONAL!)\n",
    "### and split the data into training/validation/testing sets here.\n",
    "### Feel free to use as many code cells as needed.\n",
    "pickle_file = '/home/shreyas/Documents/sdcND/data/udacity_traffic_signs.pickle'\n",
    "with open(pickle_file, 'rb') as f:\n",
    "  pickle_data = pickle.load(f)\n",
    "  X_train = pickle_data['train_dataset']\n",
    "  y_train = pickle_data['train_labels']\n",
    "  X_valid = pickle_data['valid_dataset']\n",
    "  y_valid = pickle_data['valid_labels']\n",
    "  X_test = pickle_data['test_dataset']\n",
    "  y_test = pickle_data['test_labels']\n",
    "  del pickle_data  # Free up memory\n",
    "\n",
    "\n",
    "print('Data and modules loaded.')"
   ]
  },
  {
   "cell_type": "markdown",
   "metadata": {},
   "source": [
    "### Question 2\n",
    "\n",
    "_Describe how you set up the training, validation and testing data for your model. **Optional**: If you generated additional data, how did you generate the data? Why did you generate the data? What are the differences in the new dataset (with generated data) from the original dataset?_"
   ]
  },
  {
   "cell_type": "markdown",
   "metadata": {},
   "source": [
    "**Answer:**"
   ]
  },
  {
   "cell_type": "code",
   "execution_count": 4,
   "metadata": {
    "collapsed": false
   },
   "outputs": [],
   "source": [
    "### Define your architecture here.\n",
    "### Feel free to use as many code cells as needed.\n",
    "def weights(shape):\n",
    "    return tf.Variable(tf.truncated_normal(shape, mean=0.0, stddev=0.1))\n",
    "\n",
    "\n",
    "def biases(length):\n",
    "    return tf.Variable(tf.zeros(length))\n",
    "\n",
    "\n",
    "def conv2d(x, nb_filter,\n",
    "           filter_size=[1,1],  \n",
    "           strides=[1,1,1,1],\n",
    "           padding='SAME',\n",
    "           batch_norm=False,  \n",
    "           is_training=False):\n",
    "    \n",
    "    # get shape for weight tensor\n",
    "    nb_channel = int(x.get_shape()[3])\n",
    "    shape = [filter_size[0], filter_size[1], nb_channel, nb_filter]\n",
    "    \n",
    "    # initiate the weights\n",
    "    W = weights(shape)\n",
    "    # convolution\n",
    "    layer = tf.nn.conv2d(x, W, strides=strides, padding=padding)\n",
    "    \n",
    "    # batch_normalisation   \n",
    "    if batch_norm:\n",
    "        layer = tf.contrib.layers.batch_norm(layer, scale=True, updates_collections=None, is_training=is_training)\n",
    "    else:\n",
    "        b = biases(nb_filter)\n",
    "        layer = tf.add(layer, b)\n",
    "        \n",
    "    return layer\n",
    "\n",
    "\n",
    "\n",
    "def flatten(layer):\n",
    "    layer_shape = layer.get_shape()\n",
    "    num_features = layer_shape[1:].num_elements()\n",
    "    layer_flat = tf.reshape(layer, [-1, num_features], name='flatten')\n",
    "    return layer_flat, num_features\n",
    "\n",
    "\n",
    "\n",
    "def dense(x, \n",
    "          nb_input, \n",
    "          nb_output,\n",
    "          batch_norm=False,\n",
    "          is_training=False,\n",
    "          relu=True):\n",
    "    \n",
    "    # get shape for weight tensor\n",
    "    shape = [nb_input, nb_output]\n",
    "    # intitiate weight matrix\n",
    "    W = weights(shape)\n",
    "    layer = tf.matmul(x,W)\n",
    "    \n",
    "    if batch_norm:\n",
    "        layer = tf.contrib.layers.batch_norm(layer, scale=True, updates_collections=None, is_training=is_training)\n",
    "    else:\n",
    "        b = biases(nb_output)\n",
    "        layer = tf.add(layer,b)\n",
    "    # perform relu activation\n",
    "    if relu:\n",
    "        layer = tf.nn.relu(layer)\n",
    "    \n",
    "    return layer\n",
    "\n",
    "\n",
    "def max_pool(x, ksize=[1,3,3,1], strides=[1,2,2,1], padding='SAME'):\n",
    "    return tf.nn.max_pool(x, ksize=ksize, strides=strides, padding=padding)\n",
    "    \n",
    "\n",
    "def avg_pool(x, ksize=[1,3,3,1], strides=[1,2,2,1], padding='SAME'):\n",
    "    return tf.nn.avg_pool(x, ksize=ksize, strides=strides, padding=padding)\n",
    "\n",
    "def combined_pool(x):\n",
    "    return tf.add(max_pool(x),avg_pool(x))"
   ]
  },
  {
   "cell_type": "code",
   "execution_count": 5,
   "metadata": {
    "collapsed": true
   },
   "outputs": [],
   "source": [
    "def model0(x, keep_prob, is_training):\n",
    "    # learning color space \n",
    "    color_s1 = conv2d(X,10, batch_norm=False, is_training=is_training)\n",
    "    color_s2 = conv2d(color_s1,3, batch_norm=False, is_training=is_training)\n",
    "    \n",
    "    # block 1 - convolution \n",
    "    conv1 = conv2d(color_s2, nb_filter=32, filter_size=[3,3], batch_norm=True, is_training=is_training)\n",
    "    conv1 = tf.nn.relu(conv1)\n",
    "    conv1 = conv2d(conv1, nb_filter=32, filter_size=[3,3], batch_norm=True, is_training=is_training)\n",
    "    conv1 = tf.nn.relu(conv1)\n",
    "    \n",
    "    \n",
    "    pool = max_pool(conv1)\n",
    "    dropout1 = tf.nn.dropout(pool, keep_prob)\n",
    "    \n",
    "    # block 2 \n",
    "    \n",
    "    conv2 = conv2d(dropout1, nb_filter=64, filter_size=[3,3], batch_norm=True, is_training=is_training)\n",
    "    conv2 = tf.nn.relu(conv2)\n",
    "    conv2 = conv2d(conv2, nb_filter=64, filter_size=[3,3], batch_norm=True, is_training=is_training)\n",
    "    conv2 = tf.nn.relu(conv2)\n",
    "    \n",
    "    \n",
    "    pool = max_pool(conv2)\n",
    "    dropout2 = tf.nn.dropout(pool, keep_prob)\n",
    "    \n",
    "    # block 3 \n",
    "    conv3 = conv2d(dropout2, nb_filter=128, filter_size=[3,3], batch_norm=True, is_training=is_training)\n",
    "    conv3 = tf.nn.relu(conv3)\n",
    "    conv3 = conv2d(conv3, nb_filter=128, filter_size=[3,3], batch_norm=True, is_training=is_training)\n",
    "    conv3 = tf.nn.relu(conv3)\n",
    "    \n",
    "    \n",
    "    pool = max_pool(conv3)\n",
    "    dropout3 = tf.nn.dropout(pool, keep_prob)\n",
    "      \n",
    "    # flatten the layer\n",
    "    flat1, f1 = flatten(dropout1)\n",
    "    flat2, f2 = flatten(dropout2)\n",
    "    flat3, f3 = flatten(dropout3)\n",
    "    \n",
    "    net = tf.concat(1,[flat1, flat2, flat3])\n",
    "    \n",
    "    features = f1+f2+f3\n",
    "    \n",
    "    # frist dense layer\n",
    "    fc1 = dense(net, features, 1024, batch_norm=True, is_training=is_training)\n",
    "    dropout = tf.nn.dropout(fc1, keep_prob)\n",
    "    \n",
    "    fc2 = dense(fc1, 1024, 1024, batch_norm=True, is_training=is_training)\n",
    "    dropout = tf.nn.dropout(fc2, keep_prob)\n",
    "    \n",
    "    # output layer\n",
    "    output = dense(dropout, 1024, 43, relu=False) \n",
    "    return tf.nn.softmax(output)"
   ]
  },
  {
   "cell_type": "code",
   "execution_count": 6,
   "metadata": {
    "collapsed": true
   },
   "outputs": [],
   "source": [
    "def model1(x, keep_prob, is_training):\n",
    "    # learning color space \n",
    "    color_s1 = conv2d(X,10, batch_norm=True, is_training=is_training)\n",
    "    color_s2 = conv2d(color_s1,3, batch_norm=True, is_training=is_training)\n",
    "    \n",
    "    # block 1 - convolution \n",
    "    conv1x1 = conv2d(color_s2, nb_filter=64, filter_size=[1,1], batch_norm=True, is_training=is_training)\n",
    "    conv1x1 = tf.nn.relu(conv1x1)\n",
    "    conv5x5 = conv2d(conv1x1, nb_filter=64, filter_size=[5,5], batch_norm=True, is_training=is_training)\n",
    "    conv5x5 = tf.nn.relu(conv5x5)\n",
    "    conv1x1 = conv2d(conv5x5, nb_filter=128, filter_size=[1,1], batch_norm=True, is_training=is_training)\n",
    "    conv1x1 = tf.nn.relu(conv1x1)\n",
    "    \n",
    "    pool = combined_pool(conv1x1)\n",
    "    dropout = tf.nn.dropout(pool, keep_prob)\n",
    "    \n",
    "    # block 2 \n",
    "    \n",
    "    conv1x1 = conv2d(dropout, nb_filter=128, filter_size=[1,1], batch_norm=True, is_training=is_training)\n",
    "    conv1x1 = tf.nn.relu(conv1x1)\n",
    "    conv5x5 = conv2d(conv1x1, nb_filter=128, filter_size=[5,5], batch_norm=True, is_training=is_training)\n",
    "    conv5x5 = tf.nn.relu(conv5x5)\n",
    "    conv1x1 = conv2d(conv5x5, nb_filter=256, filter_size=[1,1], batch_norm=True, is_training=is_training)\n",
    "    conv1x1 = tf.nn.relu(conv1x1)\n",
    "    \n",
    "    pool = combined_pool(conv1x1)\n",
    "    dropout = tf.nn.dropout(pool, keep_prob)\n",
    "    \n",
    "    # block 3 \n",
    "    conv1x1 = conv2d(dropout, nb_filter=128, filter_size=[1,1], batch_norm=True, is_training=is_training)\n",
    "    conv1x1 = tf.nn.relu(conv1x1)\n",
    "    conv3x3 = conv2d(conv1x1, nb_filter=128, filter_size=[3,3], batch_norm=True, is_training=is_training)\n",
    "    conv3x3 = tf.nn.relu(conv3x3)\n",
    "    conv1x1 = conv2d(conv3x3, nb_filter=256, filter_size=[1,1], batch_norm=True, is_training=is_training)\n",
    "    conv1x1 = tf.nn.relu(conv1x1)\n",
    "    \n",
    "    pool = combined_pool(conv1x1)\n",
    "    dropout = tf.nn.dropout(pool, keep_prob)\n",
    "    \n",
    "    # flatten the layer\n",
    "    flat, features = flatten(dropout)\n",
    "    \n",
    "    # frist dense layer\n",
    "    fc1 = dense(flat, features, 1024, batch_norm=True, is_training=is_training)\n",
    "    dropout = tf.nn.dropout(fc1, keep_prob)\n",
    "    \n",
    "    fc2 = dense(fc1, 1024, 1024, batch_norm=True, is_training=is_training)\n",
    "    dropout = tf.nn.dropout(fc2, keep_prob)\n",
    "    \n",
    "    # output layer\n",
    "    output = dense(dropout, 1024, 43, relu=False) \n",
    "    return output"
   ]
  },
  {
   "cell_type": "code",
   "execution_count": 7,
   "metadata": {
    "collapsed": true
   },
   "outputs": [],
   "source": [
    "def model2(x, keep_prob, is_training):\n",
    "    # learning color space \n",
    "    color_s1 = conv2d(X,10, batch_norm=True, is_training=is_training)\n",
    "    color_s2 = conv2d(color_s1,3, batch_norm=True, is_training=is_training)\n",
    "    \n",
    "    # block 1 - convolution \n",
    "    conv1x1 = conv2d(color_s2, nb_filter=64, filter_size=[1,1], batch_norm=True, is_training=is_training)\n",
    "    conv1x1 = tf.nn.relu(conv1x1)\n",
    "    conv5x5 = conv2d(conv1x1, nb_filter=64, filter_size=[5,5], batch_norm=True, is_training=is_training)\n",
    "    conv5x5 = tf.nn.relu(conv5x5)\n",
    "    conv1x1 = conv2d(conv5x5, nb_filter=256, filter_size=[1,1], batch_norm=True, is_training=is_training)\n",
    "    conv1x1 = tf.nn.relu(conv1x1)\n",
    "    \n",
    "    pool = combined_pool(conv1x1)\n",
    "    dropout = tf.nn.dropout(pool, keep_prob)\n",
    "    \n",
    "    # block 2 \n",
    "    \n",
    "    conv1x1 = conv2d(dropout, nb_filter=128, filter_size=[1,1], batch_norm=True, is_training=is_training)\n",
    "    conv1x1 = tf.nn.relu(conv1x1)\n",
    "    conv5x5 = conv2d(conv1x1, nb_filter=128, filter_size=[5,5], batch_norm=True, is_training=is_training)\n",
    "    conv5x5 = tf.nn.relu(conv5x5)\n",
    "    conv1x1 = conv2d(conv5x5, nb_filter=256, filter_size=[1,1], batch_norm=True, is_training=is_training)\n",
    "        \n",
    "    net = tf.add(conv1x1, pool)\n",
    "    net = tf.nn.relu(net)\n",
    "    pool = combined_pool(net)\n",
    "    dropout = tf.nn.dropout(pool, keep_prob)\n",
    "    \n",
    "    # block 3 \n",
    "    \n",
    "    conv1x1 = conv2d(dropout, nb_filter=128, filter_size=[1,1], batch_norm=True, is_training=is_training)\n",
    "    conv1x1 = tf.nn.relu(conv1x1)\n",
    "    conv3x3 = conv2d(conv1x1, nb_filter=128, filter_size=[3,3], batch_norm=True, is_training=is_training)\n",
    "    conv3x3 = tf.nn.relu(conv3x3)\n",
    "    conv1x1 = conv2d(conv3x3, nb_filter=256, filter_size=[1,1], batch_norm=True, is_training=is_training)\n",
    "    \n",
    "    net = tf.add(conv1x1, pool)\n",
    "    net = tf.nn.relu(net)\n",
    "    pool = combined_pool(net)\n",
    "    dropout = tf.nn.dropout(pool, keep_prob)\n",
    "    \n",
    "    # flatten the layer\n",
    "    flat, features = flatten(dropout)\n",
    "    \n",
    "    # frist dense layer\n",
    "    fc1 = dense(flat, features, 4096, batch_norm=True, is_training=is_training)\n",
    "    dropout = tf.nn.dropout(fc1, keep_prob)\n",
    "          \n",
    "    # output layer\n",
    "    output = dense(dropout, 4096, 43, relu=False) \n",
    "    return output"
   ]
  },
  {
   "cell_type": "code",
   "execution_count": 8,
   "metadata": {
    "collapsed": true
   },
   "outputs": [],
   "source": [
    "def model3(x, keep_prob, is_training):\n",
    "    # learning color space \n",
    "    color_s1 = conv2d(X,10, batch_norm=True, is_training=is_training)\n",
    "    color_s2 = conv2d(color_s1,3, batch_norm=True, is_training=is_training)\n",
    "    \n",
    "    # block 1 - convolution \n",
    "    conv1x1 = conv2d(color_s2, nb_filter=64, filter_size=[1,1], batch_norm=True, is_training=is_training)\n",
    "    conv1x1 = tf.nn.relu(conv1x1)\n",
    "    conv5x5 = conv2d(conv1x1, nb_filter=64, filter_size=[5,5], batch_norm=True, is_training=is_training)\n",
    "    conv5x5 = tf.nn.relu(conv5x5)\n",
    "    conv1x1 = conv2d(conv5x5, nb_filter=256, filter_size=[1,1], batch_norm=True, is_training=is_training)\n",
    "    conv1x1 = tf.nn.relu(conv1x1)\n",
    "    \n",
    "    pool = combined_pool(conv1x1)\n",
    "    dropout = tf.nn.dropout(pool, keep_prob)\n",
    "    \n",
    "    # block 2 - inception\n",
    "    branch_pool = avg_pool(conv1x1)\n",
    "    branch_pool = conv2d(branch_pool, nb_filter=96, filter_size=[1,1], batch_norm=True, is_training=is_training)\n",
    "    \n",
    "    branch_conv1x1 = conv2d(dropout, nb_filter=96, filter_size=[1,1], batch_norm=True, is_training=is_training)\n",
    "    conv1x1 = conv2d(dropout, nb_filter=64, filter_size=[1,1], batch_norm=True, is_training=is_training)\n",
    "    branch_conv3x3 = conv2d(conv1x1, nb_filter=96, filter_size=[3,3], batch_norm=True, is_training=is_training)\n",
    "    branch2_conv3x3 = conv2d(branch_conv3x3, nb_filter=96, filter_size=[3,3], batch_norm=True, is_training=is_training)\n",
    "        \n",
    "    net = tf.concat(3,[branch_pool, branch_conv1x1, branch_conv3x3, branch2_conv3x3])\n",
    "    net = tf.nn.relu(net)\n",
    "    pool = max_pool(net)\n",
    "    dropout = tf.nn.dropout(pool, keep_prob)\n",
    "    \n",
    "    # block 3 - inception\n",
    "    branch_pool = avg_pool(net)\n",
    "    branch_pool = conv2d(branch_pool, nb_filter=96, filter_size=[1,1], batch_norm=True, is_training=is_training)\n",
    "    \n",
    "    branch_conv1x1 = conv2d(dropout, nb_filter=96, filter_size=[1,1], batch_norm=True, is_training=is_training)\n",
    "    conv1x1 = conv2d(dropout, nb_filter=64, filter_size=[1,1], batch_norm=True, is_training=is_training)\n",
    "    branch_conv3x3 = conv2d(conv1x1, nb_filter=96, filter_size=[3,3], batch_norm=True, is_training=is_training)\n",
    "    branch_conv5x5 = conv2d(conv1x1, nb_filter=96, filter_size=[5,5], batch_norm=True, is_training=is_training)\n",
    "    \n",
    "    net = tf.concat(3,[branch_pool, branch_conv1x1, branch_conv3x3, branch_conv5x5])\n",
    "    net = tf.nn.relu(net)\n",
    "    pool = max_pool(net)\n",
    "    dropout = tf.nn.dropout(pool, keep_prob)\n",
    "    \n",
    "    # flatten the layer\n",
    "    flat, features = flatten(dropout)\n",
    "    \n",
    "    # frist dense layer\n",
    "    fc1 = dense(flat, features, 4096, batch_norm=True, is_training=is_training)\n",
    "    dropout = tf.nn.dropout(fc1, keep_prob)\n",
    "        \n",
    "    # output layer\n",
    "    output = dense(dropout, 4096, 43, relu=False) \n",
    "    return output"
   ]
  },
  {
   "cell_type": "code",
   "execution_count": 9,
   "metadata": {
    "collapsed": true
   },
   "outputs": [],
   "source": [
    "def model4(x, keep_prob, is_training):\n",
    "    # learning color space \n",
    "    color_s1 = conv2d(X,10, batch_norm=True, is_training=is_training)\n",
    "    color_s2 = conv2d(color_s1,3, batch_norm=True, is_training=is_training)\n",
    "    \n",
    "    # block 1 - convolution \n",
    "    conv1x1 = conv2d(color_s2, nb_filter=64, filter_size=[1,1], batch_norm=True, is_training=is_training)\n",
    "    conv1x1 = tf.nn.relu(conv1x1)\n",
    "    conv5x5 = conv2d(conv1x1, nb_filter=64, filter_size=[5,5], batch_norm=True, is_training=is_training)\n",
    "    conv5x5 = tf.nn.relu(conv5x5)\n",
    "    conv1x1 = conv2d(conv5x5, nb_filter=384, filter_size=[1,1], batch_norm=True, is_training=is_training)\n",
    "    conv1x1 = tf.nn.relu(conv1x1)\n",
    "    \n",
    "    pool = combined_pool(conv1x1)\n",
    "    dropout = tf.nn.dropout(pool, keep_prob)\n",
    "    \n",
    "    # block 2 - inception\n",
    "    branch_pool = avg_pool(conv1x1)\n",
    "    branch_pool = conv2d(branch_pool, nb_filter=96, filter_size=[1,1], batch_norm=True, is_training=is_training)\n",
    "    \n",
    "    branch_conv1x1 = conv2d(dropout, nb_filter=96, filter_size=[1,1], batch_norm=True, is_training=is_training)\n",
    "    conv1x1 = conv2d(dropout, nb_filter=64, filter_size=[1,1], batch_norm=True, is_training=is_training)\n",
    "    branch_conv3x3 = conv2d(conv1x1, nb_filter=96, filter_size=[3,3], batch_norm=True, is_training=is_training)\n",
    "    branch2_conv3x3 = conv2d(branch_conv3x3, nb_filter=96, filter_size=[3,3], batch_norm=True, is_training=is_training)\n",
    "        \n",
    "    net = tf.concat(3,[branch_pool, branch_conv1x1, branch_conv3x3, branch2_conv3x3])\n",
    "    net = tf.add(pool,net)\n",
    "    net = tf.nn.relu(net)\n",
    "    pool = max_pool(net)\n",
    "    dropout = tf.nn.dropout(pool, keep_prob)\n",
    "    \n",
    "    # block 3 - inception\n",
    "    branch_pool = avg_pool(net)\n",
    "    branch_pool = conv2d(branch_pool, nb_filter=96, filter_size=[1,1], batch_norm=True, is_training=is_training)\n",
    "    \n",
    "    branch_conv1x1 = conv2d(dropout, nb_filter=96, filter_size=[1,1], batch_norm=True, is_training=is_training)\n",
    "    conv1x1 = conv2d(dropout, nb_filter=64, filter_size=[1,1], batch_norm=True, is_training=is_training)\n",
    "    branch_conv3x3 = conv2d(conv1x1, nb_filter=96, filter_size=[3,3], batch_norm=True, is_training=is_training)\n",
    "    branch_conv5x5 = conv2d(conv1x1, nb_filter=96, filter_size=[5,5], batch_norm=True, is_training=is_training)\n",
    "    \n",
    "    net = tf.concat(3,[branch_pool, branch_conv1x1, branch_conv3x3, branch_conv5x5])\n",
    "    net = tf.add(pool,net)\n",
    "    net = tf.nn.relu(net)\n",
    "    pool = max_pool(net)\n",
    "    dropout = tf.nn.dropout(pool, keep_prob)\n",
    "    \n",
    "    # flatten the layer\n",
    "    flat, features = flatten(dropout)\n",
    "    \n",
    "    # frist dense layer\n",
    "    fc1 = dense(flat, features, 4096, batch_norm=True, is_training=is_training)\n",
    "    dropout = tf.nn.dropout(fc1, keep_prob)\n",
    "   \n",
    "    # output layer\n",
    "    output = dense(dropout, 4096, 43, relu=False) \n",
    "    return output"
   ]
  },
  {
   "cell_type": "code",
   "execution_count": 10,
   "metadata": {
    "collapsed": false
   },
   "outputs": [],
   "source": [
    "def get_accuracy(y_pred, y):\n",
    "    #y_pred = tf.nn.softmax(logits)\n",
    "    correct_pred = tf.equal(tf.argmax(y_pred,1),y)\n",
    "    accuracy = tf.reduce_mean(tf.cast(correct_pred, tf.float32))\n",
    "    return accuracy\n",
    "\n",
    "def evaluate(X_data, y_data):\n",
    "    num_examples = len(X_data)\n",
    "    total_accuracy = 0\n",
    "    total_loss = 0\n",
    "    sess = tf.get_default_session()\n",
    "    for offset in range(0, num_examples, batch_size):\n",
    "        batch_x, batch_y = X_data[offset:offset+batch_size], y_data[offset:offset+batch_size]\n",
    "        acc, cost = sess.run([accuracy,loss], feed_dict={X: batch_x, y: batch_y, keep_prob:1, is_training:False})\n",
    "        total_accuracy += (acc * len(batch_x))\n",
    "        total_loss += cost\n",
    "    return total_accuracy/num_examples, total_loss/num_examples"
   ]
  },
  {
   "cell_type": "markdown",
   "metadata": {},
   "source": [
    "### Question 3\n",
    "\n",
    "_What does your final architecture look like? (Type of model, layers, sizes, connectivity, etc.)  For reference on how to build a deep neural network using TensorFlow, see [Deep Neural Network in TensorFlow\n",
    "](https://classroom.udacity.com/nanodegrees/nd013/parts/fbf77062-5703-404e-b60c-95b78b2f3f9e/modules/6df7ae49-c61c-4bb2-a23e-6527e69209ec/lessons/b516a270-8600-4f93-a0a3-20dfeabe5da6/concepts/83a3a2a2-a9bd-4b7b-95b0-eb924ab14432) from the classroom._\n"
   ]
  },
  {
   "cell_type": "markdown",
   "metadata": {},
   "source": [
    "**Answer:**"
   ]
  },
  {
   "cell_type": "code",
   "execution_count": 11,
   "metadata": {
    "collapsed": false
   },
   "outputs": [],
   "source": [
    "# placeholder for input and outputs\n",
    "X = tf.placeholder(tf.float32, (None, 32, 32, 3))\n",
    "y = tf.placeholder(tf.int64, (None))\n",
    "keep_prob = tf.placeholder(tf.float32)\n",
    "is_training = tf.placeholder(tf.bool, [])"
   ]
  },
  {
   "cell_type": "code",
   "execution_count": 12,
   "metadata": {
    "collapsed": false
   },
   "outputs": [],
   "source": [
    "### Train your model here.\n",
    "### Feel free to use as many code cells as needed.\n",
    "logits =model1(X, keep_prob, is_training)\n",
    "\n",
    "cross_entropy = tf.nn.sparse_softmax_cross_entropy_with_logits(logits, y)\n",
    "loss = tf.reduce_mean(cross_entropy)\n",
    "\n",
    "optimizer = tf.train.AdamOptimizer(3e-4).minimize(loss)\n",
    "\n",
    "accuracy = get_accuracy(logits, y)"
   ]
  },
  {
   "cell_type": "code",
   "execution_count": 13,
   "metadata": {
    "collapsed": true
   },
   "outputs": [],
   "source": [
    "batch_size = 128 "
   ]
  },
  {
   "cell_type": "code",
   "execution_count": 14,
   "metadata": {
    "collapsed": false,
    "scrolled": true
   },
   "outputs": [
    {
     "name": "stderr",
     "output_type": "stream",
     "text": [
      "Epoch  1/377: 100%|██████████| 856/856 [02:13<00:00,  6.44batches/s]\n",
      "Epoch  2/377:   0%|          | 1/856 [00:00<02:04,  6.89batches/s]"
     ]
    },
    {
     "name": "stdout",
     "output_type": "stream",
     "text": [
      "Validation accuracy at (0.0056108135679673555, 0.035784158679910597)\n"
     ]
    },
    {
     "name": "stderr",
     "output_type": "stream",
     "text": [
      "Epoch  2/377: 100%|██████████| 856/856 [02:08<00:00,  6.66batches/s]\n",
      "Epoch  3/377:   0%|          | 1/856 [00:00<02:06,  6.77batches/s]"
     ]
    },
    {
     "name": "stdout",
     "output_type": "stream",
     "text": [
      "Validation accuracy at (0.0056108135679673555, 0.06288981492408105)\n"
     ]
    },
    {
     "name": "stderr",
     "output_type": "stream",
     "text": [
      "Epoch  3/377: 100%|██████████| 856/856 [02:08<00:00,  6.65batches/s]\n",
      "Epoch  4/377:   0%|          | 1/856 [00:00<02:07,  6.71batches/s]"
     ]
    },
    {
     "name": "stdout",
     "output_type": "stream",
     "text": [
      "Validation accuracy at (0.0056108135679673555, 0.058623518210471633)\n"
     ]
    },
    {
     "name": "stderr",
     "output_type": "stream",
     "text": [
      "Epoch  4/377: 100%|██████████| 856/856 [02:07<00:00,  6.70batches/s]\n",
      "Epoch  5/377:   0%|          | 1/856 [00:00<02:03,  6.91batches/s]"
     ]
    },
    {
     "name": "stdout",
     "output_type": "stream",
     "text": [
      "Validation accuracy at (0.0068859984697781174, 0.057320273612658915)\n"
     ]
    },
    {
     "name": "stderr",
     "output_type": "stream",
     "text": [
      "Epoch  5/377: 100%|██████████| 856/856 [02:08<00:00,  6.68batches/s]\n",
      "Epoch  6/377:   0%|          | 1/856 [00:00<02:12,  6.47batches/s]"
     ]
    },
    {
     "name": "stdout",
     "output_type": "stream",
     "text": [
      "Validation accuracy at (0.11795460344409797, 0.046855197272657044)\n"
     ]
    },
    {
     "name": "stderr",
     "output_type": "stream",
     "text": [
      "Epoch  6/377: 100%|██████████| 856/856 [02:10<00:00,  6.56batches/s]\n",
      "Epoch  7/377:   0%|          | 1/856 [00:00<02:09,  6.62batches/s]"
     ]
    },
    {
     "name": "stdout",
     "output_type": "stream",
     "text": [
      "Validation accuracy at (0.39964294825029506, 0.024350105272024088)\n"
     ]
    },
    {
     "name": "stderr",
     "output_type": "stream",
     "text": [
      "Epoch  7/377: 100%|██████████| 856/856 [02:08<00:00,  6.67batches/s]\n",
      "Epoch  8/377:   0%|          | 1/856 [00:00<02:01,  7.06batches/s]"
     ]
    },
    {
     "name": "stdout",
     "output_type": "stream",
     "text": [
      "Validation accuracy at (0.62484060199368341, 0.014850410415456781)\n"
     ]
    },
    {
     "name": "stderr",
     "output_type": "stream",
     "text": [
      "Epoch  8/377: 100%|██████████| 856/856 [02:12<00:00,  6.45batches/s]\n",
      "Epoch  9/377:   0%|          | 1/856 [00:00<02:03,  6.91batches/s]"
     ]
    },
    {
     "name": "stdout",
     "output_type": "stream",
     "text": [
      "Validation accuracy at (0.83282325943341462, 0.0050727453494187492)\n"
     ]
    },
    {
     "name": "stderr",
     "output_type": "stream",
     "text": [
      "Epoch  9/377: 100%|██████████| 856/856 [02:12<00:00,  6.46batches/s]\n",
      "Epoch 10/377:   0%|          | 1/856 [00:00<02:02,  6.96batches/s]"
     ]
    },
    {
     "name": "stdout",
     "output_type": "stream",
     "text": [
      "Validation accuracy at (0.94095893921337692, 0.001590657930795528)\n"
     ]
    },
    {
     "name": "stderr",
     "output_type": "stream",
     "text": [
      "Epoch 10/377: 100%|██████████| 856/856 [02:08<00:00,  6.67batches/s]\n",
      "Epoch 11/377:   0%|          | 1/856 [00:00<01:57,  7.25batches/s]"
     ]
    },
    {
     "name": "stdout",
     "output_type": "stream",
     "text": [
      "Validation accuracy at (0.97436878348880507, 0.00071688713536741968)\n"
     ]
    },
    {
     "name": "stderr",
     "output_type": "stream",
     "text": [
      "Epoch 11/377: 100%|██████████| 856/856 [02:09<00:00,  6.61batches/s]\n"
     ]
    },
    {
     "name": "stdout",
     "output_type": "stream",
     "text": [
      "Validation accuracy at (0.96875797004244879, 0.00087042511444376369)\n"
     ]
    },
    {
     "name": "stderr",
     "output_type": "stream",
     "text": [
      "Epoch 12/377: 100%|██████████| 856/856 [02:06<00:00,  6.74batches/s]\n",
      "Epoch 13/377:   0%|          | 1/856 [00:00<01:59,  7.18batches/s]"
     ]
    },
    {
     "name": "stdout",
     "output_type": "stream",
     "text": [
      "Validation accuracy at (0.97003315482264851, 0.00076236397611560171)\n"
     ]
    },
    {
     "name": "stderr",
     "output_type": "stream",
     "text": [
      "Epoch 13/377: 100%|██████████| 856/856 [02:04<00:00,  6.89batches/s]\n",
      "Epoch 14/377:   0%|          | 1/856 [00:00<01:59,  7.16batches/s]"
     ]
    },
    {
     "name": "stdout",
     "output_type": "stream",
     "text": [
      "Validation accuracy at (0.98597296621689412, 0.00034675098721909906)\n"
     ]
    },
    {
     "name": "stderr",
     "output_type": "stream",
     "text": [
      "Epoch 14/377: 100%|██████████| 856/856 [02:07<00:00,  6.72batches/s]\n",
      "Epoch 15/377:   0%|          | 1/856 [00:00<01:59,  7.18batches/s]"
     ]
    },
    {
     "name": "stdout",
     "output_type": "stream",
     "text": [
      "Validation accuracy at (0.97118082121907678, 0.00081699856161953418)\n"
     ]
    },
    {
     "name": "stderr",
     "output_type": "stream",
     "text": [
      "Epoch 15/377: 100%|██████████| 856/856 [02:09<00:00,  6.59batches/s]\n",
      "Epoch 16/377:   0%|          | 1/856 [00:00<02:04,  6.89batches/s]"
     ]
    },
    {
     "name": "stdout",
     "output_type": "stream",
     "text": [
      "Validation accuracy at (0.96952308086192418, 0.0010559026334371567)\n"
     ]
    },
    {
     "name": "stderr",
     "output_type": "stream",
     "text": [
      "Epoch 16/377: 100%|██████████| 856/856 [02:05<00:00,  6.82batches/s]\n",
      "Epoch 17/377:   0%|          | 0/856 [00:00<?, ?batches/s]"
     ]
    },
    {
     "name": "stdout",
     "output_type": "stream",
     "text": [
      "Validation accuracy at (0.98699311413834268, 0.00038229706415702754)\n"
     ]
    },
    {
     "name": "stderr",
     "output_type": "stream",
     "text": [
      "Epoch 17/377: 100%|██████████| 856/856 [02:10<00:00,  6.56batches/s]\n",
      "Epoch 18/377:   0%|          | 1/856 [00:00<01:59,  7.15batches/s]"
     ]
    },
    {
     "name": "stdout",
     "output_type": "stream",
     "text": [
      "Validation accuracy at (0.99387911247130833, 0.00016112717804644749)\n"
     ]
    },
    {
     "name": "stderr",
     "output_type": "stream",
     "text": [
      "Epoch 18/377: 100%|██████████| 856/856 [02:08<00:00,  6.65batches/s]\n",
      "Epoch 19/377:   0%|          | 1/856 [00:00<01:59,  7.16batches/s]"
     ]
    },
    {
     "name": "stdout",
     "output_type": "stream",
     "text": [
      "Validation accuracy at (0.98099974509983212, 0.00075231121762854482)\n"
     ]
    },
    {
     "name": "stderr",
     "output_type": "stream",
     "text": [
      "Epoch 19/377: 100%|██████████| 856/856 [02:06<00:00,  6.77batches/s]\n",
      "Epoch 20/377:   0%|          | 1/856 [00:00<02:00,  7.08batches/s]"
     ]
    },
    {
     "name": "stdout",
     "output_type": "stream",
     "text": [
      "Validation accuracy at (0.99247640907931645, 0.00021174827405069175)\n"
     ]
    },
    {
     "name": "stderr",
     "output_type": "stream",
     "text": [
      "Epoch 20/377: 100%|██████████| 856/856 [02:05<00:00,  6.80batches/s]\n",
      "Epoch 21/377:   0%|          | 1/856 [00:00<02:00,  7.10batches/s]"
     ]
    },
    {
     "name": "stdout",
     "output_type": "stream",
     "text": [
      "Validation accuracy at (0.98508033664881411, 0.00041259595597008096)\n"
     ]
    },
    {
     "name": "stderr",
     "output_type": "stream",
     "text": [
      "Epoch 21/377: 100%|██████████| 856/856 [02:10<00:00,  6.58batches/s]\n",
      "Epoch 22/377:   0%|          | 1/856 [00:00<02:00,  7.10batches/s]"
     ]
    },
    {
     "name": "stdout",
     "output_type": "stream",
     "text": [
      "Validation accuracy at (0.98967100229533278, 0.0002530528229278401)\n"
     ]
    },
    {
     "name": "stderr",
     "output_type": "stream",
     "text": [
      "Epoch 22/377: 100%|██████████| 856/856 [02:07<00:00,  6.70batches/s]\n",
      "Epoch 23/377:   0%|          | 1/856 [00:00<01:57,  7.29batches/s]"
     ]
    },
    {
     "name": "stdout",
     "output_type": "stream",
     "text": [
      "Validation accuracy at (0.95422086216180613, 0.0025230651591671453)\n"
     ]
    },
    {
     "name": "stderr",
     "output_type": "stream",
     "text": [
      "Epoch 23/377: 100%|██████████| 856/856 [02:05<00:00,  6.81batches/s]\n",
      "Epoch 24/377:   0%|          | 1/856 [00:00<01:59,  7.13batches/s]"
     ]
    },
    {
     "name": "stdout",
     "output_type": "stream",
     "text": [
      "Validation accuracy at (0.991583779648049, 0.00023259281471959783)\n"
     ]
    },
    {
     "name": "stderr",
     "output_type": "stream",
     "text": [
      "Epoch 24/377: 100%|██████████| 856/856 [02:07<00:00,  6.70batches/s]\n",
      "Epoch 25/377:   0%|          | 1/856 [00:00<02:04,  6.87batches/s]"
     ]
    },
    {
     "name": "stdout",
     "output_type": "stream",
     "text": [
      "Validation accuracy at (0.9218311656558128, 0.0045744985516841729)\n"
     ]
    },
    {
     "name": "stderr",
     "output_type": "stream",
     "text": [
      "Epoch 25/377: 100%|██████████| 856/856 [02:07<00:00,  6.70batches/s]\n",
      "Epoch 26/377:   0%|          | 1/856 [00:00<02:06,  6.73batches/s]"
     ]
    },
    {
     "name": "stdout",
     "output_type": "stream",
     "text": [
      "Validation accuracy at (0.99311400153022189, 0.00018714579015565323)\n"
     ]
    },
    {
     "name": "stderr",
     "output_type": "stream",
     "text": [
      "Epoch 26/377: 100%|██████████| 856/856 [02:05<00:00,  6.81batches/s]\n",
      "Epoch 27/377:   0%|          | 1/856 [00:00<01:59,  7.16batches/s]"
     ]
    },
    {
     "name": "stdout",
     "output_type": "stream",
     "text": [
      "Validation accuracy at (0.99540933435348122, 0.00010514634461431569)\n"
     ]
    },
    {
     "name": "stderr",
     "output_type": "stream",
     "text": [
      "Epoch 27/377: 100%|██████████| 856/856 [02:07<00:00,  6.70batches/s]\n",
      "Epoch 28/377:   0%|          | 1/856 [00:00<02:00,  7.11batches/s]"
     ]
    },
    {
     "name": "stdout",
     "output_type": "stream",
     "text": [
      "Validation accuracy at (0.99273144619649112, 0.00021617589314159189)\n"
     ]
    },
    {
     "name": "stderr",
     "output_type": "stream",
     "text": [
      "Epoch 28/377: 100%|██████████| 856/856 [02:10<00:00,  6.58batches/s]\n",
      "Epoch 29/377:   0%|          | 1/856 [00:00<02:00,  7.11batches/s]"
     ]
    },
    {
     "name": "stdout",
     "output_type": "stream",
     "text": [
      "Validation accuracy at (0.99030859474623822, 0.00031367362740178118)\n"
     ]
    },
    {
     "name": "stderr",
     "output_type": "stream",
     "text": [
      "Epoch 29/377: 100%|██████████| 856/856 [02:05<00:00,  6.81batches/s]\n",
      "Epoch 30/377:   0%|          | 1/856 [00:00<01:57,  7.30batches/s]"
     ]
    },
    {
     "name": "stdout",
     "output_type": "stream",
     "text": [
      "Validation accuracy at (0.98469778131508334, 0.00068287101087562011)\n"
     ]
    },
    {
     "name": "stderr",
     "output_type": "stream",
     "text": [
      "Epoch 30/377: 100%|██████████| 856/856 [02:07<00:00,  6.70batches/s]\n",
      "Epoch 31/377:   0%|          | 1/856 [00:00<01:58,  7.23batches/s]"
     ]
    },
    {
     "name": "stdout",
     "output_type": "stream",
     "text": [
      "Validation accuracy at (0.99247640907931645, 0.00020992862780547957)\n"
     ]
    },
    {
     "name": "stderr",
     "output_type": "stream",
     "text": [
      "Epoch 31/377: 100%|██████████| 856/856 [02:07<00:00,  6.71batches/s]\n"
     ]
    },
    {
     "name": "stdout",
     "output_type": "stream",
     "text": [
      "Validation accuracy at (0.979979597041571, 0.0011490588157337062)\n"
     ]
    },
    {
     "name": "stderr",
     "output_type": "stream",
     "text": [
      "Epoch 32/377: 100%|██████████| 856/856 [02:05<00:00,  6.81batches/s]\n",
      "Epoch 33/377:   0%|          | 0/856 [00:00<?, ?batches/s]"
     ]
    },
    {
     "name": "stdout",
     "output_type": "stream",
     "text": [
      "Validation accuracy at (0.93509308863464469, 0.0051208814756659275)\n"
     ]
    },
    {
     "name": "stderr",
     "output_type": "stream",
     "text": [
      "Epoch 33/377: 100%|██████████| 856/856 [02:07<00:00,  6.70batches/s]\n",
      "Epoch 34/377:   0%|          | 1/856 [00:00<01:57,  7.26batches/s]"
     ]
    },
    {
     "name": "stdout",
     "output_type": "stream",
     "text": [
      "Validation accuracy at (0.94656975275094157, 0.0036742374903311749)\n"
     ]
    },
    {
     "name": "stderr",
     "output_type": "stream",
     "text": [
      "Epoch 34/377: 100%|██████████| 856/856 [02:07<00:00,  6.70batches/s]\n",
      "Epoch 35/377:   0%|          | 1/856 [00:00<01:58,  7.22batches/s]"
     ]
    },
    {
     "name": "stdout",
     "output_type": "stream",
     "text": [
      "Validation accuracy at (0.95077786280530596, 0.0026841861816031443)\n"
     ]
    },
    {
     "name": "stderr",
     "output_type": "stream",
     "text": [
      "Epoch 35/377: 100%|██████████| 856/856 [02:07<00:00,  6.70batches/s]\n",
      "Epoch 36/377:   0%|          | 1/856 [00:00<02:00,  7.12batches/s]"
     ]
    },
    {
     "name": "stdout",
     "output_type": "stream",
     "text": [
      "Validation accuracy at (0.9889058914910589, 0.0004617915894752372)\n"
     ]
    },
    {
     "name": "stderr",
     "output_type": "stream",
     "text": [
      "Epoch 36/377: 100%|██████████| 856/856 [02:05<00:00,  6.81batches/s]\n",
      "Epoch 37/377:   0%|          | 1/856 [00:00<02:00,  7.08batches/s]"
     ]
    },
    {
     "name": "stdout",
     "output_type": "stream",
     "text": [
      "Validation accuracy at (0.99757714868655956, 9.4255352425238879e-05)\n"
     ]
    },
    {
     "name": "stderr",
     "output_type": "stream",
     "text": [
      "Epoch 37/377: 100%|██████████| 856/856 [02:07<00:00,  6.70batches/s]\n",
      "Epoch 38/377:   0%|          | 1/856 [00:00<02:05,  6.84batches/s]"
     ]
    },
    {
     "name": "stdout",
     "output_type": "stream",
     "text": [
      "Validation accuracy at (0.99591940831420556, 0.00014130473739798978)\n"
     ]
    },
    {
     "name": "stderr",
     "output_type": "stream",
     "text": [
      "Epoch 38/377: 100%|██████████| 856/856 [02:07<00:00,  6.70batches/s]\n",
      "Epoch 39/377:   0%|          | 1/856 [00:00<02:00,  7.09batches/s]"
     ]
    },
    {
     "name": "stdout",
     "output_type": "stream",
     "text": [
      "Validation accuracy at (0.99681203788228556, 0.00012972221197711596)\n"
     ]
    },
    {
     "name": "stderr",
     "output_type": "stream",
     "text": [
      "Epoch 39/377: 100%|██████████| 856/856 [02:05<00:00,  6.81batches/s]\n",
      "Epoch 40/377:   0%|          | 1/856 [00:00<02:03,  6.94batches/s]"
     ]
    },
    {
     "name": "stdout",
     "output_type": "stream",
     "text": [
      "Validation accuracy at (0.99744963019637845, 7.2948515086584096e-05)\n"
     ]
    },
    {
     "name": "stderr",
     "output_type": "stream",
     "text": [
      "Epoch 40/377: 100%|██████████| 856/856 [02:07<00:00,  6.70batches/s]\n",
      "Epoch 41/377:   0%|          | 1/856 [00:00<02:06,  6.78batches/s]"
     ]
    },
    {
     "name": "stdout",
     "output_type": "stream",
     "text": [
      "Validation accuracy at (0.99681203774547311, 0.0001076909263642598)\n"
     ]
    },
    {
     "name": "stderr",
     "output_type": "stream",
     "text": [
      "Epoch 41/377: 100%|██████████| 856/856 [02:07<00:00,  6.70batches/s]\n",
      "Epoch 42/377:   0%|          | 1/856 [00:00<01:59,  7.15batches/s]"
     ]
    },
    {
     "name": "stdout",
     "output_type": "stream",
     "text": [
      "Validation accuracy at (0.98546289211935734, 0.00062211281417708423)\n"
     ]
    },
    {
     "name": "stderr",
     "output_type": "stream",
     "text": [
      "Epoch 42/377: 100%|██████████| 856/856 [02:05<00:00,  6.81batches/s]\n",
      "Epoch 43/377:   0%|          | 1/856 [00:00<01:57,  7.27batches/s]"
     ]
    },
    {
     "name": "stdout",
     "output_type": "stream",
     "text": [
      "Validation accuracy at (0.97934200472747812, 0.00089221080729540701)\n"
     ]
    },
    {
     "name": "stderr",
     "output_type": "stream",
     "text": [
      "Epoch 43/377: 100%|██████████| 856/856 [02:07<00:00,  6.70batches/s]\n",
      "Epoch 44/377:   0%|          | 1/856 [00:00<02:01,  7.02batches/s]"
     ]
    },
    {
     "name": "stdout",
     "output_type": "stream",
     "text": [
      "Validation accuracy at (0.996684519255292, 0.00010819798741432451)\n"
     ]
    },
    {
     "name": "stderr",
     "output_type": "stream",
     "text": [
      "Epoch 44/377: 100%|██████████| 856/856 [02:07<00:00,  6.70batches/s]\n",
      "Epoch 45/377:   0%|          | 1/856 [00:00<01:59,  7.13batches/s]"
     ]
    },
    {
     "name": "stdout",
     "output_type": "stream",
     "text": [
      "Validation accuracy at (0.99732211170619745, 6.8356862884439527e-05)\n"
     ]
    },
    {
     "name": "stderr",
     "output_type": "stream",
     "text": [
      "Epoch 45/377: 100%|██████████| 856/856 [02:05<00:00,  6.81batches/s]\n",
      "Epoch 46/377:   0%|          | 1/856 [00:00<01:56,  7.31batches/s]"
     ]
    },
    {
     "name": "stdout",
     "output_type": "stream",
     "text": [
      "Validation accuracy at (0.98457026282490223, 0.0005683359494687456)\n"
     ]
    },
    {
     "name": "stderr",
     "output_type": "stream",
     "text": [
      "Epoch 46/377: 100%|██████████| 856/856 [02:07<00:00,  6.70batches/s]\n"
     ]
    },
    {
     "name": "stdout",
     "output_type": "stream",
     "text": [
      "Validation accuracy at (0.97424126512023512, 0.0016273757353043226)\n"
     ]
    },
    {
     "name": "stderr",
     "output_type": "stream",
     "text": [
      "Epoch 47/377: 100%|██████████| 856/856 [02:07<00:00,  6.70batches/s]\n",
      "Epoch 48/377:   0%|          | 1/856 [00:00<01:59,  7.13batches/s]"
     ]
    },
    {
     "name": "stdout",
     "output_type": "stream",
     "text": [
      "Validation accuracy at (0.99795970415710278, 6.7998488392166073e-05)\n"
     ]
    },
    {
     "name": "stderr",
     "output_type": "stream",
     "text": [
      "Epoch 48/377: 100%|██████████| 856/856 [02:05<00:00,  6.81batches/s]\n",
      "Epoch 49/377:   0%|          | 0/856 [00:00<?, ?batches/s]"
     ]
    },
    {
     "name": "stdout",
     "output_type": "stream",
     "text": [
      "Validation accuracy at (0.98278500382555467, 0.00081112714468223345)\n"
     ]
    },
    {
     "name": "stderr",
     "output_type": "stream",
     "text": [
      "Epoch 49/377: 100%|██████████| 856/856 [02:07<00:00,  6.70batches/s]\n",
      "Epoch 50/377:   0%|          | 1/856 [00:00<01:57,  7.30batches/s]"
     ]
    },
    {
     "name": "stdout",
     "output_type": "stream",
     "text": [
      "Validation accuracy at (0.99630196378474878, 0.00011595247599252508)\n"
     ]
    },
    {
     "name": "stderr",
     "output_type": "stream",
     "text": [
      "Epoch 50/377: 100%|██████████| 856/856 [02:07<00:00,  6.70batches/s]\n",
      "Epoch 51/377:   0%|          | 1/856 [00:00<02:03,  6.93batches/s]"
     ]
    },
    {
     "name": "stdout",
     "output_type": "stream",
     "text": [
      "Validation accuracy at (0.99196633511859222, 0.00028894800794572901)\n"
     ]
    },
    {
     "name": "stderr",
     "output_type": "stream",
     "text": [
      "Epoch 51/377: 100%|██████████| 856/856 [02:07<00:00,  6.70batches/s]\n",
      "Epoch 52/377:   0%|          | 1/856 [00:00<01:59,  7.14batches/s]"
     ]
    },
    {
     "name": "stdout",
     "output_type": "stream",
     "text": [
      "Validation accuracy at (0.99413414945167045, 0.00017070413182525371)\n"
     ]
    },
    {
     "name": "stderr",
     "output_type": "stream",
     "text": [
      "Epoch 52/377: 100%|██████████| 856/856 [02:05<00:00,  6.81batches/s]\n",
      "Epoch 53/377:   0%|          | 1/856 [00:00<01:59,  7.17batches/s]"
     ]
    },
    {
     "name": "stdout",
     "output_type": "stream",
     "text": [
      "Validation accuracy at (0.99821474113746489, 5.218582156298476e-05)\n"
     ]
    },
    {
     "name": "stderr",
     "output_type": "stream",
     "text": [
      "Epoch 53/377: 100%|██████████| 856/856 [02:07<00:00,  6.70batches/s]\n",
      "Epoch 54/377:   0%|          | 1/856 [00:00<01:59,  7.18batches/s]"
     ]
    },
    {
     "name": "stdout",
     "output_type": "stream",
     "text": [
      "Validation accuracy at (0.97742922723794945, 0.0008546559993709463)\n"
     ]
    },
    {
     "name": "stderr",
     "output_type": "stream",
     "text": [
      "Epoch 54/377: 100%|██████████| 856/856 [02:07<00:00,  6.70batches/s]\n",
      "Epoch 55/377:   0%|          | 1/856 [00:00<01:58,  7.20batches/s]"
     ]
    },
    {
     "name": "stdout",
     "output_type": "stream",
     "text": [
      "Validation accuracy at (0.99477174190257589, 0.00017807764018979797)\n"
     ]
    },
    {
     "name": "stderr",
     "output_type": "stream",
     "text": [
      "Epoch 55/377: 100%|██████████| 856/856 [02:05<00:00,  6.81batches/s]\n",
      "Epoch 56/377:   0%|          | 1/856 [00:00<01:56,  7.32batches/s]"
     ]
    },
    {
     "name": "stdout",
     "output_type": "stream",
     "text": [
      "Validation accuracy at (0.99234889058913545, 0.0003136634044405642)\n"
     ]
    },
    {
     "name": "stderr",
     "output_type": "stream",
     "text": [
      "Epoch 56/377: 100%|██████████| 856/856 [02:07<00:00,  6.70batches/s]\n",
      "Epoch 57/377:   0%|          | 1/856 [00:00<01:58,  7.23batches/s]"
     ]
    },
    {
     "name": "stdout",
     "output_type": "stream",
     "text": [
      "Validation accuracy at (0.97615404233613878, 0.0013017089673524331)\n"
     ]
    },
    {
     "name": "stderr",
     "output_type": "stream",
     "text": [
      "Epoch 57/377: 100%|██████████| 856/856 [02:07<00:00,  6.70batches/s]\n",
      "Epoch 58/377:   0%|          | 1/856 [00:00<02:03,  6.90batches/s]"
     ]
    },
    {
     "name": "stdout",
     "output_type": "stream",
     "text": [
      "Validation accuracy at (0.96990563631726601, 0.001882748195868082)\n"
     ]
    },
    {
     "name": "stderr",
     "output_type": "stream",
     "text": [
      "Epoch 58/377: 100%|██████████| 856/856 [02:06<00:00,  6.79batches/s]\n",
      "Epoch 59/377:   0%|          | 1/856 [00:00<01:58,  7.24batches/s]"
     ]
    },
    {
     "name": "stdout",
     "output_type": "stream",
     "text": [
      "Validation accuracy at (0.99617444529456767, 0.00012134780795341679)\n"
     ]
    },
    {
     "name": "stderr",
     "output_type": "stream",
     "text": [
      "Epoch 59/377: 100%|██████████| 856/856 [02:08<00:00,  6.67batches/s]\n",
      "Epoch 60/377:   0%|          | 1/856 [00:00<01:59,  7.15batches/s]"
     ]
    },
    {
     "name": "stdout",
     "output_type": "stream",
     "text": [
      "Validation accuracy at (0.98903340984442745, 0.00036379005063013833)\n"
     ]
    },
    {
     "name": "stderr",
     "output_type": "stream",
     "text": [
      "Epoch 60/377: 100%|██████████| 856/856 [02:06<00:00,  6.77batches/s]\n",
      "Epoch 61/377:   0%|          | 1/856 [00:00<01:57,  7.25batches/s]"
     ]
    },
    {
     "name": "stdout",
     "output_type": "stream",
     "text": [
      "Validation accuracy at (0.99464422341239478, 0.00015679132374495089)\n"
     ]
    },
    {
     "name": "stderr",
     "output_type": "stream",
     "text": [
      "Epoch 61/377: 100%|██████████| 856/856 [02:04<00:00,  6.85batches/s]\n",
      "Epoch 62/377:   0%|          | 1/856 [00:00<01:58,  7.23batches/s]"
     ]
    },
    {
     "name": "stdout",
     "output_type": "stream",
     "text": [
      "Validation accuracy at (0.99795970415710278, 6.0530086577819734e-05)\n"
     ]
    },
    {
     "name": "stderr",
     "output_type": "stream",
     "text": [
      "Epoch 62/377: 100%|██████████| 856/856 [02:06<00:00,  6.76batches/s]\n",
      "Epoch 63/377:   0%|          | 1/856 [00:00<01:58,  7.22batches/s]"
     ]
    },
    {
     "name": "stdout",
     "output_type": "stream",
     "text": [
      "Validation accuracy at (0.988268298903341, 0.00042483630119573225)\n"
     ]
    },
    {
     "name": "stderr",
     "output_type": "stream",
     "text": [
      "Epoch 63/377: 100%|██████████| 856/856 [02:06<00:00,  6.76batches/s]\n",
      "Epoch 64/377:   0%|          | 1/856 [00:00<01:57,  7.27batches/s]"
     ]
    },
    {
     "name": "stdout",
     "output_type": "stream",
     "text": [
      "Validation accuracy at (0.99846977811782711, 4.881872003764176e-05)\n"
     ]
    },
    {
     "name": "stderr",
     "output_type": "stream",
     "text": [
      "Epoch 64/377: 100%|██████████| 856/856 [02:04<00:00,  6.87batches/s]\n",
      "Epoch 65/377:   0%|          | 0/856 [00:00<?, ?batches/s]"
     ]
    },
    {
     "name": "stdout",
     "output_type": "stream",
     "text": [
      "Validation accuracy at (0.98903340984442745, 0.00051837989908917628)\n"
     ]
    },
    {
     "name": "stderr",
     "output_type": "stream",
     "text": [
      "Epoch 65/377: 100%|██████████| 856/856 [02:08<00:00,  6.64batches/s]\n",
      "Epoch 66/377:   0%|          | 1/856 [00:00<01:57,  7.25batches/s]"
     ]
    },
    {
     "name": "stdout",
     "output_type": "stream",
     "text": [
      "Validation accuracy at (0.99732211170619745, 9.483621887057566e-05)\n"
     ]
    },
    {
     "name": "stderr",
     "output_type": "stream",
     "text": [
      "Epoch 66/377: 100%|██████████| 856/856 [02:06<00:00,  6.76batches/s]\n",
      "Epoch 67/377:   0%|          | 1/856 [00:00<01:58,  7.21batches/s]"
     ]
    },
    {
     "name": "stdout",
     "output_type": "stream",
     "text": [
      "Validation accuracy at (0.97704667190421879, 0.001593672276169513)\n"
     ]
    },
    {
     "name": "stderr",
     "output_type": "stream",
     "text": [
      "Epoch 67/377: 100%|██████████| 856/856 [02:06<00:00,  6.76batches/s]\n",
      "Epoch 68/377:   0%|          | 1/856 [00:00<01:57,  7.25batches/s]"
     ]
    },
    {
     "name": "stdout",
     "output_type": "stream",
     "text": [
      "Validation accuracy at (0.99630196378474878, 0.00011127144167767974)\n"
     ]
    },
    {
     "name": "stderr",
     "output_type": "stream",
     "text": [
      "Epoch 68/377: 100%|██████████| 856/856 [02:04<00:00,  6.87batches/s]\n",
      "Epoch 69/377:   0%|          | 1/856 [00:00<02:00,  7.11batches/s]"
     ]
    },
    {
     "name": "stdout",
     "output_type": "stream",
     "text": [
      "Validation accuracy at (0.99783218566692167, 7.3003463288016354e-05)\n"
     ]
    },
    {
     "name": "stderr",
     "output_type": "stream",
     "text": [
      "Epoch 69/377: 100%|██████████| 856/856 [02:06<00:00,  6.76batches/s]\n",
      "Epoch 70/377:   0%|          | 1/856 [00:00<01:59,  7.16batches/s]"
     ]
    },
    {
     "name": "stdout",
     "output_type": "stream",
     "text": [
      "Validation accuracy at (0.99859729660800811, 5.0435542093260825e-05)\n"
     ]
    },
    {
     "name": "stderr",
     "output_type": "stream",
     "text": [
      "Epoch 70/377: 100%|██████████| 856/856 [02:06<00:00,  6.76batches/s]\n",
      "Epoch 71/377:   0%|          | 1/856 [00:00<02:00,  7.12batches/s]"
     ]
    },
    {
     "name": "stdout",
     "output_type": "stream",
     "text": [
      "Validation accuracy at (0.99872481509818922, 6.5889401414430781e-05)\n"
     ]
    },
    {
     "name": "stderr",
     "output_type": "stream",
     "text": [
      "Epoch 71/377: 100%|██████████| 856/856 [02:04<00:00,  6.87batches/s]\n",
      "Epoch 72/377:   0%|          | 1/856 [00:00<01:59,  7.15batches/s]"
     ]
    },
    {
     "name": "stdout",
     "output_type": "stream",
     "text": [
      "Validation accuracy at (0.98775822507942923, 0.00050482454560223664)\n"
     ]
    },
    {
     "name": "stderr",
     "output_type": "stream",
     "text": [
      "Epoch 72/377: 100%|██████████| 856/856 [02:06<00:00,  6.76batches/s]\n",
      "Epoch 73/377:   0%|          | 1/856 [00:00<01:58,  7.24batches/s]"
     ]
    },
    {
     "name": "stdout",
     "output_type": "stream",
     "text": [
      "Validation accuracy at (0.98673807715798056, 0.00055408560985801094)\n"
     ]
    },
    {
     "name": "stderr",
     "output_type": "stream",
     "text": [
      "Epoch 73/377: 100%|██████████| 856/856 [02:06<00:00,  6.76batches/s]\n",
      "Epoch 74/377:   0%|          | 1/856 [00:00<02:00,  7.10batches/s]"
     ]
    },
    {
     "name": "stdout",
     "output_type": "stream",
     "text": [
      "Validation accuracy at (0.98686559551134911, 0.00059296081952531611)\n"
     ]
    },
    {
     "name": "stderr",
     "output_type": "stream",
     "text": [
      "Epoch 74/377: 100%|██████████| 856/856 [02:06<00:00,  6.74batches/s]\n",
      "Epoch 75/377:   0%|          | 1/856 [00:00<02:00,  7.12batches/s]"
     ]
    },
    {
     "name": "stdout",
     "output_type": "stream",
     "text": [
      "Validation accuracy at (0.97500637606132157, 0.0016916857099824455)\n"
     ]
    },
    {
     "name": "stderr",
     "output_type": "stream",
     "text": [
      "Epoch 75/377: 100%|██████████| 856/856 [02:06<00:00,  6.76batches/s]\n",
      "Epoch 76/377:   0%|          | 1/856 [00:00<02:00,  7.11batches/s]"
     ]
    },
    {
     "name": "stdout",
     "output_type": "stream",
     "text": [
      "Validation accuracy at (0.98252996684519256, 0.00088718009377728845)\n"
     ]
    },
    {
     "name": "stderr",
     "output_type": "stream",
     "text": [
      "Epoch 76/377: 100%|██████████| 856/856 [02:06<00:00,  6.76batches/s]\n",
      "Epoch 77/377:   0%|          | 1/856 [00:00<02:00,  7.08batches/s]"
     ]
    },
    {
     "name": "stdout",
     "output_type": "stream",
     "text": [
      "Validation accuracy at (0.99056363172660034, 0.00033456043924873105)\n"
     ]
    },
    {
     "name": "stderr",
     "output_type": "stream",
     "text": [
      "Epoch 77/377: 100%|██████████| 856/856 [02:04<00:00,  6.87batches/s]\n",
      "Epoch 78/377:   0%|          | 1/856 [00:00<02:00,  7.07batches/s]"
     ]
    },
    {
     "name": "stdout",
     "output_type": "stream",
     "text": [
      "Validation accuracy at (0.99808722264728389, 6.0258356810888004e-05)\n"
     ]
    },
    {
     "name": "stderr",
     "output_type": "stream",
     "text": [
      "Epoch 78/377: 100%|██████████| 856/856 [02:06<00:00,  6.76batches/s]\n",
      "Epoch 79/377:   0%|          | 1/856 [00:00<01:57,  7.29batches/s]"
     ]
    },
    {
     "name": "stdout",
     "output_type": "stream",
     "text": [
      "Validation accuracy at (0.99872481509818922, 4.6069023896412839e-05)\n"
     ]
    },
    {
     "name": "stderr",
     "output_type": "stream",
     "text": [
      "Epoch 79/377: 100%|██████████| 856/856 [02:06<00:00,  6.76batches/s]\n",
      "Epoch 80/377:   0%|          | 1/856 [00:00<02:00,  7.08batches/s]"
     ]
    },
    {
     "name": "stdout",
     "output_type": "stream",
     "text": [
      "Validation accuracy at (0.99604692694119912, 0.00017899541197181752)\n"
     ]
    },
    {
     "name": "stderr",
     "output_type": "stream",
     "text": [
      "Epoch 80/377: 100%|██████████| 856/856 [02:04<00:00,  6.87batches/s]\n",
      "Epoch 81/377:   0%|          | 0/856 [00:00<?, ?batches/s]"
     ]
    },
    {
     "name": "stdout",
     "output_type": "stream",
     "text": [
      "Validation accuracy at (0.99489926052956945, 0.00017448505776963434)\n"
     ]
    },
    {
     "name": "stderr",
     "output_type": "stream",
     "text": [
      "Epoch 81/377: 100%|██████████| 856/856 [02:06<00:00,  6.76batches/s]\n",
      "Epoch 82/377:   0%|          | 1/856 [00:00<01:57,  7.29batches/s]"
     ]
    },
    {
     "name": "stdout",
     "output_type": "stream",
     "text": [
      "Validation accuracy at (0.9714358581994389, 0.0018001819844324326)\n"
     ]
    },
    {
     "name": "stderr",
     "output_type": "stream",
     "text": [
      "Epoch 82/377: 100%|██████████| 856/856 [02:06<00:00,  6.76batches/s]\n",
      "Epoch 83/377:   0%|          | 1/856 [00:00<01:58,  7.24batches/s]"
     ]
    },
    {
     "name": "stdout",
     "output_type": "stream",
     "text": [
      "Validation accuracy at (0.96505993369038512, 0.0024788876409281573)\n"
     ]
    },
    {
     "name": "stderr",
     "output_type": "stream",
     "text": [
      "Epoch 83/377: 100%|██████████| 856/856 [02:06<00:00,  6.76batches/s]\n",
      "Epoch 84/377:   0%|          | 1/856 [00:00<01:57,  7.25batches/s]"
     ]
    },
    {
     "name": "stdout",
     "output_type": "stream",
     "text": [
      "Validation accuracy at (0.99540933435348122, 0.00015430036316532462)\n"
     ]
    },
    {
     "name": "stderr",
     "output_type": "stream",
     "text": [
      "Epoch 84/377: 100%|██████████| 856/856 [02:04<00:00,  6.87batches/s]\n",
      "Epoch 85/377:   0%|          | 1/856 [00:00<02:01,  7.05batches/s]"
     ]
    },
    {
     "name": "stdout",
     "output_type": "stream",
     "text": [
      "Validation accuracy at (0.99030859474623822, 0.00037989444550206149)\n"
     ]
    },
    {
     "name": "stderr",
     "output_type": "stream",
     "text": [
      "Epoch 85/377: 100%|██████████| 856/856 [02:06<00:00,  6.76batches/s]\n",
      "Epoch 86/377:   0%|          | 1/856 [00:00<02:00,  7.10batches/s]"
     ]
    },
    {
     "name": "stdout",
     "output_type": "stream",
     "text": [
      "Validation accuracy at (0.99846977811782711, 3.0365663530265324e-05)\n"
     ]
    },
    {
     "name": "stderr",
     "output_type": "stream",
     "text": [
      "Epoch 86/377: 100%|██████████| 856/856 [02:06<00:00,  6.76batches/s]\n",
      "Epoch 87/377:   0%|          | 1/856 [00:00<01:58,  7.23batches/s]"
     ]
    },
    {
     "name": "stdout",
     "output_type": "stream",
     "text": [
      "Validation accuracy at (0.99553685284366233, 0.00014615443193968767)\n"
     ]
    },
    {
     "name": "stderr",
     "output_type": "stream",
     "text": [
      "Epoch 87/377: 100%|██████████| 856/856 [02:06<00:00,  6.75batches/s]\n",
      "Epoch 88/377:   0%|          | 1/856 [00:00<01:57,  7.26batches/s]"
     ]
    },
    {
     "name": "stdout",
     "output_type": "stream",
     "text": [
      "Validation accuracy at (0.9697781178270849, 0.0019433458059349507)\n"
     ]
    },
    {
     "name": "stderr",
     "output_type": "stream",
     "text": [
      "Epoch 88/377: 100%|██████████| 856/856 [02:06<00:00,  6.76batches/s]\n",
      "Epoch 89/377:   0%|          | 1/856 [00:00<01:56,  7.35batches/s]"
     ]
    },
    {
     "name": "stdout",
     "output_type": "stream",
     "text": [
      "Validation accuracy at (0.99311400166703434, 0.00030012454320893587)\n"
     ]
    },
    {
     "name": "stderr",
     "output_type": "stream",
     "text": [
      "Epoch 89/377: 100%|██████████| 856/856 [02:06<00:00,  6.76batches/s]\n",
      "Epoch 90/377:   0%|          | 1/856 [00:00<02:00,  7.10batches/s]"
     ]
    },
    {
     "name": "stdout",
     "output_type": "stream",
     "text": [
      "Validation accuracy at (0.99897985207855144, 3.2560708939071524e-05)\n"
     ]
    },
    {
     "name": "stderr",
     "output_type": "stream",
     "text": [
      "Epoch 90/377: 100%|██████████| 856/856 [02:04<00:00,  6.87batches/s]\n",
      "Epoch 91/377:   0%|          | 1/856 [00:00<01:58,  7.19batches/s]"
     ]
    },
    {
     "name": "stdout",
     "output_type": "stream",
     "text": [
      "Validation accuracy at (0.96710022967009479, 0.0019704601949508838)\n"
     ]
    },
    {
     "name": "stderr",
     "output_type": "stream",
     "text": [
      "Epoch 91/377: 100%|██████████| 856/856 [02:06<00:00,  6.76batches/s]\n",
      "Epoch 92/377:   0%|          | 1/856 [00:00<02:00,  7.10batches/s]"
     ]
    },
    {
     "name": "stdout",
     "output_type": "stream",
     "text": [
      "Validation accuracy at (0.97628156096313234, 0.0016826492762102825)\n"
     ]
    },
    {
     "name": "stderr",
     "output_type": "stream",
     "text": [
      "Epoch 92/377: 100%|██████████| 856/856 [02:06<00:00,  6.76batches/s]\n",
      "Epoch 93/377:   0%|          | 1/856 [00:00<01:58,  7.23batches/s]"
     ]
    },
    {
     "name": "stdout",
     "output_type": "stream",
     "text": [
      "Validation accuracy at (0.99196633525540467, 0.0003592061418082729)\n"
     ]
    },
    {
     "name": "stderr",
     "output_type": "stream",
     "text": [
      "Epoch 93/377: 100%|██████████| 856/856 [02:04<00:00,  6.87batches/s]\n",
      "Epoch 94/377:   0%|          | 1/856 [00:00<01:58,  7.21batches/s]"
     ]
    },
    {
     "name": "stdout",
     "output_type": "stream",
     "text": [
      "Validation accuracy at (0.97475133908095934, 0.0016371798660018042)\n"
     ]
    },
    {
     "name": "stderr",
     "output_type": "stream",
     "text": [
      "Epoch 94/377: 100%|██████████| 856/856 [02:06<00:00,  6.76batches/s]\n",
      "Epoch 95/377:   0%|          | 1/856 [00:00<01:58,  7.24batches/s]"
     ]
    },
    {
     "name": "stdout",
     "output_type": "stream",
     "text": [
      "Validation accuracy at (0.99885233358837033, 4.0877410928087742e-05)\n"
     ]
    },
    {
     "name": "stderr",
     "output_type": "stream",
     "text": [
      "Epoch 95/377: 100%|██████████| 856/856 [02:06<00:00,  6.76batches/s]\n",
      "Epoch 96/377:   0%|          | 1/856 [00:00<01:59,  7.14batches/s]"
     ]
    },
    {
     "name": "stdout",
     "output_type": "stream",
     "text": [
      "Validation accuracy at (0.99260392756949756, 0.00041613997182774289)\n"
     ]
    },
    {
     "name": "stderr",
     "output_type": "stream",
     "text": [
      "Epoch 96/377: 100%|██████████| 856/856 [02:04<00:00,  6.87batches/s]\n",
      "Epoch 97/377:   0%|          | 0/856 [00:00<?, ?batches/s]"
     ]
    },
    {
     "name": "stdout",
     "output_type": "stream",
     "text": [
      "Validation accuracy at (0.99515429737311911, 0.00015704859168430945)\n"
     ]
    },
    {
     "name": "stderr",
     "output_type": "stream",
     "text": [
      "Epoch 97/377: 100%|██████████| 856/856 [02:06<00:00,  6.76batches/s]\n",
      "Epoch 98/377:   0%|          | 1/856 [00:00<01:59,  7.14batches/s]"
     ]
    },
    {
     "name": "stdout",
     "output_type": "stream",
     "text": [
      "Validation accuracy at (0.99859729660800811, 5.6264833924483838e-05)\n"
     ]
    },
    {
     "name": "stderr",
     "output_type": "stream",
     "text": [
      "Epoch 98/377: 100%|██████████| 856/856 [02:06<00:00,  6.76batches/s]\n",
      "Epoch 99/377:   0%|          | 1/856 [00:00<01:56,  7.33batches/s]"
     ]
    },
    {
     "name": "stdout",
     "output_type": "stream",
     "text": [
      "Validation accuracy at (0.99770466717674067, 8.3778685540788223e-05)\n"
     ]
    },
    {
     "name": "stderr",
     "output_type": "stream",
     "text": [
      "Epoch 99/377: 100%|██████████| 856/856 [02:06<00:00,  6.76batches/s]\n",
      "Epoch 100/377:   0%|          | 1/856 [00:00<01:58,  7.20batches/s]"
     ]
    },
    {
     "name": "stdout",
     "output_type": "stream",
     "text": [
      "Validation accuracy at (0.99706707472583522, 9.2927009447862346e-05)\n"
     ]
    },
    {
     "name": "stderr",
     "output_type": "stream",
     "text": [
      "Epoch 100/377: 100%|██████████| 856/856 [02:04<00:00,  6.87batches/s]\n",
      "Epoch 101/377:   0%|          | 1/856 [00:00<02:00,  7.10batches/s]"
     ]
    },
    {
     "name": "stdout",
     "output_type": "stream",
     "text": [
      "Validation accuracy at (0.99821474127427745, 7.621036901652753e-05)\n"
     ]
    },
    {
     "name": "stderr",
     "output_type": "stream",
     "text": [
      "Epoch 101/377: 100%|██████████| 856/856 [02:06<00:00,  6.76batches/s]\n",
      "Epoch 102/377:   0%|          | 1/856 [00:00<01:58,  7.21batches/s]"
     ]
    },
    {
     "name": "stdout",
     "output_type": "stream",
     "text": [
      "Validation accuracy at (0.99846977811782711, 4.7361667405131096e-05)\n"
     ]
    },
    {
     "name": "stderr",
     "output_type": "stream",
     "text": [
      "Epoch 102/377: 100%|██████████| 856/856 [02:06<00:00,  6.76batches/s]\n",
      "Epoch 103/377:   0%|          | 1/856 [00:00<02:01,  7.03batches/s]"
     ]
    },
    {
     "name": "stdout",
     "output_type": "stream",
     "text": [
      "Validation accuracy at (0.98342259627646011, 0.0012184066140552233)\n"
     ]
    },
    {
     "name": "stderr",
     "output_type": "stream",
     "text": [
      "Epoch 103/377: 100%|██████████| 856/856 [02:04<00:00,  6.88batches/s]\n",
      "Epoch 104/377:   0%|          | 1/856 [00:00<01:59,  7.13batches/s]"
     ]
    },
    {
     "name": "stdout",
     "output_type": "stream",
     "text": [
      "Validation accuracy at (0.99681203774547311, 0.00012222902320512777)\n"
     ]
    },
    {
     "name": "stderr",
     "output_type": "stream",
     "text": [
      "Epoch 104/377: 100%|██████████| 856/856 [02:07<00:00,  6.70batches/s]\n",
      "Epoch 105/377:   0%|          | 1/856 [00:00<01:57,  7.25batches/s]"
     ]
    },
    {
     "name": "stdout",
     "output_type": "stream",
     "text": [
      "Validation accuracy at (0.99923488905891356, 3.7714980185992998e-05)\n"
     ]
    },
    {
     "name": "stderr",
     "output_type": "stream",
     "text": [
      "Epoch 105/377: 100%|██████████| 856/856 [02:06<00:00,  6.77batches/s]\n",
      "Epoch 106/377:   0%|          | 1/856 [00:00<01:59,  7.17batches/s]"
     ]
    },
    {
     "name": "stdout",
     "output_type": "stream",
     "text": [
      "Validation accuracy at (0.99260392756949756, 0.00029847310690975188)\n"
     ]
    },
    {
     "name": "stderr",
     "output_type": "stream",
     "text": [
      "Epoch 106/377: 100%|██████████| 856/856 [02:04<00:00,  6.89batches/s]\n",
      "Epoch 107/377:   0%|          | 1/856 [00:00<02:01,  7.06batches/s]"
     ]
    },
    {
     "name": "stdout",
     "output_type": "stream",
     "text": [
      "Validation accuracy at (0.99910737056873244, 4.4232469898833846e-05)\n"
     ]
    },
    {
     "name": "stderr",
     "output_type": "stream",
     "text": [
      "Epoch 107/377: 100%|██████████| 856/856 [02:07<00:00,  6.69batches/s]\n",
      "Epoch 108/377:   0%|          | 1/856 [00:00<01:59,  7.17batches/s]"
     ]
    },
    {
     "name": "stdout",
     "output_type": "stream",
     "text": [
      "Validation accuracy at (0.99872481509818922, 6.7745375209979998e-05)\n"
     ]
    },
    {
     "name": "stderr",
     "output_type": "stream",
     "text": [
      "Epoch 108/377: 100%|██████████| 856/856 [02:07<00:00,  6.70batches/s]\n",
      "Epoch 109/377:   0%|          | 1/856 [00:00<01:57,  7.30batches/s]"
     ]
    },
    {
     "name": "stdout",
     "output_type": "stream",
     "text": [
      "Validation accuracy at (0.99273144605967867, 0.000229953214252954)\n"
     ]
    },
    {
     "name": "stderr",
     "output_type": "stream",
     "text": [
      "Epoch 109/377: 100%|██████████| 856/856 [02:05<00:00,  6.82batches/s]\n",
      "Epoch 110/377:   0%|          | 1/856 [00:00<01:59,  7.16batches/s]"
     ]
    },
    {
     "name": "stdout",
     "output_type": "stream",
     "text": [
      "Validation accuracy at (0.99642948227492989, 0.00013604772211111795)\n"
     ]
    },
    {
     "name": "stderr",
     "output_type": "stream",
     "text": [
      "Epoch 110/377: 100%|██████████| 856/856 [02:07<00:00,  6.70batches/s]\n",
      "Epoch 111/377:   0%|          | 1/856 [00:00<02:00,  7.10batches/s]"
     ]
    },
    {
     "name": "stdout",
     "output_type": "stream",
     "text": [
      "Validation accuracy at (0.99617444529456767, 0.00022789241988043263)\n"
     ]
    },
    {
     "name": "stderr",
     "output_type": "stream",
     "text": [
      "Epoch 111/377: 100%|██████████| 856/856 [02:07<00:00,  6.70batches/s]\n",
      "Epoch 112/377:   0%|          | 1/856 [00:00<02:00,  7.09batches/s]"
     ]
    },
    {
     "name": "stdout",
     "output_type": "stream",
     "text": [
      "Validation accuracy at (0.99872481509818922, 6.4360214284613871e-05)\n"
     ]
    },
    {
     "name": "stderr",
     "output_type": "stream",
     "text": [
      "Epoch 112/377: 100%|██████████| 856/856 [02:05<00:00,  6.81batches/s]\n",
      "Epoch 113/377:   0%|          | 0/856 [00:00<?, ?batches/s]"
     ]
    },
    {
     "name": "stdout",
     "output_type": "stream",
     "text": [
      "Validation accuracy at (0.998342259627646, 0.00010027402888586401)\n"
     ]
    },
    {
     "name": "stderr",
     "output_type": "stream",
     "text": [
      "Epoch 113/377: 100%|██████████| 856/856 [02:07<00:00,  6.70batches/s]\n",
      "Epoch 114/377:   0%|          | 1/856 [00:00<02:01,  7.04batches/s]"
     ]
    },
    {
     "name": "stdout",
     "output_type": "stream",
     "text": [
      "Validation accuracy at (0.99681203774547311, 0.00014708756007409312)\n"
     ]
    },
    {
     "name": "stderr",
     "output_type": "stream",
     "text": [
      "Epoch 114/377: 100%|██████████| 856/856 [02:07<00:00,  6.70batches/s]\n",
      "Epoch 115/377:   0%|          | 1/856 [00:00<01:59,  7.14batches/s]"
     ]
    },
    {
     "name": "stdout",
     "output_type": "stream",
     "text": [
      "Validation accuracy at (0.993241520020403, 0.00029559165183227424)\n"
     ]
    },
    {
     "name": "stderr",
     "output_type": "stream",
     "text": [
      "Epoch 115/377: 100%|██████████| 856/856 [02:07<00:00,  6.70batches/s]\n",
      "Epoch 116/377:   0%|          | 1/856 [00:00<01:59,  7.17batches/s]"
     ]
    },
    {
     "name": "stdout",
     "output_type": "stream",
     "text": [
      "Validation accuracy at (0.99744963019637845, 0.00010028430865325401)\n"
     ]
    },
    {
     "name": "stderr",
     "output_type": "stream",
     "text": [
      "Epoch 116/377: 100%|██████████| 856/856 [02:05<00:00,  6.81batches/s]\n",
      "Epoch 117/377:   0%|          | 1/856 [00:00<01:59,  7.14batches/s]"
     ]
    },
    {
     "name": "stdout",
     "output_type": "stream",
     "text": [
      "Validation accuracy at (0.98903340984442745, 0.00062285341155558717)\n"
     ]
    },
    {
     "name": "stderr",
     "output_type": "stream",
     "text": [
      "Epoch 117/377: 100%|██████████| 856/856 [02:06<00:00,  6.75batches/s]\n",
      "Epoch 118/377:   0%|          | 1/856 [00:00<01:57,  7.27batches/s]"
     ]
    },
    {
     "name": "stdout",
     "output_type": "stream",
     "text": [
      "Validation accuracy at (0.99872481509818922, 3.8506531926015279e-05)\n"
     ]
    },
    {
     "name": "stderr",
     "output_type": "stream",
     "text": [
      "Epoch 118/377: 100%|██████████| 856/856 [02:06<00:00,  6.76batches/s]\n",
      "Epoch 119/377:   0%|          | 1/856 [00:00<02:00,  7.12batches/s]"
     ]
    },
    {
     "name": "stdout",
     "output_type": "stream",
     "text": [
      "Validation accuracy at (0.97347615417914868, 0.0020744927883710172)\n"
     ]
    },
    {
     "name": "stderr",
     "output_type": "stream",
     "text": [
      "Epoch 119/377: 100%|██████████| 856/856 [02:04<00:00,  6.86batches/s]\n",
      "Epoch 120/377:   0%|          | 1/856 [00:00<02:01,  7.04batches/s]"
     ]
    },
    {
     "name": "stdout",
     "output_type": "stream",
     "text": [
      "Validation accuracy at (0.96850293306208668, 0.0022216189702085865)\n"
     ]
    },
    {
     "name": "stderr",
     "output_type": "stream",
     "text": [
      "Epoch 120/377: 100%|██████████| 856/856 [02:06<00:00,  6.78batches/s]\n",
      "Epoch 121/377:   0%|          | 1/856 [00:00<01:57,  7.28batches/s]"
     ]
    },
    {
     "name": "stdout",
     "output_type": "stream",
     "text": [
      "Validation accuracy at (0.99604692680438667, 0.00014311084744879761)\n"
     ]
    },
    {
     "name": "stderr",
     "output_type": "stream",
     "text": [
      "Epoch 121/377: 100%|██████████| 856/856 [02:06<00:00,  6.78batches/s]\n",
      "Epoch 122/377:   0%|          | 1/856 [00:00<01:57,  7.25batches/s]"
     ]
    },
    {
     "name": "stdout",
     "output_type": "stream",
     "text": [
      "Validation accuracy at (0.99872481509818922, 2.4758002769653331e-05)\n"
     ]
    },
    {
     "name": "stderr",
     "output_type": "stream",
     "text": [
      "Epoch 122/377: 100%|██████████| 856/856 [02:04<00:00,  6.89batches/s]\n",
      "Epoch 123/377:   0%|          | 1/856 [00:00<01:58,  7.19batches/s]"
     ]
    },
    {
     "name": "stdout",
     "output_type": "stream",
     "text": [
      "Validation accuracy at (0.99285896454985978, 0.00033588029521415921)\n"
     ]
    },
    {
     "name": "stderr",
     "output_type": "stream",
     "text": [
      "Epoch 123/377: 100%|██████████| 856/856 [02:06<00:00,  6.78batches/s]\n",
      "Epoch 124/377:   0%|          | 1/856 [00:00<01:59,  7.13batches/s]"
     ]
    },
    {
     "name": "stdout",
     "output_type": "stream",
     "text": [
      "Validation accuracy at (0.99642948227492989, 0.00012555685075952473)\n"
     ]
    },
    {
     "name": "stderr",
     "output_type": "stream",
     "text": [
      "Epoch 124/377: 100%|██████████| 856/856 [02:06<00:00,  6.78batches/s]\n",
      "Epoch 125/377:   0%|          | 1/856 [00:00<01:56,  7.32batches/s]"
     ]
    },
    {
     "name": "stdout",
     "output_type": "stream",
     "text": [
      "Validation accuracy at (0.99808722264728389, 7.2406259505527131e-05)\n"
     ]
    },
    {
     "name": "stderr",
     "output_type": "stream",
     "text": [
      "Epoch 125/377: 100%|██████████| 856/856 [02:04<00:00,  6.89batches/s]\n",
      "Epoch 126/377:   0%|          | 1/856 [00:00<01:58,  7.21batches/s]"
     ]
    },
    {
     "name": "stdout",
     "output_type": "stream",
     "text": [
      "Validation accuracy at (0.99846977811782711, 6.5463575168532776e-05)\n"
     ]
    },
    {
     "name": "stderr",
     "output_type": "stream",
     "text": [
      "Epoch 126/377: 100%|██████████| 856/856 [02:06<00:00,  6.78batches/s]\n",
      "Epoch 127/377:   0%|          | 1/856 [00:00<01:58,  7.19batches/s]"
     ]
    },
    {
     "name": "stdout",
     "output_type": "stream",
     "text": [
      "Validation accuracy at (0.99859729660800811, 9.0916786280865417e-05)\n"
     ]
    },
    {
     "name": "stderr",
     "output_type": "stream",
     "text": [
      "Epoch 127/377: 100%|██████████| 856/856 [02:06<00:00,  6.77batches/s]\n",
      "Epoch 128/377:   0%|          | 1/856 [00:00<01:59,  7.13batches/s]"
     ]
    },
    {
     "name": "stdout",
     "output_type": "stream",
     "text": [
      "Validation accuracy at (0.99923488905891356, 2.6538087861532742e-05)\n"
     ]
    },
    {
     "name": "stderr",
     "output_type": "stream",
     "text": [
      "Epoch 128/377: 100%|██████████| 856/856 [02:04<00:00,  6.89batches/s]\n",
      "Epoch 129/377:   0%|          | 0/856 [00:00<?, ?batches/s]"
     ]
    },
    {
     "name": "stdout",
     "output_type": "stream",
     "text": [
      "Validation accuracy at (0.99872481509818922, 4.7529757410594169e-05)\n"
     ]
    },
    {
     "name": "stderr",
     "output_type": "stream",
     "text": [
      "Epoch 129/377: 100%|██████████| 856/856 [02:06<00:00,  6.77batches/s]\n",
      "Epoch 130/377:   0%|          | 1/856 [00:00<02:00,  7.10batches/s]"
     ]
    },
    {
     "name": "stdout",
     "output_type": "stream",
     "text": [
      "Validation accuracy at (0.99273144605967867, 0.00037003756477199895)\n"
     ]
    },
    {
     "name": "stderr",
     "output_type": "stream",
     "text": [
      "Epoch 130/377: 100%|██████████| 856/856 [02:06<00:00,  6.78batches/s]\n",
      "Epoch 131/377:   0%|          | 1/856 [00:00<01:58,  7.24batches/s]"
     ]
    },
    {
     "name": "stdout",
     "output_type": "stream",
     "text": [
      "Validation accuracy at (0.97768426435512412, 0.0022937510317604763)\n"
     ]
    },
    {
     "name": "stderr",
     "output_type": "stream",
     "text": [
      "Epoch 131/377: 100%|██████████| 856/856 [02:06<00:00,  6.78batches/s]\n",
      "Epoch 132/377:   0%|          | 1/856 [00:00<01:58,  7.19batches/s]"
     ]
    },
    {
     "name": "stdout",
     "output_type": "stream",
     "text": [
      "Validation accuracy at (0.99846977811782711, 4.6638694975772802e-05)\n"
     ]
    },
    {
     "name": "stderr",
     "output_type": "stream",
     "text": [
      "Epoch 132/377: 100%|██████████| 856/856 [02:04<00:00,  6.89batches/s]\n",
      "Epoch 133/377:   0%|          | 1/856 [00:00<01:59,  7.14batches/s]"
     ]
    },
    {
     "name": "stdout",
     "output_type": "stream",
     "text": [
      "Validation accuracy at (0.998342259627646, 4.9095330358461849e-05)\n"
     ]
    },
    {
     "name": "stderr",
     "output_type": "stream",
     "text": [
      "Epoch 133/377: 100%|██████████| 856/856 [02:06<00:00,  6.78batches/s]\n",
      "Epoch 134/377:   0%|          | 1/856 [00:00<01:58,  7.19batches/s]"
     ]
    },
    {
     "name": "stdout",
     "output_type": "stream",
     "text": [
      "Validation accuracy at (0.99681203774547311, 9.6685367416125207e-05)\n"
     ]
    },
    {
     "name": "stderr",
     "output_type": "stream",
     "text": [
      "Epoch 134/377: 100%|██████████| 856/856 [02:06<00:00,  6.78batches/s]\n",
      "Epoch 135/377:   0%|          | 1/856 [00:00<02:00,  7.12batches/s]"
     ]
    },
    {
     "name": "stdout",
     "output_type": "stream",
     "text": [
      "Validation accuracy at (0.99553685284366233, 0.00018835312676194029)\n"
     ]
    },
    {
     "name": "stderr",
     "output_type": "stream",
     "text": [
      "Epoch 135/377: 100%|██████████| 856/856 [02:05<00:00,  6.83batches/s]\n",
      "Epoch 136/377:   0%|          | 1/856 [00:00<02:01,  7.06batches/s]"
     ]
    },
    {
     "name": "stdout",
     "output_type": "stream",
     "text": [
      "Validation accuracy at (0.99770466717674067, 6.8062555071382561e-05)\n"
     ]
    },
    {
     "name": "stderr",
     "output_type": "stream",
     "text": [
      "Epoch 136/377: 100%|██████████| 856/856 [02:06<00:00,  6.77batches/s]\n",
      "Epoch 137/377:   0%|          | 1/856 [00:00<02:00,  7.07batches/s]"
     ]
    },
    {
     "name": "stdout",
     "output_type": "stream",
     "text": [
      "Validation accuracy at (0.99885233358837033, 3.0331431422503626e-05)\n"
     ]
    },
    {
     "name": "stderr",
     "output_type": "stream",
     "text": [
      "Epoch 137/377: 100%|██████████| 856/856 [02:06<00:00,  6.78batches/s]\n",
      "Epoch 138/377:   0%|          | 1/856 [00:00<02:01,  7.04batches/s]"
     ]
    },
    {
     "name": "stdout",
     "output_type": "stream",
     "text": [
      "Validation accuracy at (0.99795970415710278, 5.33402857826417e-05)\n"
     ]
    },
    {
     "name": "stderr",
     "output_type": "stream",
     "text": [
      "Epoch 138/377: 100%|██████████| 856/856 [02:05<00:00,  6.80batches/s]\n",
      "Epoch 139/377:   0%|          | 1/856 [00:00<02:02,  6.97batches/s]"
     ]
    },
    {
     "name": "stdout",
     "output_type": "stream",
     "text": [
      "Validation accuracy at (0.98189237453109968, 0.001407213859024943)\n"
     ]
    },
    {
     "name": "stderr",
     "output_type": "stream",
     "text": [
      "Epoch 139/377: 100%|██████████| 856/856 [02:07<00:00,  6.70batches/s]\n",
      "Epoch 140/377:   0%|          | 1/856 [00:00<02:04,  6.87batches/s]"
     ]
    },
    {
     "name": "stdout",
     "output_type": "stream",
     "text": [
      "Validation accuracy at (0.99744963019637845, 8.524007289935996e-05)\n"
     ]
    },
    {
     "name": "stderr",
     "output_type": "stream",
     "text": [
      "Epoch 140/377: 100%|██████████| 856/856 [02:07<00:00,  6.70batches/s]\n",
      "Epoch 141/377:   0%|          | 1/856 [00:00<02:04,  6.87batches/s]"
     ]
    },
    {
     "name": "stdout",
     "output_type": "stream",
     "text": [
      "Validation accuracy at (0.97768426435512412, 0.0017134955164250783)\n"
     ]
    },
    {
     "name": "stderr",
     "output_type": "stream",
     "text": [
      "Epoch 141/377: 100%|██████████| 856/856 [02:05<00:00,  6.81batches/s]\n",
      "Epoch 142/377:   0%|          | 1/856 [00:00<01:59,  7.14batches/s]"
     ]
    },
    {
     "name": "stdout",
     "output_type": "stream",
     "text": [
      "Validation accuracy at (0.99885233358837033, 4.2862567351777433e-05)\n"
     ]
    },
    {
     "name": "stderr",
     "output_type": "stream",
     "text": [
      "Epoch 142/377: 100%|██████████| 856/856 [02:07<00:00,  6.70batches/s]\n",
      "Epoch 143/377:   0%|          | 1/856 [00:00<01:56,  7.32batches/s]"
     ]
    },
    {
     "name": "stdout",
     "output_type": "stream",
     "text": [
      "Validation accuracy at (0.98342259627646011, 0.0010147776253385625)\n"
     ]
    },
    {
     "name": "stderr",
     "output_type": "stream",
     "text": [
      "Epoch 143/377: 100%|██████████| 856/856 [02:07<00:00,  6.69batches/s]\n",
      "Epoch 144/377:   0%|          | 1/856 [00:00<02:01,  7.05batches/s]"
     ]
    },
    {
     "name": "stdout",
     "output_type": "stream",
     "text": [
      "Validation accuracy at (0.99591940845101801, 0.00014493745768559468)\n"
     ]
    },
    {
     "name": "stderr",
     "output_type": "stream",
     "text": [
      "Epoch 144/377: 100%|██████████| 856/856 [02:05<00:00,  6.81batches/s]\n",
      "Epoch 145/377:   0%|          | 0/856 [00:00<?, ?batches/s]"
     ]
    },
    {
     "name": "stdout",
     "output_type": "stream",
     "text": [
      "Validation accuracy at (0.99872481509818922, 3.914588269808662e-05)\n"
     ]
    },
    {
     "name": "stderr",
     "output_type": "stream",
     "text": [
      "Epoch 145/377: 100%|██████████| 856/856 [02:07<00:00,  6.70batches/s]\n",
      "Epoch 146/377:   0%|          | 1/856 [00:00<01:59,  7.13batches/s]"
     ]
    },
    {
     "name": "stdout",
     "output_type": "stream",
     "text": [
      "Validation accuracy at (0.99209385374558579, 0.00050294852937509489)\n"
     ]
    },
    {
     "name": "stderr",
     "output_type": "stream",
     "text": [
      "Epoch 146/377: 100%|██████████| 856/856 [02:07<00:00,  6.70batches/s]\n",
      "Epoch 147/377:   0%|          | 1/856 [00:00<01:59,  7.14batches/s]"
     ]
    },
    {
     "name": "stdout",
     "output_type": "stream",
     "text": [
      "Validation accuracy at (0.9246365723181853, 0.009854921988916774)\n"
     ]
    },
    {
     "name": "stderr",
     "output_type": "stream",
     "text": [
      "Epoch 147/377: 100%|██████████| 856/856 [02:07<00:00,  6.70batches/s]\n",
      "Epoch 148/377:   0%|          | 1/856 [00:00<02:00,  7.09batches/s]"
     ]
    },
    {
     "name": "stdout",
     "output_type": "stream",
     "text": [
      "Validation accuracy at (0.99923488905891356, 6.2394949652950501e-05)\n"
     ]
    },
    {
     "name": "stderr",
     "output_type": "stream",
     "text": [
      "Epoch 148/377: 100%|██████████| 856/856 [02:05<00:00,  6.81batches/s]\n",
      "Epoch 149/377:   0%|          | 1/856 [00:00<01:57,  7.25batches/s]"
     ]
    },
    {
     "name": "stdout",
     "output_type": "stream",
     "text": [
      "Validation accuracy at (0.96403978590574901, 0.0030346461846869955)\n"
     ]
    },
    {
     "name": "stderr",
     "output_type": "stream",
     "text": [
      "Epoch 149/377: 100%|██████████| 856/856 [02:07<00:00,  6.70batches/s]\n",
      "Epoch 150/377:   0%|          | 1/856 [00:00<01:59,  7.16batches/s]"
     ]
    },
    {
     "name": "stdout",
     "output_type": "stream",
     "text": [
      "Validation accuracy at (0.998342259627646, 6.7069008745412859e-05)\n"
     ]
    },
    {
     "name": "stderr",
     "output_type": "stream",
     "text": [
      "Epoch 150/377: 100%|██████████| 856/856 [02:07<00:00,  6.70batches/s]\n",
      "Epoch 151/377:   0%|          | 1/856 [00:00<01:55,  7.38batches/s]"
     ]
    },
    {
     "name": "stdout",
     "output_type": "stream",
     "text": [
      "Validation accuracy at (0.99744963019637845, 6.7939489636660808e-05)\n"
     ]
    },
    {
     "name": "stderr",
     "output_type": "stream",
     "text": [
      "Epoch 151/377: 100%|██████████| 856/856 [02:05<00:00,  6.82batches/s]\n",
      "Epoch 152/377:   0%|          | 1/856 [00:00<01:58,  7.23batches/s]"
     ]
    },
    {
     "name": "stdout",
     "output_type": "stream",
     "text": [
      "Validation accuracy at (0.99923488905891356, 4.0930427107239464e-05)\n"
     ]
    },
    {
     "name": "stderr",
     "output_type": "stream",
     "text": [
      "Epoch 152/377: 100%|██████████| 856/856 [02:07<00:00,  6.70batches/s]\n",
      "Epoch 153/377:   0%|          | 1/856 [00:00<01:59,  7.16batches/s]"
     ]
    },
    {
     "name": "stdout",
     "output_type": "stream",
     "text": [
      "Validation accuracy at (0.99859729660800811, 3.3845000230591444e-05)\n"
     ]
    },
    {
     "name": "stderr",
     "output_type": "stream",
     "text": [
      "Epoch 153/377: 100%|██████████| 856/856 [02:07<00:00,  6.70batches/s]\n",
      "Epoch 154/377:   0%|          | 1/856 [00:00<01:59,  7.14batches/s]"
     ]
    },
    {
     "name": "stdout",
     "output_type": "stream",
     "text": [
      "Validation accuracy at (0.98355011490345368, 0.0012027147576768856)\n"
     ]
    },
    {
     "name": "stderr",
     "output_type": "stream",
     "text": [
      "Epoch 154/377: 100%|██████████| 856/856 [02:07<00:00,  6.70batches/s]\n",
      "Epoch 155/377:   0%|          | 1/856 [00:00<02:00,  7.12batches/s]"
     ]
    },
    {
     "name": "stdout",
     "output_type": "stream",
     "text": [
      "Validation accuracy at (0.99770466717674067, 0.00010068520616755592)\n"
     ]
    },
    {
     "name": "stderr",
     "output_type": "stream",
     "text": [
      "Epoch 155/377: 100%|██████████| 856/856 [02:07<00:00,  6.70batches/s]\n",
      "Epoch 156/377:   0%|          | 1/856 [00:00<02:05,  6.82batches/s]"
     ]
    },
    {
     "name": "stdout",
     "output_type": "stream",
     "text": [
      "Validation accuracy at (0.99808722264728389, 5.6876517684366162e-05)\n"
     ]
    },
    {
     "name": "stderr",
     "output_type": "stream",
     "text": [
      "Epoch 156/377: 100%|██████████| 856/856 [02:07<00:00,  6.70batches/s]\n",
      "Epoch 157/377:   0%|          | 1/856 [00:00<02:02,  6.96batches/s]"
     ]
    },
    {
     "name": "stdout",
     "output_type": "stream",
     "text": [
      "Validation accuracy at (0.99923488905891356, 2.3865218443590449e-05)\n"
     ]
    },
    {
     "name": "stderr",
     "output_type": "stream",
     "text": [
      "Epoch 157/377: 100%|██████████| 856/856 [02:05<00:00,  6.81batches/s]\n",
      "Epoch 158/377:   0%|          | 1/856 [00:00<02:03,  6.90batches/s]"
     ]
    },
    {
     "name": "stdout",
     "output_type": "stream",
     "text": [
      "Validation accuracy at (0.99846977811782711, 5.991741820587734e-05)\n"
     ]
    },
    {
     "name": "stderr",
     "output_type": "stream",
     "text": [
      "Epoch 158/377: 100%|██████████| 856/856 [02:07<00:00,  6.70batches/s]\n",
      "Epoch 159/377:   0%|          | 1/856 [00:00<02:02,  7.00batches/s]"
     ]
    },
    {
     "name": "stdout",
     "output_type": "stream",
     "text": [
      "Validation accuracy at (0.99732211170619745, 0.00011097955493215174)\n"
     ]
    },
    {
     "name": "stderr",
     "output_type": "stream",
     "text": [
      "Epoch 159/377: 100%|██████████| 856/856 [02:07<00:00,  6.70batches/s]\n",
      "Epoch 160/377:   0%|          | 1/856 [00:00<02:01,  7.06batches/s]"
     ]
    },
    {
     "name": "stdout",
     "output_type": "stream",
     "text": [
      "Validation accuracy at (0.99808722264728389, 9.1763251295462895e-05)\n"
     ]
    },
    {
     "name": "stderr",
     "output_type": "stream",
     "text": [
      "Epoch 160/377: 100%|██████████| 856/856 [02:05<00:00,  6.81batches/s]\n",
      "Epoch 161/377:   0%|          | 0/856 [00:00<?, ?batches/s]"
     ]
    },
    {
     "name": "stdout",
     "output_type": "stream",
     "text": [
      "Validation accuracy at (0.99056363172660034, 0.00047525569675625447)\n"
     ]
    },
    {
     "name": "stderr",
     "output_type": "stream",
     "text": [
      "Epoch 161/377: 100%|██████████| 856/856 [02:07<00:00,  6.70batches/s]\n",
      "Epoch 162/377:   0%|          | 1/856 [00:00<01:59,  7.14batches/s]"
     ]
    },
    {
     "name": "stdout",
     "output_type": "stream",
     "text": [
      "Validation accuracy at (0.98699311400153023, 0.00068969073371031859)\n"
     ]
    },
    {
     "name": "stderr",
     "output_type": "stream",
     "text": [
      "Epoch 162/377: 100%|██████████| 856/856 [02:07<00:00,  6.70batches/s]\n",
      "Epoch 163/377:   0%|          | 1/856 [00:00<01:59,  7.14batches/s]"
     ]
    },
    {
     "name": "stdout",
     "output_type": "stream",
     "text": [
      "Validation accuracy at (0.97334863568896757, 0.0025057770955566327)\n"
     ]
    },
    {
     "name": "stderr",
     "output_type": "stream",
     "text": [
      "Epoch 163/377: 100%|██████████| 856/856 [02:07<00:00,  6.70batches/s]\n",
      "Epoch 164/377:   0%|          | 1/856 [00:00<01:57,  7.25batches/s]"
     ]
    },
    {
     "name": "stdout",
     "output_type": "stream",
     "text": [
      "Validation accuracy at (0.99923488905891356, 2.4166589573053625e-05)\n"
     ]
    },
    {
     "name": "stderr",
     "output_type": "stream",
     "text": [
      "Epoch 164/377: 100%|██████████| 856/856 [02:05<00:00,  6.81batches/s]\n",
      "Epoch 165/377:   0%|          | 1/856 [00:00<02:03,  6.91batches/s]"
     ]
    },
    {
     "name": "stdout",
     "output_type": "stream",
     "text": [
      "Validation accuracy at (0.99923488905891356, 3.4181482894555997e-05)\n"
     ]
    },
    {
     "name": "stderr",
     "output_type": "stream",
     "text": [
      "Epoch 165/377: 100%|██████████| 856/856 [02:07<00:00,  6.70batches/s]\n",
      "Epoch 166/377:   0%|          | 1/856 [00:00<02:02,  6.99batches/s]"
     ]
    },
    {
     "name": "stdout",
     "output_type": "stream",
     "text": [
      "Validation accuracy at (0.99783218566692167, 5.4817935413394841e-05)\n"
     ]
    },
    {
     "name": "stderr",
     "output_type": "stream",
     "text": [
      "Epoch 166/377: 100%|██████████| 856/856 [02:07<00:00,  6.70batches/s]\n",
      "Epoch 167/377:   0%|          | 1/856 [00:00<02:05,  6.84batches/s]"
     ]
    },
    {
     "name": "stdout",
     "output_type": "stream",
     "text": [
      "Validation accuracy at (0.99591940831420556, 0.00018262284377224219)\n"
     ]
    },
    {
     "name": "stderr",
     "output_type": "stream",
     "text": [
      "Epoch 167/377: 100%|██████████| 856/856 [02:05<00:00,  6.81batches/s]\n",
      "Epoch 168/377:   0%|          | 1/856 [00:00<02:05,  6.79batches/s]"
     ]
    },
    {
     "name": "stdout",
     "output_type": "stream",
     "text": [
      "Validation accuracy at (0.99081866870696256, 0.00049964361810483622)\n"
     ]
    },
    {
     "name": "stderr",
     "output_type": "stream",
     "text": [
      "Epoch 168/377: 100%|██████████| 856/856 [02:07<00:00,  6.70batches/s]\n",
      "Epoch 169/377:   0%|          | 1/856 [00:00<02:02,  6.96batches/s]"
     ]
    },
    {
     "name": "stdout",
     "output_type": "stream",
     "text": [
      "Validation accuracy at (0.99795970415710278, 6.5161426036737269e-05)\n"
     ]
    },
    {
     "name": "stderr",
     "output_type": "stream",
     "text": [
      "Epoch 169/377: 100%|██████████| 856/856 [02:07<00:00,  6.70batches/s]\n",
      "Epoch 170/377:   0%|          | 1/856 [00:00<01:57,  7.25batches/s]"
     ]
    },
    {
     "name": "stdout",
     "output_type": "stream",
     "text": [
      "Validation accuracy at (0.99821474113746489, 5.7708716335087856e-05)\n"
     ]
    },
    {
     "name": "stderr",
     "output_type": "stream",
     "text": [
      "Epoch 170/377: 100%|██████████| 856/856 [02:05<00:00,  6.81batches/s]\n",
      "Epoch 171/377:   0%|          | 1/856 [00:00<01:59,  7.14batches/s]"
     ]
    },
    {
     "name": "stdout",
     "output_type": "stream",
     "text": [
      "Validation accuracy at (0.99630196378474878, 0.00013275004475843562)\n"
     ]
    },
    {
     "name": "stderr",
     "output_type": "stream",
     "text": [
      "Epoch 171/377: 100%|██████████| 856/856 [02:07<00:00,  6.70batches/s]\n",
      "Epoch 172/377:   0%|          | 1/856 [00:00<01:59,  7.16batches/s]"
     ]
    },
    {
     "name": "stdout",
     "output_type": "stream",
     "text": [
      "Validation accuracy at (0.97092578437552712, 0.0019146997855206179)\n"
     ]
    },
    {
     "name": "stderr",
     "output_type": "stream",
     "text": [
      "Epoch 172/377: 100%|██████████| 856/856 [02:07<00:00,  6.70batches/s]\n",
      "Epoch 173/377:   0%|          | 1/856 [00:00<01:57,  7.27batches/s]"
     ]
    },
    {
     "name": "stdout",
     "output_type": "stream",
     "text": [
      "Validation accuracy at (0.99885233358837033, 5.8926067795436967e-05)\n"
     ]
    },
    {
     "name": "stderr",
     "output_type": "stream",
     "text": [
      "Epoch 173/377: 100%|██████████| 856/856 [02:05<00:00,  6.81batches/s]\n",
      "Epoch 174/377:   0%|          | 1/856 [00:00<02:04,  6.86batches/s]"
     ]
    },
    {
     "name": "stdout",
     "output_type": "stream",
     "text": [
      "Validation accuracy at (0.99885233358837033, 5.2811265725239914e-05)\n"
     ]
    },
    {
     "name": "stderr",
     "output_type": "stream",
     "text": [
      "Epoch 174/377: 100%|██████████| 856/856 [02:07<00:00,  6.70batches/s]\n",
      "Epoch 175/377:   0%|          | 1/856 [00:00<02:03,  6.93batches/s]"
     ]
    },
    {
     "name": "stdout",
     "output_type": "stream",
     "text": [
      "Validation accuracy at (0.98112726345320067, 0.0013849860667754523)\n"
     ]
    },
    {
     "name": "stderr",
     "output_type": "stream",
     "text": [
      "Epoch 175/377: 100%|██████████| 856/856 [02:07<00:00,  6.70batches/s]\n",
      "Epoch 176/377:   0%|          | 1/856 [00:00<02:00,  7.08batches/s]"
     ]
    },
    {
     "name": "stdout",
     "output_type": "stream",
     "text": [
      "Validation accuracy at (0.99846977811782711, 7.125288049087795e-05)\n"
     ]
    },
    {
     "name": "stderr",
     "output_type": "stream",
     "text": [
      "Epoch 176/377: 100%|██████████| 856/856 [02:05<00:00,  6.81batches/s]\n",
      "Epoch 177/377:   0%|          | 0/856 [00:00<?, ?batches/s]"
     ]
    },
    {
     "name": "stdout",
     "output_type": "stream",
     "text": [
      "Validation accuracy at (0.99719459321601633, 0.00013524379617951162)\n"
     ]
    },
    {
     "name": "stderr",
     "output_type": "stream",
     "text": [
      "Epoch 177/377: 100%|██████████| 856/856 [02:07<00:00,  6.70batches/s]\n",
      "Epoch 178/377:   0%|          | 1/856 [00:00<01:59,  7.18batches/s]"
     ]
    },
    {
     "name": "stdout",
     "output_type": "stream",
     "text": [
      "Validation accuracy at (0.99885233358837033, 3.6955789664208664e-05)\n"
     ]
    },
    {
     "name": "stderr",
     "output_type": "stream",
     "text": [
      "Epoch 178/377: 100%|██████████| 856/856 [02:07<00:00,  6.70batches/s]\n",
      "Epoch 179/377:   0%|          | 1/856 [00:00<02:01,  7.05batches/s]"
     ]
    },
    {
     "name": "stdout",
     "output_type": "stream",
     "text": [
      "Validation accuracy at (0.98533537362917623, 0.00092060083674539047)\n"
     ]
    },
    {
     "name": "stderr",
     "output_type": "stream",
     "text": [
      "Epoch 179/377: 100%|██████████| 856/856 [02:07<00:00,  6.70batches/s]\n",
      "Epoch 180/377:   0%|          | 1/856 [00:00<01:59,  7.17batches/s]"
     ]
    },
    {
     "name": "stdout",
     "output_type": "stream",
     "text": [
      "Validation accuracy at (0.92871716412559091, 0.0068167311687367333)\n"
     ]
    },
    {
     "name": "stderr",
     "output_type": "stream",
     "text": [
      "Epoch 180/377: 100%|██████████| 856/856 [02:05<00:00,  6.81batches/s]\n",
      "Epoch 181/377:   0%|          | 1/856 [00:00<01:59,  7.15batches/s]"
     ]
    },
    {
     "name": "stdout",
     "output_type": "stream",
     "text": [
      "Validation accuracy at (0.99948992603927567, 1.7612483685377276e-05)\n"
     ]
    },
    {
     "name": "stderr",
     "output_type": "stream",
     "text": [
      "Epoch 181/377: 100%|██████████| 856/856 [02:07<00:00,  6.70batches/s]\n",
      "Epoch 182/377:   0%|          | 1/856 [00:00<01:56,  7.35batches/s]"
     ]
    },
    {
     "name": "stdout",
     "output_type": "stream",
     "text": [
      "Validation accuracy at (0.99566437133384345, 0.00023746550237155645)\n"
     ]
    },
    {
     "name": "stderr",
     "output_type": "stream",
     "text": [
      "Epoch 182/377: 100%|██████████| 856/856 [02:07<00:00,  6.70batches/s]\n",
      "Epoch 183/377:   0%|          | 1/856 [00:00<01:56,  7.36batches/s]"
     ]
    },
    {
     "name": "stdout",
     "output_type": "stream",
     "text": [
      "Validation accuracy at (0.97883193076675379, 0.0013951408135071789)\n"
     ]
    },
    {
     "name": "stderr",
     "output_type": "stream",
     "text": [
      "Epoch 183/377: 100%|██████████| 856/856 [02:05<00:00,  6.81batches/s]\n",
      "Epoch 184/377:   0%|          | 1/856 [00:00<01:56,  7.35batches/s]"
     ]
    },
    {
     "name": "stdout",
     "output_type": "stream",
     "text": [
      "Validation accuracy at (0.99744963019637845, 0.00013620200307031116)\n"
     ]
    },
    {
     "name": "stderr",
     "output_type": "stream",
     "text": [
      "Epoch 184/377: 100%|██████████| 856/856 [02:07<00:00,  6.70batches/s]\n",
      "Epoch 185/377:   0%|          | 1/856 [00:00<01:59,  7.17batches/s]"
     ]
    },
    {
     "name": "stdout",
     "output_type": "stream",
     "text": [
      "Validation accuracy at (0.95409334367162502, 0.0048484020761706582)\n"
     ]
    },
    {
     "name": "stderr",
     "output_type": "stream",
     "text": [
      "Epoch 185/377: 100%|██████████| 856/856 [02:07<00:00,  6.70batches/s]\n",
      "Epoch 186/377:   0%|          | 1/856 [00:00<01:58,  7.24batches/s]"
     ]
    },
    {
     "name": "stdout",
     "output_type": "stream",
     "text": [
      "Validation accuracy at (0.99859729660800811, 5.1822553338502615e-05)\n"
     ]
    },
    {
     "name": "stderr",
     "output_type": "stream",
     "text": [
      "Epoch 186/377: 100%|██████████| 856/856 [02:05<00:00,  6.82batches/s]\n",
      "Epoch 187/377:   0%|          | 1/856 [00:00<01:57,  7.30batches/s]"
     ]
    },
    {
     "name": "stdout",
     "output_type": "stream",
     "text": [
      "Validation accuracy at (0.99821474113746489, 7.4163893501323888e-05)\n"
     ]
    },
    {
     "name": "stderr",
     "output_type": "stream",
     "text": [
      "Epoch 187/377: 100%|██████████| 856/856 [02:07<00:00,  6.70batches/s]\n",
      "Epoch 188/377:   0%|          | 1/856 [00:00<01:57,  7.29batches/s]"
     ]
    },
    {
     "name": "stdout",
     "output_type": "stream",
     "text": [
      "Validation accuracy at (0.99795970415710278, 8.0010499203624457e-05)\n"
     ]
    },
    {
     "name": "stderr",
     "output_type": "stream",
     "text": [
      "Epoch 188/377: 100%|██████████| 856/856 [02:07<00:00,  6.70batches/s]\n",
      "Epoch 189/377:   0%|          | 1/856 [00:00<02:00,  7.09batches/s]"
     ]
    },
    {
     "name": "stdout",
     "output_type": "stream",
     "text": [
      "Validation accuracy at (0.99872481509818922, 3.5405192098533163e-05)\n"
     ]
    },
    {
     "name": "stderr",
     "output_type": "stream",
     "text": [
      "Epoch 189/377: 100%|██████████| 856/856 [02:05<00:00,  6.81batches/s]\n",
      "Epoch 190/377:   0%|          | 1/856 [00:00<01:58,  7.23batches/s]"
     ]
    },
    {
     "name": "stdout",
     "output_type": "stream",
     "text": [
      "Validation accuracy at (0.99923488905891356, 2.7040515803359116e-05)\n"
     ]
    },
    {
     "name": "stderr",
     "output_type": "stream",
     "text": [
      "Epoch 190/377: 100%|██████████| 856/856 [02:07<00:00,  6.70batches/s]\n",
      "Epoch 191/377:   0%|          | 1/856 [00:00<01:58,  7.23batches/s]"
     ]
    },
    {
     "name": "stdout",
     "output_type": "stream",
     "text": [
      "Validation accuracy at (0.97462382045396578, 0.0017354891815099384)\n"
     ]
    },
    {
     "name": "stderr",
     "output_type": "stream",
     "text": [
      "Epoch 191/377: 100%|██████████| 856/856 [02:07<00:00,  6.70batches/s]\n",
      "Epoch 192/377:   0%|          | 1/856 [00:00<01:57,  7.30batches/s]"
     ]
    },
    {
     "name": "stdout",
     "output_type": "stream",
     "text": [
      "Validation accuracy at (0.97666411643367557, 0.0022027553367174623)\n"
     ]
    },
    {
     "name": "stderr",
     "output_type": "stream",
     "text": [
      "Epoch 192/377: 100%|██████████| 856/856 [02:05<00:00,  6.82batches/s]\n",
      "Epoch 193/377:   0%|          | 0/856 [00:00<?, ?batches/s]"
     ]
    },
    {
     "name": "stdout",
     "output_type": "stream",
     "text": [
      "Validation accuracy at (0.99770466717674067, 0.00011924680313677025)\n"
     ]
    },
    {
     "name": "stderr",
     "output_type": "stream",
     "text": [
      "Epoch 193/377: 100%|██████████| 856/856 [02:07<00:00,  6.70batches/s]\n",
      "Epoch 194/377:   0%|          | 1/856 [00:00<02:00,  7.10batches/s]"
     ]
    },
    {
     "name": "stdout",
     "output_type": "stream",
     "text": [
      "Validation accuracy at (0.99846977811782711, 5.5770145633660055e-05)\n"
     ]
    },
    {
     "name": "stderr",
     "output_type": "stream",
     "text": [
      "Epoch 194/377: 100%|██████████| 856/856 [02:07<00:00,  6.70batches/s]\n",
      "Epoch 195/377:   0%|          | 1/856 [00:00<01:57,  7.31batches/s]"
     ]
    },
    {
     "name": "stdout",
     "output_type": "stream",
     "text": [
      "Validation accuracy at (0.99821474113746489, 7.5194453653192687e-05)\n"
     ]
    },
    {
     "name": "stderr",
     "output_type": "stream",
     "text": [
      "Epoch 195/377: 100%|██████████| 856/856 [02:07<00:00,  6.70batches/s]\n",
      "Epoch 196/377:   0%|          | 1/856 [00:00<02:02,  6.95batches/s]"
     ]
    },
    {
     "name": "stdout",
     "output_type": "stream",
     "text": [
      "Validation accuracy at (0.99885233358837033, 4.9764025143241371e-05)\n"
     ]
    },
    {
     "name": "stderr",
     "output_type": "stream",
     "text": [
      "Epoch 196/377: 100%|██████████| 856/856 [02:05<00:00,  6.81batches/s]\n",
      "Epoch 197/377:   0%|          | 1/856 [00:00<01:58,  7.21batches/s]"
     ]
    },
    {
     "name": "stdout",
     "output_type": "stream",
     "text": [
      "Validation accuracy at (0.99885233358837033, 3.8629401856460149e-05)\n"
     ]
    },
    {
     "name": "stderr",
     "output_type": "stream",
     "text": [
      "Epoch 197/377: 100%|██████████| 856/856 [02:07<00:00,  6.70batches/s]\n",
      "Epoch 198/377:   0%|          | 1/856 [00:00<02:00,  7.12batches/s]"
     ]
    },
    {
     "name": "stdout",
     "output_type": "stream",
     "text": [
      "Validation accuracy at (0.99795970415710278, 0.00015819749649615932)\n"
     ]
    },
    {
     "name": "stderr",
     "output_type": "stream",
     "text": [
      "Epoch 198/377: 100%|██████████| 856/856 [02:07<00:00,  6.70batches/s]\n",
      "Epoch 199/377:   0%|          | 1/856 [00:00<01:54,  7.49batches/s]"
     ]
    },
    {
     "name": "stdout",
     "output_type": "stream",
     "text": [
      "Validation accuracy at (0.99897985207855144, 6.3558057676166798e-05)\n"
     ]
    },
    {
     "name": "stderr",
     "output_type": "stream",
     "text": [
      "Epoch 199/377: 100%|██████████| 856/856 [02:05<00:00,  6.81batches/s]\n",
      "Epoch 200/377:   0%|          | 1/856 [00:00<02:02,  7.00batches/s]"
     ]
    },
    {
     "name": "stdout",
     "output_type": "stream",
     "text": [
      "Validation accuracy at (0.99808722264728389, 6.3593555390654811e-05)\n"
     ]
    },
    {
     "name": "stderr",
     "output_type": "stream",
     "text": [
      "Epoch 200/377: 100%|██████████| 856/856 [02:07<00:00,  6.70batches/s]\n",
      "Epoch 201/377:   0%|          | 1/856 [00:00<02:02,  6.96batches/s]"
     ]
    },
    {
     "name": "stdout",
     "output_type": "stream",
     "text": [
      "Validation accuracy at (0.99821474113746489, 6.2792392713137405e-05)\n"
     ]
    },
    {
     "name": "stderr",
     "output_type": "stream",
     "text": [
      "Epoch 201/377: 100%|██████████| 856/856 [02:07<00:00,  6.70batches/s]\n",
      "Epoch 202/377:   0%|          | 1/856 [00:00<02:07,  6.71batches/s]"
     ]
    },
    {
     "name": "stdout",
     "output_type": "stream",
     "text": [
      "Validation accuracy at (0.99872481509818922, 5.897216239443084e-05)\n"
     ]
    },
    {
     "name": "stderr",
     "output_type": "stream",
     "text": [
      "Epoch 202/377: 100%|██████████| 856/856 [02:05<00:00,  6.81batches/s]\n",
      "Epoch 203/377:   0%|          | 1/856 [00:00<02:04,  6.87batches/s]"
     ]
    },
    {
     "name": "stdout",
     "output_type": "stream",
     "text": [
      "Validation accuracy at (0.988268298903341, 0.00074246903124415261)\n"
     ]
    },
    {
     "name": "stderr",
     "output_type": "stream",
     "text": [
      "Epoch 203/377: 100%|██████████| 856/856 [02:07<00:00,  6.70batches/s]\n",
      "Epoch 204/377:   0%|          | 1/856 [00:00<02:02,  6.98batches/s]"
     ]
    },
    {
     "name": "stdout",
     "output_type": "stream",
     "text": [
      "Validation accuracy at (0.97768426421831167, 0.0019535511602117692)\n"
     ]
    },
    {
     "name": "stderr",
     "output_type": "stream",
     "text": [
      "Epoch 204/377: 100%|██████████| 856/856 [02:07<00:00,  6.70batches/s]\n",
      "Epoch 205/377:   0%|          | 1/856 [00:00<02:05,  6.83batches/s]"
     ]
    },
    {
     "name": "stdout",
     "output_type": "stream",
     "text": [
      "Validation accuracy at (0.99426166794185156, 0.00032778935044491694)\n"
     ]
    },
    {
     "name": "stderr",
     "output_type": "stream",
     "text": [
      "Epoch 205/377: 100%|██████████| 856/856 [02:05<00:00,  6.81batches/s]\n",
      "Epoch 206/377:   0%|          | 1/856 [00:00<01:57,  7.25batches/s]"
     ]
    },
    {
     "name": "stdout",
     "output_type": "stream",
     "text": [
      "Validation accuracy at (0.99247640907931645, 0.00041032497814146924)\n"
     ]
    },
    {
     "name": "stderr",
     "output_type": "stream",
     "text": [
      "Epoch 206/377: 100%|██████████| 856/856 [02:07<00:00,  6.70batches/s]\n",
      "Epoch 207/377:   0%|          | 1/856 [00:00<01:52,  7.59batches/s]"
     ]
    },
    {
     "name": "stdout",
     "output_type": "stream",
     "text": [
      "Validation accuracy at (0.99757714868655956, 0.0001149371630319064)\n"
     ]
    },
    {
     "name": "stderr",
     "output_type": "stream",
     "text": [
      "Epoch 207/377: 100%|██████████| 856/856 [02:07<00:00,  6.70batches/s]\n",
      "Epoch 208/377:   0%|          | 1/856 [00:00<01:59,  7.18batches/s]"
     ]
    },
    {
     "name": "stdout",
     "output_type": "stream",
     "text": [
      "Validation accuracy at (0.996684519255292, 0.00019355585012480384)\n"
     ]
    },
    {
     "name": "stderr",
     "output_type": "stream",
     "text": [
      "Epoch 208/377: 100%|██████████| 856/856 [02:05<00:00,  6.81batches/s]\n",
      "Epoch 209/377:   0%|          | 0/856 [00:00<?, ?batches/s]"
     ]
    },
    {
     "name": "stdout",
     "output_type": "stream",
     "text": [
      "Validation accuracy at (0.99885233358837033, 4.9517146780123456e-05)\n"
     ]
    },
    {
     "name": "stderr",
     "output_type": "stream",
     "text": [
      "Epoch 209/377: 100%|██████████| 856/856 [02:07<00:00,  6.70batches/s]\n",
      "Epoch 210/377:   0%|          | 1/856 [00:00<01:58,  7.24batches/s]"
     ]
    },
    {
     "name": "stdout",
     "output_type": "stream",
     "text": [
      "Validation accuracy at (0.99285896468667223, 0.00044814639577473049)\n"
     ]
    },
    {
     "name": "stderr",
     "output_type": "stream",
     "text": [
      "Epoch 210/377: 100%|██████████| 856/856 [02:07<00:00,  6.70batches/s]\n",
      "Epoch 211/377:   0%|          | 1/856 [00:00<01:56,  7.35batches/s]"
     ]
    },
    {
     "name": "stdout",
     "output_type": "stream",
     "text": [
      "Validation accuracy at (0.99757714868655956, 0.00012271978901736569)\n"
     ]
    },
    {
     "name": "stderr",
     "output_type": "stream",
     "text": [
      "Epoch 211/377: 100%|██████████| 856/856 [02:07<00:00,  6.70batches/s]\n",
      "Epoch 212/377:   0%|          | 1/856 [00:00<01:57,  7.30batches/s]"
     ]
    },
    {
     "name": "stdout",
     "output_type": "stream",
     "text": [
      "Validation accuracy at (0.98877837286406534, 0.00079671838029487727)\n"
     ]
    },
    {
     "name": "stderr",
     "output_type": "stream",
     "text": [
      "Epoch 212/377: 100%|██████████| 856/856 [02:05<00:00,  6.81batches/s]\n",
      "Epoch 213/377:   0%|          | 1/856 [00:00<01:57,  7.27batches/s]"
     ]
    },
    {
     "name": "stdout",
     "output_type": "stream",
     "text": [
      "Validation accuracy at (0.99872481509818922, 3.9045054492744379e-05)\n"
     ]
    },
    {
     "name": "stderr",
     "output_type": "stream",
     "text": [
      "Epoch 213/377: 100%|██████████| 856/856 [02:07<00:00,  6.70batches/s]\n",
      "Epoch 214/377:   0%|          | 1/856 [00:00<01:57,  7.30batches/s]"
     ]
    },
    {
     "name": "stdout",
     "output_type": "stream",
     "text": [
      "Validation accuracy at (0.98329507792309145, 0.0010751407687495994)\n"
     ]
    },
    {
     "name": "stderr",
     "output_type": "stream",
     "text": [
      "Epoch 214/377: 100%|██████████| 856/856 [02:07<00:00,  6.70batches/s]\n",
      "Epoch 215/377:   0%|          | 1/856 [00:00<01:56,  7.32batches/s]"
     ]
    },
    {
     "name": "stdout",
     "output_type": "stream",
     "text": [
      "Validation accuracy at (0.99897985207855144, 4.2709888979093369e-05)\n"
     ]
    },
    {
     "name": "stderr",
     "output_type": "stream",
     "text": [
      "Epoch 215/377: 100%|██████████| 856/856 [02:05<00:00,  6.81batches/s]\n",
      "Epoch 216/377:   0%|          | 1/856 [00:00<01:57,  7.26batches/s]"
     ]
    },
    {
     "name": "stdout",
     "output_type": "stream",
     "text": [
      "Validation accuracy at (0.99846977811782711, 9.434308972996734e-05)\n"
     ]
    },
    {
     "name": "stderr",
     "output_type": "stream",
     "text": [
      "Epoch 216/377: 100%|██████████| 856/856 [02:07<00:00,  6.70batches/s]\n",
      "Epoch 217/377:   0%|          | 1/856 [00:00<01:57,  7.30batches/s]"
     ]
    },
    {
     "name": "stdout",
     "output_type": "stream",
     "text": [
      "Validation accuracy at (0.99923488905891356, 4.4058127283609505e-05)\n"
     ]
    },
    {
     "name": "stderr",
     "output_type": "stream",
     "text": [
      "Epoch 217/377: 100%|██████████| 856/856 [02:07<00:00,  6.70batches/s]\n",
      "Epoch 218/377:   0%|          | 1/856 [00:00<01:57,  7.28batches/s]"
     ]
    },
    {
     "name": "stdout",
     "output_type": "stream",
     "text": [
      "Validation accuracy at (0.99795970415710278, 0.00010546931634012597)\n"
     ]
    },
    {
     "name": "stderr",
     "output_type": "stream",
     "text": [
      "Epoch 218/377: 100%|██████████| 856/856 [02:05<00:00,  6.81batches/s]\n",
      "Epoch 219/377:   0%|          | 1/856 [00:00<02:02,  6.98batches/s]"
     ]
    },
    {
     "name": "stdout",
     "output_type": "stream",
     "text": [
      "Validation accuracy at (0.99872481509818922, 3.7075221490825856e-05)\n"
     ]
    },
    {
     "name": "stderr",
     "output_type": "stream",
     "text": [
      "Epoch 219/377: 100%|██████████| 856/856 [02:07<00:00,  6.70batches/s]\n",
      "Epoch 220/377:   0%|          | 1/856 [00:00<01:59,  7.13batches/s]"
     ]
    },
    {
     "name": "stdout",
     "output_type": "stream",
     "text": [
      "Validation accuracy at (0.99783218566692167, 6.3131510636960195e-05)\n"
     ]
    },
    {
     "name": "stderr",
     "output_type": "stream",
     "text": [
      "Epoch 220/377: 100%|██████████| 856/856 [02:07<00:00,  6.70batches/s]\n",
      "Epoch 221/377:   0%|          | 1/856 [00:00<01:59,  7.13batches/s]"
     ]
    },
    {
     "name": "stdout",
     "output_type": "stream",
     "text": [
      "Validation accuracy at (0.99948992603927567, 2.193903302113163e-05)\n"
     ]
    },
    {
     "name": "stderr",
     "output_type": "stream",
     "text": [
      "Epoch 221/377: 100%|██████████| 856/856 [02:05<00:00,  6.81batches/s]\n",
      "Epoch 222/377:   0%|          | 1/856 [00:00<01:58,  7.24batches/s]"
     ]
    },
    {
     "name": "stdout",
     "output_type": "stream",
     "text": [
      "Validation accuracy at (0.9419790871044228, 0.011201661455406275)\n"
     ]
    },
    {
     "name": "stderr",
     "output_type": "stream",
     "text": [
      "Epoch 222/377: 100%|██████████| 856/856 [02:07<00:00,  6.70batches/s]\n",
      "Epoch 223/377:   0%|          | 1/856 [00:00<01:56,  7.31batches/s]"
     ]
    },
    {
     "name": "stdout",
     "output_type": "stream",
     "text": [
      "Validation accuracy at (0.99744963019637845, 0.00010588738168201698)\n"
     ]
    },
    {
     "name": "stderr",
     "output_type": "stream",
     "text": [
      "Epoch 223/377: 100%|██████████| 856/856 [02:07<00:00,  6.70batches/s]\n",
      "Epoch 224/377:   0%|          | 1/856 [00:00<01:57,  7.27batches/s]"
     ]
    },
    {
     "name": "stdout",
     "output_type": "stream",
     "text": [
      "Validation accuracy at (0.99591940831420556, 0.00027161928905277625)\n"
     ]
    },
    {
     "name": "stderr",
     "output_type": "stream",
     "text": [
      "Epoch 224/377: 100%|██████████| 856/856 [02:05<00:00,  6.81batches/s]\n",
      "Epoch 225/377:   0%|          | 0/856 [00:00<?, ?batches/s]"
     ]
    },
    {
     "name": "stdout",
     "output_type": "stream",
     "text": [
      "Validation accuracy at (0.99706707486264778, 0.00016124197265492927)\n"
     ]
    },
    {
     "name": "stderr",
     "output_type": "stream",
     "text": [
      "Epoch 225/377: 100%|██████████| 856/856 [02:07<00:00,  6.70batches/s]\n",
      "Epoch 226/377:   0%|          | 1/856 [00:00<01:58,  7.24batches/s]"
     ]
    },
    {
     "name": "stdout",
     "output_type": "stream",
     "text": [
      "Validation accuracy at (0.99923488905891356, 2.2042700440241564e-05)\n"
     ]
    },
    {
     "name": "stderr",
     "output_type": "stream",
     "text": [
      "Epoch 226/377: 100%|██████████| 856/856 [02:07<00:00,  6.70batches/s]\n",
      "Epoch 227/377:   0%|          | 1/856 [00:00<01:57,  7.27batches/s]"
     ]
    },
    {
     "name": "stdout",
     "output_type": "stream",
     "text": [
      "Validation accuracy at (0.98597296608008156, 0.00069334128135896021)\n"
     ]
    },
    {
     "name": "stderr",
     "output_type": "stream",
     "text": [
      "Epoch 227/377: 100%|██████████| 856/856 [02:07<00:00,  6.70batches/s]\n",
      "Epoch 228/377:   0%|          | 1/856 [00:00<01:56,  7.33batches/s]"
     ]
    },
    {
     "name": "stdout",
     "output_type": "stream",
     "text": [
      "Validation accuracy at (0.98954348380515178, 0.00077499669785175936)\n"
     ]
    },
    {
     "name": "stderr",
     "output_type": "stream",
     "text": [
      "Epoch 228/377: 100%|██████████| 856/856 [02:05<00:00,  6.81batches/s]\n",
      "Epoch 229/377:   0%|          | 1/856 [00:00<01:57,  7.26batches/s]"
     ]
    },
    {
     "name": "stdout",
     "output_type": "stream",
     "text": [
      "Validation accuracy at (0.98087222647283856, 0.0014845337645202788)\n"
     ]
    },
    {
     "name": "stderr",
     "output_type": "stream",
     "text": [
      "Epoch 229/377: 100%|██████████| 856/856 [02:07<00:00,  6.70batches/s]\n",
      "Epoch 230/377:   0%|          | 1/856 [00:00<01:57,  7.28batches/s]"
     ]
    },
    {
     "name": "stdout",
     "output_type": "stream",
     "text": [
      "Validation accuracy at (0.99872481509818922, 4.1434850933526411e-05)\n"
     ]
    },
    {
     "name": "stderr",
     "output_type": "stream",
     "text": [
      "Epoch 230/377: 100%|██████████| 856/856 [02:07<00:00,  6.70batches/s]\n",
      "Epoch 231/377:   0%|          | 1/856 [00:00<02:03,  6.91batches/s]"
     ]
    },
    {
     "name": "stdout",
     "output_type": "stream",
     "text": [
      "Validation accuracy at (0.99923488905891356, 4.6487343325240095e-05)\n"
     ]
    },
    {
     "name": "stderr",
     "output_type": "stream",
     "text": [
      "Epoch 231/377: 100%|██████████| 856/856 [02:05<00:00,  6.81batches/s]\n",
      "Epoch 232/377:   0%|          | 1/856 [00:00<01:57,  7.30batches/s]"
     ]
    },
    {
     "name": "stdout",
     "output_type": "stream",
     "text": [
      "Validation accuracy at (0.99247640907931645, 0.00062610968525199915)\n"
     ]
    },
    {
     "name": "stderr",
     "output_type": "stream",
     "text": [
      "Epoch 232/377: 100%|██████████| 856/856 [02:07<00:00,  6.70batches/s]\n"
     ]
    },
    {
     "name": "stdout",
     "output_type": "stream",
     "text": [
      "Validation accuracy at (0.99948992603927567, 1.9374166325404995e-05)\n"
     ]
    },
    {
     "name": "stderr",
     "output_type": "stream",
     "text": [
      "Epoch 233/377: 100%|██████████| 856/856 [02:07<00:00,  6.70batches/s]\n",
      "Epoch 234/377:   0%|          | 1/856 [00:00<01:55,  7.37batches/s]"
     ]
    },
    {
     "name": "stdout",
     "output_type": "stream",
     "text": [
      "Validation accuracy at (0.99540933435348122, 0.00020373448898843176)\n"
     ]
    },
    {
     "name": "stderr",
     "output_type": "stream",
     "text": [
      "Epoch 234/377: 100%|██████████| 856/856 [02:05<00:00,  6.81batches/s]\n",
      "Epoch 235/377:   0%|          | 1/856 [00:00<02:06,  6.75batches/s]"
     ]
    },
    {
     "name": "stdout",
     "output_type": "stream",
     "text": [
      "Validation accuracy at (0.99923488905891356, 3.5375308873790774e-05)\n"
     ]
    },
    {
     "name": "stderr",
     "output_type": "stream",
     "text": [
      "Epoch 235/377: 100%|██████████| 856/856 [02:07<00:00,  6.71batches/s]\n",
      "Epoch 236/377:   0%|          | 1/856 [00:00<01:57,  7.25batches/s]"
     ]
    },
    {
     "name": "stdout",
     "output_type": "stream",
     "text": [
      "Validation accuracy at (0.96812037759154346, 0.0032266371893808258)\n"
     ]
    },
    {
     "name": "stderr",
     "output_type": "stream",
     "text": [
      "Epoch 236/377: 100%|██████████| 856/856 [02:07<00:00,  6.70batches/s]\n",
      "Epoch 237/377:   0%|          | 1/856 [00:00<01:58,  7.19batches/s]"
     ]
    },
    {
     "name": "stdout",
     "output_type": "stream",
     "text": [
      "Validation accuracy at (0.99885233358837033, 6.4775095385351258e-05)\n"
     ]
    },
    {
     "name": "stderr",
     "output_type": "stream",
     "text": [
      "Epoch 237/377: 100%|██████████| 856/856 [02:06<00:00,  6.74batches/s]\n",
      "Epoch 238/377:   0%|          | 1/856 [00:00<02:04,  6.88batches/s]"
     ]
    },
    {
     "name": "stdout",
     "output_type": "stream",
     "text": [
      "Validation accuracy at (0.96021423120031668, 0.0057444392179263181)\n"
     ]
    },
    {
     "name": "stderr",
     "output_type": "stream",
     "text": [
      "Epoch 238/377: 100%|██████████| 856/856 [02:09<00:00,  6.63batches/s]\n",
      "Epoch 239/377:   0%|          | 1/856 [00:00<02:00,  7.11batches/s]"
     ]
    },
    {
     "name": "stdout",
     "output_type": "stream",
     "text": [
      "Validation accuracy at (0.99923488905891356, 5.4845674784711717e-05)\n"
     ]
    },
    {
     "name": "stderr",
     "output_type": "stream",
     "text": [
      "Epoch 239/377: 100%|██████████| 856/856 [02:08<00:00,  6.68batches/s]\n",
      "Epoch 240/377:   0%|          | 1/856 [00:00<01:58,  7.19batches/s]"
     ]
    },
    {
     "name": "stdout",
     "output_type": "stream",
     "text": [
      "Validation accuracy at (0.99885233358837033, 3.3401559674926081e-05)\n"
     ]
    },
    {
     "name": "stderr",
     "output_type": "stream",
     "text": [
      "Epoch 240/377: 100%|██████████| 856/856 [02:05<00:00,  6.80batches/s]\n",
      "Epoch 241/377:   0%|          | 0/856 [00:00<?, ?batches/s]"
     ]
    },
    {
     "name": "stdout",
     "output_type": "stream",
     "text": [
      "Validation accuracy at (0.97067074725835245, 0.0026745246469053259)\n"
     ]
    },
    {
     "name": "stderr",
     "output_type": "stream",
     "text": [
      "Epoch 241/377: 100%|██████████| 856/856 [02:09<00:00,  6.62batches/s]\n",
      "Epoch 242/377:   0%|          | 1/856 [00:00<01:58,  7.19batches/s]"
     ]
    },
    {
     "name": "stdout",
     "output_type": "stream",
     "text": [
      "Validation accuracy at (0.98597296621689412, 0.0012440024609171639)\n"
     ]
    },
    {
     "name": "stderr",
     "output_type": "stream",
     "text": [
      "Epoch 242/377: 100%|██████████| 856/856 [02:07<00:00,  6.73batches/s]\n",
      "Epoch 243/377:   0%|          | 1/856 [00:00<02:02,  6.99batches/s]"
     ]
    },
    {
     "name": "stdout",
     "output_type": "stream",
     "text": [
      "Validation accuracy at (0.99859729660800811, 5.7326742187984952e-05)\n"
     ]
    },
    {
     "name": "stderr",
     "output_type": "stream",
     "text": [
      "Epoch 243/377: 100%|██████████| 856/856 [02:07<00:00,  6.72batches/s]\n",
      "Epoch 244/377:   0%|          | 1/856 [00:00<01:59,  7.18batches/s]"
     ]
    },
    {
     "name": "stdout",
     "output_type": "stream",
     "text": [
      "Validation accuracy at (0.99757714868655956, 0.0002153998237847386)\n"
     ]
    },
    {
     "name": "stderr",
     "output_type": "stream",
     "text": [
      "Epoch 244/377: 100%|██████████| 856/856 [02:06<00:00,  6.78batches/s]\n",
      "Epoch 245/377:   0%|          | 1/856 [00:00<02:01,  7.03batches/s]"
     ]
    },
    {
     "name": "stdout",
     "output_type": "stream",
     "text": [
      "Validation accuracy at (0.99910737056873244, 4.4837374667068073e-05)\n"
     ]
    },
    {
     "name": "stderr",
     "output_type": "stream",
     "text": [
      "Epoch 245/377: 100%|██████████| 856/856 [02:08<00:00,  6.66batches/s]\n",
      "Epoch 246/377:   0%|          | 1/856 [00:00<02:00,  7.11batches/s]"
     ]
    },
    {
     "name": "stdout",
     "output_type": "stream",
     "text": [
      "Validation accuracy at (0.98954348380515178, 0.0008966389359834528)\n"
     ]
    },
    {
     "name": "stderr",
     "output_type": "stream",
     "text": [
      "Epoch 246/377: 100%|██████████| 856/856 [02:06<00:00,  6.76batches/s]\n",
      "Epoch 247/377:   0%|          | 1/856 [00:00<01:57,  7.25batches/s]"
     ]
    },
    {
     "name": "stdout",
     "output_type": "stream",
     "text": [
      "Validation accuracy at (0.99477174190257589, 0.00026187100772009019)\n"
     ]
    },
    {
     "name": "stderr",
     "output_type": "stream",
     "text": [
      "Epoch 247/377: 100%|██████████| 856/856 [02:04<00:00,  6.90batches/s]\n",
      "Epoch 248/377:   0%|          | 1/856 [00:00<01:58,  7.19batches/s]"
     ]
    },
    {
     "name": "stdout",
     "output_type": "stream",
     "text": [
      "Validation accuracy at (0.99961744452945678, 2.2604581763620827e-05)\n"
     ]
    },
    {
     "name": "stderr",
     "output_type": "stream",
     "text": [
      "Epoch 248/377: 100%|██████████| 856/856 [02:07<00:00,  6.71batches/s]\n",
      "Epoch 249/377:   0%|          | 1/856 [00:00<01:59,  7.18batches/s]"
     ]
    },
    {
     "name": "stdout",
     "output_type": "stream",
     "text": [
      "Validation accuracy at (0.95026778882938023, 0.004522304514741767)\n"
     ]
    },
    {
     "name": "stderr",
     "output_type": "stream",
     "text": [
      "Epoch 249/377: 100%|██████████| 856/856 [02:07<00:00,  6.71batches/s]\n",
      "Epoch 250/377:   0%|          | 1/856 [00:00<01:59,  7.15batches/s]"
     ]
    },
    {
     "name": "stdout",
     "output_type": "stream",
     "text": [
      "Validation accuracy at (0.99375159398112722, 0.00028617542128458507)\n"
     ]
    },
    {
     "name": "stderr",
     "output_type": "stream",
     "text": [
      "Epoch 250/377: 100%|██████████| 856/856 [02:05<00:00,  6.82batches/s]\n",
      "Epoch 251/377:   0%|          | 1/856 [00:00<02:04,  6.87batches/s]"
     ]
    },
    {
     "name": "stdout",
     "output_type": "stream",
     "text": [
      "Validation accuracy at (0.99438918643203267, 0.00030914626524189772)\n"
     ]
    },
    {
     "name": "stderr",
     "output_type": "stream",
     "text": [
      "Epoch 251/377: 100%|██████████| 856/856 [02:07<00:00,  6.71batches/s]\n",
      "Epoch 252/377:   0%|          | 1/856 [00:00<01:59,  7.16batches/s]"
     ]
    },
    {
     "name": "stdout",
     "output_type": "stream",
     "text": [
      "Validation accuracy at (0.99936240754909467, 4.7562383362458358e-05)\n"
     ]
    },
    {
     "name": "stderr",
     "output_type": "stream",
     "text": [
      "Epoch 252/377: 100%|██████████| 856/856 [02:07<00:00,  6.71batches/s]\n",
      "Epoch 253/377:   0%|          | 1/856 [00:00<01:59,  7.15batches/s]"
     ]
    },
    {
     "name": "stdout",
     "output_type": "stream",
     "text": [
      "Validation accuracy at (0.995026778882938, 0.00022821646894307092)\n"
     ]
    },
    {
     "name": "stderr",
     "output_type": "stream",
     "text": [
      "Epoch 253/377: 100%|██████████| 856/856 [02:05<00:00,  6.82batches/s]\n",
      "Epoch 254/377:   0%|          | 1/856 [00:00<02:04,  6.88batches/s]"
     ]
    },
    {
     "name": "stdout",
     "output_type": "stream",
     "text": [
      "Validation accuracy at (0.99859729660800811, 5.1002587947125445e-05)\n"
     ]
    },
    {
     "name": "stderr",
     "output_type": "stream",
     "text": [
      "Epoch 254/377: 100%|██████████| 856/856 [02:07<00:00,  6.71batches/s]\n",
      "Epoch 255/377:   0%|          | 1/856 [00:00<02:04,  6.87batches/s]"
     ]
    },
    {
     "name": "stdout",
     "output_type": "stream",
     "text": [
      "Validation accuracy at (0.99923488905891356, 4.1576935577840843e-05)\n"
     ]
    },
    {
     "name": "stderr",
     "output_type": "stream",
     "text": [
      "Epoch 255/377: 100%|██████████| 856/856 [02:07<00:00,  6.71batches/s]\n",
      "Epoch 256/377:   0%|          | 1/856 [00:00<01:58,  7.21batches/s]"
     ]
    },
    {
     "name": "stdout",
     "output_type": "stream",
     "text": [
      "Validation accuracy at (0.99923488905891356, 1.7093152153697533e-05)\n"
     ]
    },
    {
     "name": "stderr",
     "output_type": "stream",
     "text": [
      "Epoch 256/377: 100%|██████████| 856/856 [02:05<00:00,  6.82batches/s]\n",
      "Epoch 257/377:   0%|          | 0/856 [00:00<?, ?batches/s]"
     ]
    },
    {
     "name": "stdout",
     "output_type": "stream",
     "text": [
      "Validation accuracy at (0.96582504476828401, 0.0030080123854804861)\n"
     ]
    },
    {
     "name": "stderr",
     "output_type": "stream",
     "text": [
      "Epoch 257/377: 100%|██████████| 856/856 [02:07<00:00,  6.71batches/s]\n",
      "Epoch 258/377:   0%|          | 1/856 [00:00<01:58,  7.21batches/s]"
     ]
    },
    {
     "name": "stdout",
     "output_type": "stream",
     "text": [
      "Validation accuracy at (0.99846977811782711, 8.4543152902538836e-05)\n"
     ]
    },
    {
     "name": "stderr",
     "output_type": "stream",
     "text": [
      "Epoch 258/377: 100%|██████████| 856/856 [02:09<00:00,  6.62batches/s]\n",
      "Epoch 259/377:   0%|          | 1/856 [00:00<01:58,  7.19batches/s]"
     ]
    },
    {
     "name": "stdout",
     "output_type": "stream",
     "text": [
      "Validation accuracy at (0.99936240754909467, 2.8638741543571047e-05)\n"
     ]
    },
    {
     "name": "stderr",
     "output_type": "stream",
     "text": [
      "Epoch 259/377: 100%|██████████| 856/856 [02:08<00:00,  6.68batches/s]\n",
      "Epoch 260/377:   0%|          | 1/856 [00:00<02:02,  6.98batches/s]"
     ]
    },
    {
     "name": "stdout",
     "output_type": "stream",
     "text": [
      "Validation accuracy at (0.99897985207855144, 2.9027587284389659e-05)\n"
     ]
    },
    {
     "name": "stderr",
     "output_type": "stream",
     "text": [
      "Epoch 260/377: 100%|██████████| 856/856 [02:07<00:00,  6.70batches/s]\n",
      "Epoch 261/377:   0%|          | 1/856 [00:00<02:03,  6.93batches/s]"
     ]
    },
    {
     "name": "stdout",
     "output_type": "stream",
     "text": [
      "Validation accuracy at (0.99923488905891356, 2.6602913620523718e-05)\n"
     ]
    },
    {
     "name": "stderr",
     "output_type": "stream",
     "text": [
      "Epoch 261/377: 100%|██████████| 856/856 [02:08<00:00,  6.65batches/s]\n",
      "Epoch 262/377:   0%|          | 1/856 [00:00<01:58,  7.23batches/s]"
     ]
    },
    {
     "name": "stdout",
     "output_type": "stream",
     "text": [
      "Validation accuracy at (0.99923488905891356, 2.3099334813654825e-05)\n"
     ]
    },
    {
     "name": "stderr",
     "output_type": "stream",
     "text": [
      "Epoch 262/377: 100%|██████████| 856/856 [02:06<00:00,  6.75batches/s]\n",
      "Epoch 263/377:   0%|          | 1/856 [00:00<01:58,  7.23batches/s]"
     ]
    },
    {
     "name": "stdout",
     "output_type": "stream",
     "text": [
      "Validation accuracy at (0.99948992603927567, 1.2181395556625134e-05)\n"
     ]
    },
    {
     "name": "stderr",
     "output_type": "stream",
     "text": [
      "Epoch 263/377: 100%|██████████| 856/856 [02:04<00:00,  6.88batches/s]\n",
      "Epoch 264/377:   0%|          | 1/856 [00:00<01:58,  7.21batches/s]"
     ]
    },
    {
     "name": "stdout",
     "output_type": "stream",
     "text": [
      "Validation accuracy at (0.99910737056873244, 2.7596561165329694e-05)\n"
     ]
    },
    {
     "name": "stderr",
     "output_type": "stream",
     "text": [
      "Epoch 264/377: 100%|██████████| 856/856 [02:06<00:00,  6.76batches/s]\n",
      "Epoch 265/377:   0%|          | 1/856 [00:00<02:01,  7.04batches/s]"
     ]
    },
    {
     "name": "stdout",
     "output_type": "stream",
     "text": [
      "Validation accuracy at (0.99821474113746489, 0.00010203688074800854)\n"
     ]
    },
    {
     "name": "stderr",
     "output_type": "stream",
     "text": [
      "Epoch 265/377: 100%|██████████| 856/856 [02:06<00:00,  6.76batches/s]\n",
      "Epoch 266/377:   0%|          | 1/856 [00:00<01:58,  7.22batches/s]"
     ]
    },
    {
     "name": "stdout",
     "output_type": "stream",
     "text": [
      "Validation accuracy at (0.99910737056873244, 4.2115182324212625e-05)\n"
     ]
    },
    {
     "name": "stderr",
     "output_type": "stream",
     "text": [
      "Epoch 266/377: 100%|██████████| 856/856 [02:04<00:00,  6.88batches/s]\n",
      "Epoch 267/377:   0%|          | 1/856 [00:00<01:59,  7.16batches/s]"
     ]
    },
    {
     "name": "stdout",
     "output_type": "stream",
     "text": [
      "Validation accuracy at (0.99897985207855144, 4.3753817523869076e-05)\n"
     ]
    },
    {
     "name": "stderr",
     "output_type": "stream",
     "text": [
      "Epoch 267/377: 100%|██████████| 856/856 [02:06<00:00,  6.76batches/s]\n",
      "Epoch 268/377:   0%|          | 1/856 [00:00<02:00,  7.12batches/s]"
     ]
    },
    {
     "name": "stdout",
     "output_type": "stream",
     "text": [
      "Validation accuracy at (0.98622800306044378, 0.00082380258380467387)\n"
     ]
    },
    {
     "name": "stderr",
     "output_type": "stream",
     "text": [
      "Epoch 268/377: 100%|██████████| 856/856 [02:06<00:00,  6.76batches/s]\n",
      "Epoch 269/377:   0%|          | 1/856 [00:00<01:59,  7.14batches/s]"
     ]
    },
    {
     "name": "stdout",
     "output_type": "stream",
     "text": [
      "Validation accuracy at (0.99910737056873244, 3.8438637270644417e-05)\n"
     ]
    },
    {
     "name": "stderr",
     "output_type": "stream",
     "text": [
      "Epoch 269/377: 100%|██████████| 856/856 [02:04<00:00,  6.88batches/s]\n",
      "Epoch 270/377:   0%|          | 1/856 [00:00<01:59,  7.16batches/s]"
     ]
    },
    {
     "name": "stdout",
     "output_type": "stream",
     "text": [
      "Validation accuracy at (0.98138230057037534, 0.0014117754387004283)\n"
     ]
    },
    {
     "name": "stderr",
     "output_type": "stream",
     "text": [
      "Epoch 270/377: 100%|██████████| 856/856 [02:06<00:00,  6.76batches/s]\n",
      "Epoch 271/377:   0%|          | 1/856 [00:00<01:59,  7.15batches/s]"
     ]
    },
    {
     "name": "stdout",
     "output_type": "stream",
     "text": [
      "Validation accuracy at (0.93942871730080124, 0.0074811539242414151)\n"
     ]
    },
    {
     "name": "stderr",
     "output_type": "stream",
     "text": [
      "Epoch 271/377: 100%|██████████| 856/856 [02:06<00:00,  6.77batches/s]\n",
      "Epoch 272/377:   0%|          | 1/856 [00:00<01:57,  7.25batches/s]"
     ]
    },
    {
     "name": "stdout",
     "output_type": "stream",
     "text": [
      "Validation accuracy at (0.99744963019637845, 6.2193819366027439e-05)\n"
     ]
    },
    {
     "name": "stderr",
     "output_type": "stream",
     "text": [
      "Epoch 272/377: 100%|██████████| 856/856 [02:04<00:00,  6.88batches/s]\n",
      "Epoch 273/377:   0%|          | 0/856 [00:00<?, ?batches/s]"
     ]
    },
    {
     "name": "stdout",
     "output_type": "stream",
     "text": [
      "Validation accuracy at (0.99897985207855144, 3.0716917713449303e-05)\n"
     ]
    },
    {
     "name": "stderr",
     "output_type": "stream",
     "text": [
      "Epoch 273/377: 100%|██████████| 856/856 [02:06<00:00,  6.76batches/s]\n",
      "Epoch 274/377:   0%|          | 1/856 [00:00<02:00,  7.10batches/s]"
     ]
    },
    {
     "name": "stdout",
     "output_type": "stream",
     "text": [
      "Validation accuracy at (0.99885233358837033, 4.656877439406056e-05)\n"
     ]
    },
    {
     "name": "stderr",
     "output_type": "stream",
     "text": [
      "Epoch 274/377: 100%|██████████| 856/856 [02:06<00:00,  6.76batches/s]\n",
      "Epoch 275/377:   0%|          | 1/856 [00:00<01:58,  7.21batches/s]"
     ]
    },
    {
     "name": "stdout",
     "output_type": "stream",
     "text": [
      "Validation accuracy at (0.98520785527580768, 0.0012859416068091323)\n"
     ]
    },
    {
     "name": "stderr",
     "output_type": "stream",
     "text": [
      "Epoch 275/377: 100%|██████████| 856/856 [02:06<00:00,  6.76batches/s]\n",
      "Epoch 276/377:   0%|          | 1/856 [00:00<01:58,  7.19batches/s]"
     ]
    },
    {
     "name": "stdout",
     "output_type": "stream",
     "text": [
      "Validation accuracy at (0.99923488905891356, 1.6988759870246261e-05)\n"
     ]
    },
    {
     "name": "stderr",
     "output_type": "stream",
     "text": [
      "Epoch 276/377: 100%|██████████| 856/856 [02:04<00:00,  6.88batches/s]\n",
      "Epoch 277/377:   0%|          | 1/856 [00:00<01:59,  7.17batches/s]"
     ]
    },
    {
     "name": "stdout",
     "output_type": "stream",
     "text": [
      "Validation accuracy at (0.99681203774547311, 0.00022453812428179786)\n"
     ]
    },
    {
     "name": "stderr",
     "output_type": "stream",
     "text": [
      "Epoch 277/377: 100%|██████████| 856/856 [02:06<00:00,  6.76batches/s]\n",
      "Epoch 278/377:   0%|          | 1/856 [00:00<01:59,  7.16batches/s]"
     ]
    },
    {
     "name": "stdout",
     "output_type": "stream",
     "text": [
      "Validation accuracy at (0.94835501161347657, 0.0090027938824212544)\n"
     ]
    },
    {
     "name": "stderr",
     "output_type": "stream",
     "text": [
      "Epoch 278/377: 100%|██████████| 856/856 [02:06<00:00,  6.76batches/s]\n",
      "Epoch 279/377:   0%|          | 1/856 [00:00<01:59,  7.18batches/s]"
     ]
    },
    {
     "name": "stdout",
     "output_type": "stream",
     "text": [
      "Validation accuracy at (0.99936240754909467, 2.132223597241278e-05)\n"
     ]
    },
    {
     "name": "stderr",
     "output_type": "stream",
     "text": [
      "Epoch 279/377: 100%|██████████| 856/856 [02:04<00:00,  6.87batches/s]\n",
      "Epoch 280/377:   0%|          | 1/856 [00:00<01:58,  7.21batches/s]"
     ]
    },
    {
     "name": "stdout",
     "output_type": "stream",
     "text": [
      "Validation accuracy at (0.97500637592450901, 0.0021360793690884316)\n"
     ]
    },
    {
     "name": "stderr",
     "output_type": "stream",
     "text": [
      "Epoch 280/377: 100%|██████████| 856/856 [02:06<00:00,  6.76batches/s]\n",
      "Epoch 281/377:   0%|          | 1/856 [00:00<01:59,  7.15batches/s]"
     ]
    },
    {
     "name": "stdout",
     "output_type": "stream",
     "text": [
      "Validation accuracy at (0.99477174190257589, 0.00027730983924573177)\n"
     ]
    },
    {
     "name": "stderr",
     "output_type": "stream",
     "text": [
      "Epoch 281/377: 100%|██████████| 856/856 [02:06<00:00,  6.76batches/s]\n",
      "Epoch 282/377:   0%|          | 1/856 [00:00<02:00,  7.09batches/s]"
     ]
    },
    {
     "name": "stdout",
     "output_type": "stream",
     "text": [
      "Validation accuracy at (0.989926039275695, 0.00064154994714638101)\n"
     ]
    },
    {
     "name": "stderr",
     "output_type": "stream",
     "text": [
      "Epoch 282/377: 100%|██████████| 856/856 [02:04<00:00,  6.88batches/s]\n",
      "Epoch 283/377:   0%|          | 1/856 [00:00<01:59,  7.16batches/s]"
     ]
    },
    {
     "name": "stdout",
     "output_type": "stream",
     "text": [
      "Validation accuracy at (0.97258352474788112, 0.0034584040784308352)\n"
     ]
    },
    {
     "name": "stderr",
     "output_type": "stream",
     "text": [
      "Epoch 283/377: 100%|██████████| 856/856 [02:06<00:00,  6.76batches/s]\n",
      "Epoch 284/377:   0%|          | 1/856 [00:00<02:01,  7.05batches/s]"
     ]
    },
    {
     "name": "stdout",
     "output_type": "stream",
     "text": [
      "Validation accuracy at (0.98814078041315989, 0.00072430294745404102)\n"
     ]
    },
    {
     "name": "stderr",
     "output_type": "stream",
     "text": [
      "Epoch 284/377: 100%|██████████| 856/856 [02:06<00:00,  6.76batches/s]\n",
      "Epoch 285/377:   0%|          | 1/856 [00:00<01:58,  7.21batches/s]"
     ]
    },
    {
     "name": "stdout",
     "output_type": "stream",
     "text": [
      "Validation accuracy at (0.99757714868655956, 0.00012121314937544458)\n"
     ]
    },
    {
     "name": "stderr",
     "output_type": "stream",
     "text": [
      "Epoch 285/377: 100%|██████████| 856/856 [02:04<00:00,  6.88batches/s]\n",
      "Epoch 286/377:   0%|          | 1/856 [00:00<01:58,  7.21batches/s]"
     ]
    },
    {
     "name": "stdout",
     "output_type": "stream",
     "text": [
      "Validation accuracy at (0.98074470798265745, 0.0014187011095380508)\n"
     ]
    },
    {
     "name": "stderr",
     "output_type": "stream",
     "text": [
      "Epoch 286/377: 100%|██████████| 856/856 [02:06<00:00,  6.76batches/s]\n",
      "Epoch 287/377:   0%|          | 1/856 [00:00<01:58,  7.20batches/s]"
     ]
    },
    {
     "name": "stdout",
     "output_type": "stream",
     "text": [
      "Validation accuracy at (0.99859729660800811, 4.7556553707975646e-05)\n"
     ]
    },
    {
     "name": "stderr",
     "output_type": "stream",
     "text": [
      "Epoch 287/377: 100%|██████████| 856/856 [02:06<00:00,  6.76batches/s]\n",
      "Epoch 288/377:   0%|          | 1/856 [00:00<02:00,  7.09batches/s]"
     ]
    },
    {
     "name": "stdout",
     "output_type": "stream",
     "text": [
      "Validation accuracy at (0.983295077786279, 0.0011214267966277098)\n"
     ]
    },
    {
     "name": "stderr",
     "output_type": "stream",
     "text": [
      "Epoch 288/377: 100%|██████████| 856/856 [02:04<00:00,  6.88batches/s]\n",
      "Epoch 289/377:   0%|          | 0/856 [00:00<?, ?batches/s]"
     ]
    },
    {
     "name": "stdout",
     "output_type": "stream",
     "text": [
      "Validation accuracy at (0.99897985207855144, 6.3000347696007023e-05)\n"
     ]
    },
    {
     "name": "stderr",
     "output_type": "stream",
     "text": [
      "Epoch 289/377: 100%|██████████| 856/856 [02:06<00:00,  6.77batches/s]\n",
      "Epoch 290/377:   0%|          | 1/856 [00:00<01:59,  7.15batches/s]"
     ]
    },
    {
     "name": "stdout",
     "output_type": "stream",
     "text": [
      "Validation accuracy at (0.998342259627646, 8.7595276384489531e-05)\n"
     ]
    },
    {
     "name": "stderr",
     "output_type": "stream",
     "text": [
      "Epoch 290/377: 100%|██████████| 856/856 [02:09<00:00,  6.61batches/s]\n",
      "Epoch 291/377:   0%|          | 1/856 [00:00<01:58,  7.21batches/s]"
     ]
    },
    {
     "name": "stdout",
     "output_type": "stream",
     "text": [
      "Validation accuracy at (0.97245600612088756, 0.0026120231795425815)\n"
     ]
    },
    {
     "name": "stderr",
     "output_type": "stream",
     "text": [
      "Epoch 291/377: 100%|██████████| 856/856 [02:08<00:00,  6.64batches/s]\n",
      "Epoch 292/377:   0%|          | 1/856 [00:00<01:58,  7.21batches/s]"
     ]
    },
    {
     "name": "stdout",
     "output_type": "stream",
     "text": [
      "Validation accuracy at (0.98074470798265745, 0.0036878633252299341)\n"
     ]
    },
    {
     "name": "stderr",
     "output_type": "stream",
     "text": [
      "Epoch 292/377: 100%|██████████| 856/856 [02:04<00:00,  6.89batches/s]\n",
      "Epoch 293/377:   0%|          | 1/856 [00:00<01:58,  7.20batches/s]"
     ]
    },
    {
     "name": "stdout",
     "output_type": "stream",
     "text": [
      "Validation accuracy at (0.99936240754909467, 3.6748780080176759e-05)\n"
     ]
    },
    {
     "name": "stderr",
     "output_type": "stream",
     "text": [
      "Epoch 293/377: 100%|██████████| 856/856 [02:07<00:00,  6.71batches/s]\n",
      "Epoch 294/377:   0%|          | 1/856 [00:00<01:56,  7.31batches/s]"
     ]
    },
    {
     "name": "stdout",
     "output_type": "stream",
     "text": [
      "Validation accuracy at (0.94350930898659569, 0.0058988913232439245)\n"
     ]
    },
    {
     "name": "stderr",
     "output_type": "stream",
     "text": [
      "Epoch 294/377: 100%|██████████| 856/856 [02:07<00:00,  6.70batches/s]\n",
      "Epoch 295/377:   0%|          | 1/856 [00:00<01:56,  7.34batches/s]"
     ]
    },
    {
     "name": "stdout",
     "output_type": "stream",
     "text": [
      "Validation accuracy at (0.99859729660800811, 5.1934313260618815e-05)\n"
     ]
    },
    {
     "name": "stderr",
     "output_type": "stream",
     "text": [
      "Epoch 295/377: 100%|██████████| 856/856 [02:05<00:00,  6.81batches/s]\n",
      "Epoch 296/377:   0%|          | 1/856 [00:00<01:57,  7.28batches/s]"
     ]
    },
    {
     "name": "stdout",
     "output_type": "stream",
     "text": [
      "Validation accuracy at (0.99872481509818922, 3.5041974758710982e-05)\n"
     ]
    },
    {
     "name": "stderr",
     "output_type": "stream",
     "text": [
      "Epoch 296/377: 100%|██████████| 856/856 [02:07<00:00,  6.70batches/s]\n",
      "Epoch 297/377:   0%|          | 1/856 [00:00<01:57,  7.29batches/s]"
     ]
    },
    {
     "name": "stdout",
     "output_type": "stream",
     "text": [
      "Validation accuracy at (0.99859729660800811, 7.7871916299398675e-05)\n"
     ]
    },
    {
     "name": "stderr",
     "output_type": "stream",
     "text": [
      "Epoch 297/377: 100%|██████████| 856/856 [02:07<00:00,  6.70batches/s]\n",
      "Epoch 298/377:   0%|          | 1/856 [00:00<01:57,  7.27batches/s]"
     ]
    },
    {
     "name": "stdout",
     "output_type": "stream",
     "text": [
      "Validation accuracy at (0.99897985207855144, 5.7497027746951352e-05)\n"
     ]
    },
    {
     "name": "stderr",
     "output_type": "stream",
     "text": [
      "Epoch 298/377: 100%|██████████| 856/856 [02:05<00:00,  6.81batches/s]\n",
      "Epoch 299/377:   0%|          | 1/856 [00:00<01:56,  7.33batches/s]"
     ]
    },
    {
     "name": "stdout",
     "output_type": "stream",
     "text": [
      "Validation accuracy at (0.99910737056873244, 4.9606671527549055e-05)\n"
     ]
    },
    {
     "name": "stderr",
     "output_type": "stream",
     "text": [
      "Epoch 299/377: 100%|██████████| 856/856 [02:07<00:00,  6.70batches/s]\n",
      "Epoch 300/377:   0%|          | 1/856 [00:00<02:01,  7.02batches/s]"
     ]
    },
    {
     "name": "stdout",
     "output_type": "stream",
     "text": [
      "Validation accuracy at (0.99872481509818922, 4.8832031864233301e-05)\n"
     ]
    },
    {
     "name": "stderr",
     "output_type": "stream",
     "text": [
      "Epoch 300/377: 100%|██████████| 856/856 [02:07<00:00,  6.70batches/s]\n",
      "Epoch 301/377:   0%|          | 1/856 [00:00<01:56,  7.35batches/s]"
     ]
    },
    {
     "name": "stdout",
     "output_type": "stream",
     "text": [
      "Validation accuracy at (0.99948992603927567, 2.4010373937525742e-05)\n"
     ]
    },
    {
     "name": "stderr",
     "output_type": "stream",
     "text": [
      "Epoch 301/377: 100%|██████████| 856/856 [02:05<00:00,  6.82batches/s]\n",
      "Epoch 302/377:   0%|          | 1/856 [00:00<01:56,  7.36batches/s]"
     ]
    },
    {
     "name": "stdout",
     "output_type": "stream",
     "text": [
      "Validation accuracy at (0.99859729660800811, 6.1266394384908485e-05)\n"
     ]
    },
    {
     "name": "stderr",
     "output_type": "stream",
     "text": [
      "Epoch 302/377: 100%|██████████| 856/856 [02:07<00:00,  6.70batches/s]\n",
      "Epoch 303/377:   0%|          | 1/856 [00:00<01:56,  7.33batches/s]"
     ]
    },
    {
     "name": "stdout",
     "output_type": "stream",
     "text": [
      "Validation accuracy at (0.99222137209895434, 0.00039539838332420011)\n"
     ]
    },
    {
     "name": "stderr",
     "output_type": "stream",
     "text": [
      "Epoch 303/377: 100%|██████████| 856/856 [02:07<00:00,  6.70batches/s]\n",
      "Epoch 304/377:   0%|          | 1/856 [00:00<01:58,  7.24batches/s]"
     ]
    },
    {
     "name": "stdout",
     "output_type": "stream",
     "text": [
      "Validation accuracy at (0.9714358581994389, 0.0038166795596913921)\n"
     ]
    },
    {
     "name": "stderr",
     "output_type": "stream",
     "text": [
      "Epoch 304/377: 100%|██████████| 856/856 [02:05<00:00,  6.81batches/s]\n",
      "Epoch 305/377:   0%|          | 0/856 [00:00<?, ?batches/s]"
     ]
    },
    {
     "name": "stdout",
     "output_type": "stream",
     "text": [
      "Validation accuracy at (0.99885233358837033, 4.1000934189514124e-05)\n"
     ]
    },
    {
     "name": "stderr",
     "output_type": "stream",
     "text": [
      "Epoch 305/377: 100%|██████████| 856/856 [02:08<00:00,  6.67batches/s]\n"
     ]
    },
    {
     "name": "stdout",
     "output_type": "stream",
     "text": [
      "Validation accuracy at (0.99974496301963789, 8.579565004048239e-06)\n"
     ]
    },
    {
     "name": "stderr",
     "output_type": "stream",
     "text": [
      "Epoch 306/377: 100%|██████████| 856/856 [02:07<00:00,  6.70batches/s]\n",
      "Epoch 307/377:   0%|          | 1/856 [00:00<01:58,  7.23batches/s]"
     ]
    },
    {
     "name": "stdout",
     "output_type": "stream",
     "text": [
      "Validation accuracy at (0.99617444529456767, 0.00015658664842142772)\n"
     ]
    },
    {
     "name": "stderr",
     "output_type": "stream",
     "text": [
      "Epoch 307/377: 100%|██████████| 856/856 [02:08<00:00,  6.65batches/s]\n",
      "Epoch 308/377:   0%|          | 1/856 [00:00<01:58,  7.21batches/s]"
     ]
    },
    {
     "name": "stdout",
     "output_type": "stream",
     "text": [
      "Validation accuracy at (0.99081866870696256, 0.00065553141548678646)\n"
     ]
    },
    {
     "name": "stderr",
     "output_type": "stream",
     "text": [
      "Epoch 308/377: 100%|██████████| 856/856 [02:07<00:00,  6.71batches/s]\n",
      "Epoch 309/377:   0%|          | 1/856 [00:00<01:59,  7.18batches/s]"
     ]
    },
    {
     "name": "stdout",
     "output_type": "stream",
     "text": [
      "Validation accuracy at (0.99719459321601633, 0.00012078679092967225)\n"
     ]
    },
    {
     "name": "stderr",
     "output_type": "stream",
     "text": [
      "Epoch 309/377: 100%|██████████| 856/856 [02:08<00:00,  6.68batches/s]\n",
      "Epoch 310/377:   0%|          | 1/856 [00:00<01:57,  7.25batches/s]"
     ]
    },
    {
     "name": "stdout",
     "output_type": "stream",
     "text": [
      "Validation accuracy at (0.99936240754909467, 4.003958751614717e-05)\n"
     ]
    },
    {
     "name": "stderr",
     "output_type": "stream",
     "text": [
      "Epoch 310/377: 100%|██████████| 856/856 [02:07<00:00,  6.71batches/s]\n",
      "Epoch 311/377:   0%|          | 1/856 [00:00<01:58,  7.20batches/s]"
     ]
    },
    {
     "name": "stdout",
     "output_type": "stream",
     "text": [
      "Validation accuracy at (0.99948992603927567, 1.476732320996544e-05)\n"
     ]
    },
    {
     "name": "stderr",
     "output_type": "stream",
     "text": [
      "Epoch 311/377: 100%|██████████| 856/856 [02:05<00:00,  6.84batches/s]\n",
      "Epoch 312/377:   0%|          | 1/856 [00:00<01:59,  7.17batches/s]"
     ]
    },
    {
     "name": "stdout",
     "output_type": "stream",
     "text": [
      "Validation accuracy at (0.99936240754909467, 1.4372598046969854e-05)\n"
     ]
    },
    {
     "name": "stderr",
     "output_type": "stream",
     "text": [
      "Epoch 312/377: 100%|██████████| 856/856 [02:07<00:00,  6.70batches/s]\n",
      "Epoch 313/377:   0%|          | 1/856 [00:00<01:58,  7.22batches/s]"
     ]
    },
    {
     "name": "stdout",
     "output_type": "stream",
     "text": [
      "Validation accuracy at (0.99681203774547311, 0.00012953414567052859)\n"
     ]
    },
    {
     "name": "stderr",
     "output_type": "stream",
     "text": [
      "Epoch 313/377: 100%|██████████| 856/856 [02:06<00:00,  6.78batches/s]\n",
      "Epoch 314/377:   0%|          | 1/856 [00:00<01:58,  7.22batches/s]"
     ]
    },
    {
     "name": "stdout",
     "output_type": "stream",
     "text": [
      "Validation accuracy at (0.99936240754909467, 2.5355673800191285e-05)\n"
     ]
    },
    {
     "name": "stderr",
     "output_type": "stream",
     "text": [
      "Epoch 314/377: 100%|██████████| 856/856 [02:04<00:00,  6.90batches/s]\n",
      "Epoch 315/377:   0%|          | 1/856 [00:00<01:59,  7.15batches/s]"
     ]
    },
    {
     "name": "stdout",
     "output_type": "stream",
     "text": [
      "Validation accuracy at (0.99897985207855144, 4.1155987471441281e-05)\n"
     ]
    },
    {
     "name": "stderr",
     "output_type": "stream",
     "text": [
      "Epoch 315/377: 100%|██████████| 856/856 [02:09<00:00,  6.59batches/s]\n",
      "Epoch 316/377:   0%|          | 1/856 [00:00<02:05,  6.84batches/s]"
     ]
    },
    {
     "name": "stdout",
     "output_type": "stream",
     "text": [
      "Validation accuracy at (0.99770466717674067, 0.00010851820447868939)\n"
     ]
    },
    {
     "name": "stderr",
     "output_type": "stream",
     "text": [
      "Epoch 316/377: 100%|██████████| 856/856 [02:07<00:00,  6.71batches/s]\n",
      "Epoch 317/377:   0%|          | 1/856 [00:00<01:57,  7.30batches/s]"
     ]
    },
    {
     "name": "stdout",
     "output_type": "stream",
     "text": [
      "Validation accuracy at (0.99132874266768678, 0.00045646548513474051)\n"
     ]
    },
    {
     "name": "stderr",
     "output_type": "stream",
     "text": [
      "Epoch 317/377: 100%|██████████| 856/856 [02:07<00:00,  6.69batches/s]\n",
      "Epoch 318/377:   0%|          | 1/856 [00:00<02:06,  6.74batches/s]"
     ]
    },
    {
     "name": "stdout",
     "output_type": "stream",
     "text": [
      "Validation accuracy at (0.99948992603927567, 2.6125325738207862e-05)\n"
     ]
    },
    {
     "name": "stderr",
     "output_type": "stream",
     "text": [
      "Epoch 318/377: 100%|██████████| 856/856 [02:09<00:00,  6.61batches/s]\n",
      "Epoch 319/377:   0%|          | 1/856 [00:00<02:01,  7.06batches/s]"
     ]
    },
    {
     "name": "stdout",
     "output_type": "stream",
     "text": [
      "Validation accuracy at (0.99579188982402445, 0.00035683572814767037)\n"
     ]
    },
    {
     "name": "stderr",
     "output_type": "stream",
     "text": [
      "Epoch 319/377: 100%|██████████| 856/856 [02:08<00:00,  6.65batches/s]\n",
      "Epoch 320/377:   0%|          | 1/856 [00:00<01:58,  7.21batches/s]"
     ]
    },
    {
     "name": "stdout",
     "output_type": "stream",
     "text": [
      "Validation accuracy at (0.99579188982402445, 0.00026124912400475342)\n"
     ]
    },
    {
     "name": "stderr",
     "output_type": "stream",
     "text": [
      "Epoch 320/377: 100%|██████████| 856/856 [02:06<00:00,  6.77batches/s]\n",
      "Epoch 321/377:   0%|          | 0/856 [00:00<?, ?batches/s]"
     ]
    },
    {
     "name": "stdout",
     "output_type": "stream",
     "text": [
      "Validation accuracy at (0.99936240754909467, 2.4177433473847924e-05)\n"
     ]
    },
    {
     "name": "stderr",
     "output_type": "stream",
     "text": [
      "Epoch 321/377: 100%|██████████| 856/856 [02:08<00:00,  6.65batches/s]\n",
      "Epoch 322/377:   0%|          | 1/856 [00:00<02:01,  7.03batches/s]"
     ]
    },
    {
     "name": "stdout",
     "output_type": "stream",
     "text": [
      "Validation accuracy at (0.99897985207855144, 5.0529769417637015e-05)\n"
     ]
    },
    {
     "name": "stderr",
     "output_type": "stream",
     "text": [
      "Epoch 322/377: 100%|██████████| 856/856 [02:10<00:00,  6.57batches/s]\n",
      "Epoch 323/377:   0%|          | 1/856 [00:00<02:01,  7.05batches/s]"
     ]
    },
    {
     "name": "stdout",
     "output_type": "stream",
     "text": [
      "Validation accuracy at (0.99948992603927567, 1.713492401034379e-05)\n"
     ]
    },
    {
     "name": "stderr",
     "output_type": "stream",
     "text": [
      "Epoch 323/377: 100%|██████████| 856/856 [02:11<00:00,  6.49batches/s]\n",
      "Epoch 324/377:   0%|          | 1/856 [00:00<02:01,  7.02batches/s]"
     ]
    },
    {
     "name": "stdout",
     "output_type": "stream",
     "text": [
      "Validation accuracy at (0.99872481509818922, 4.509873447359864e-05)\n"
     ]
    },
    {
     "name": "stderr",
     "output_type": "stream",
     "text": [
      "Epoch 324/377: 100%|██████████| 856/856 [02:09<00:00,  6.62batches/s]\n",
      "Epoch 325/377:   0%|          | 1/856 [00:00<02:03,  6.93batches/s]"
     ]
    },
    {
     "name": "stdout",
     "output_type": "stream",
     "text": [
      "Validation accuracy at (0.9588115278083249, 0.010018699182526656)\n"
     ]
    },
    {
     "name": "stderr",
     "output_type": "stream",
     "text": [
      "Epoch 325/377: 100%|██████████| 856/856 [02:07<00:00,  6.73batches/s]\n",
      "Epoch 326/377:   0%|          | 1/856 [00:00<01:58,  7.19batches/s]"
     ]
    },
    {
     "name": "stdout",
     "output_type": "stream",
     "text": [
      "Validation accuracy at (0.99923488905891356, 3.2117593801634936e-05)\n"
     ]
    },
    {
     "name": "stderr",
     "output_type": "stream",
     "text": [
      "Epoch 326/377: 100%|██████████| 856/856 [02:08<00:00,  6.64batches/s]\n",
      "Epoch 327/377:   0%|          | 1/856 [00:00<01:58,  7.20batches/s]"
     ]
    },
    {
     "name": "stdout",
     "output_type": "stream",
     "text": [
      "Validation accuracy at (0.99566437133384345, 0.00021490064359442625)\n"
     ]
    },
    {
     "name": "stderr",
     "output_type": "stream",
     "text": [
      "Epoch 327/377: 100%|██████████| 856/856 [02:08<00:00,  6.67batches/s]\n",
      "Epoch 328/377:   0%|          | 1/856 [00:00<02:03,  6.93batches/s]"
     ]
    },
    {
     "name": "stdout",
     "output_type": "stream",
     "text": [
      "Validation accuracy at (0.9129048712215263, 0.0108317404384973)\n"
     ]
    },
    {
     "name": "stderr",
     "output_type": "stream",
     "text": [
      "Epoch 328/377: 100%|██████████| 856/856 [02:12<00:00,  6.48batches/s]\n",
      "Epoch 329/377:   0%|          | 1/856 [00:00<02:09,  6.59batches/s]"
     ]
    },
    {
     "name": "stdout",
     "output_type": "stream",
     "text": [
      "Validation accuracy at (0.9655700077879219, 0.004615996419401064)\n"
     ]
    },
    {
     "name": "stderr",
     "output_type": "stream",
     "text": [
      "Epoch 329/377: 100%|██████████| 856/856 [02:11<00:00,  6.51batches/s]\n",
      "Epoch 330/377:   0%|          | 1/856 [00:00<02:00,  7.09batches/s]"
     ]
    },
    {
     "name": "stdout",
     "output_type": "stream",
     "text": [
      "Validation accuracy at (0.99885233358837033, 4.6344878077325689e-05)\n"
     ]
    },
    {
     "name": "stderr",
     "output_type": "stream",
     "text": [
      "Epoch 330/377: 100%|██████████| 856/856 [02:08<00:00,  6.66batches/s]\n",
      "Epoch 331/377:   0%|          | 1/856 [00:00<02:03,  6.95batches/s]"
     ]
    },
    {
     "name": "stdout",
     "output_type": "stream",
     "text": [
      "Validation accuracy at (0.99936240754909467, 1.7978974944570418e-05)\n"
     ]
    },
    {
     "name": "stderr",
     "output_type": "stream",
     "text": [
      "Epoch 331/377: 100%|██████████| 856/856 [02:09<00:00,  6.59batches/s]\n",
      "Epoch 332/377:   0%|          | 1/856 [00:00<01:51,  7.67batches/s]"
     ]
    },
    {
     "name": "stdout",
     "output_type": "stream",
     "text": [
      "Validation accuracy at (0.99897985207855144, 8.3786546684854585e-05)\n"
     ]
    },
    {
     "name": "stderr",
     "output_type": "stream",
     "text": [
      "Epoch 332/377: 100%|██████████| 856/856 [02:25<00:00,  5.87batches/s]\n",
      "Epoch 333/377:   0%|          | 1/856 [00:00<01:57,  7.28batches/s]"
     ]
    },
    {
     "name": "stdout",
     "output_type": "stream",
     "text": [
      "Validation accuracy at (0.99885233358837033, 5.289992670635868e-05)\n"
     ]
    },
    {
     "name": "stderr",
     "output_type": "stream",
     "text": [
      "Epoch 333/377: 100%|██████████| 856/856 [02:07<00:00,  6.71batches/s]\n",
      "Epoch 334/377:   0%|          | 1/856 [00:00<02:01,  7.03batches/s]"
     ]
    },
    {
     "name": "stdout",
     "output_type": "stream",
     "text": [
      "Validation accuracy at (0.99846977811782711, 8.9209366315772115e-05)\n"
     ]
    },
    {
     "name": "stderr",
     "output_type": "stream",
     "text": [
      "Epoch 334/377: 100%|██████████| 856/856 [02:10<00:00,  6.54batches/s]\n",
      "Epoch 335/377:   0%|          | 1/856 [00:00<01:58,  7.20batches/s]"
     ]
    },
    {
     "name": "stdout",
     "output_type": "stream",
     "text": [
      "Validation accuracy at (0.99885233358837033, 7.5209989809836813e-05)\n"
     ]
    },
    {
     "name": "stderr",
     "output_type": "stream",
     "text": [
      "Epoch 335/377: 100%|██████████| 856/856 [02:10<00:00,  6.58batches/s]\n",
      "Epoch 336/377:   0%|          | 1/856 [00:00<02:00,  7.10batches/s]"
     ]
    },
    {
     "name": "stdout",
     "output_type": "stream",
     "text": [
      "Validation accuracy at (0.99183881676522356, 0.00051285993235533731)\n"
     ]
    },
    {
     "name": "stderr",
     "output_type": "stream",
     "text": [
      "Epoch 336/377: 100%|██████████| 856/856 [02:07<00:00,  6.73batches/s]\n",
      "Epoch 337/377:   0%|          | 0/856 [00:00<?, ?batches/s]"
     ]
    },
    {
     "name": "stdout",
     "output_type": "stream",
     "text": [
      "Validation accuracy at (0.99948992603927567, 1.8380512488600633e-05)\n"
     ]
    },
    {
     "name": "stderr",
     "output_type": "stream",
     "text": [
      "Epoch 337/377: 100%|██████████| 856/856 [02:08<00:00,  6.67batches/s]\n",
      "Epoch 338/377:   0%|          | 1/856 [00:00<01:58,  7.21batches/s]"
     ]
    },
    {
     "name": "stdout",
     "output_type": "stream",
     "text": [
      "Validation accuracy at (0.99808722264728389, 5.5963948424317671e-05)\n"
     ]
    },
    {
     "name": "stderr",
     "output_type": "stream",
     "text": [
      "Epoch 338/377: 100%|██████████| 856/856 [02:08<00:00,  6.68batches/s]\n",
      "Epoch 339/377:   0%|          | 1/856 [00:00<01:59,  7.14batches/s]"
     ]
    },
    {
     "name": "stdout",
     "output_type": "stream",
     "text": [
      "Validation accuracy at (0.96429482288611112, 0.0041294343230168238)\n"
     ]
    },
    {
     "name": "stderr",
     "output_type": "stream",
     "text": [
      "Epoch 339/377: 100%|██████████| 856/856 [02:08<00:00,  6.64batches/s]\n",
      "Epoch 340/377:   0%|          | 1/856 [00:00<02:03,  6.92batches/s]"
     ]
    },
    {
     "name": "stdout",
     "output_type": "stream",
     "text": [
      "Validation accuracy at (0.99923488905891356, 5.8345285225247559e-05)\n"
     ]
    },
    {
     "name": "stderr",
     "output_type": "stream",
     "text": [
      "Epoch 340/377: 100%|██████████| 856/856 [02:04<00:00,  6.86batches/s]\n",
      "Epoch 341/377:   0%|          | 1/856 [00:00<01:57,  7.26batches/s]"
     ]
    },
    {
     "name": "stdout",
     "output_type": "stream",
     "text": [
      "Validation accuracy at (0.99936240754909467, 3.7025113858022178e-05)\n"
     ]
    },
    {
     "name": "stderr",
     "output_type": "stream",
     "text": [
      "Epoch 341/377: 100%|██████████| 856/856 [02:07<00:00,  6.69batches/s]\n",
      "Epoch 342/377:   0%|          | 1/856 [00:00<01:59,  7.18batches/s]"
     ]
    },
    {
     "name": "stdout",
     "output_type": "stream",
     "text": [
      "Validation accuracy at (0.99948992603927567, 3.4420180947165331e-05)\n"
     ]
    },
    {
     "name": "stderr",
     "output_type": "stream",
     "text": [
      "Epoch 342/377: 100%|██████████| 856/856 [02:06<00:00,  6.76batches/s]\n",
      "Epoch 343/377:   0%|          | 1/856 [00:00<02:00,  7.09batches/s]"
     ]
    },
    {
     "name": "stdout",
     "output_type": "stream",
     "text": [
      "Validation accuracy at (0.96314715633766901, 0.0046793297574111584)\n"
     ]
    },
    {
     "name": "stderr",
     "output_type": "stream",
     "text": [
      "Epoch 343/377: 100%|██████████| 856/856 [02:04<00:00,  6.89batches/s]\n",
      "Epoch 344/377:   0%|          | 1/856 [00:00<01:59,  7.16batches/s]"
     ]
    },
    {
     "name": "stdout",
     "output_type": "stream",
     "text": [
      "Validation accuracy at (0.98559041060953834, 0.0010534053462814337)\n"
     ]
    },
    {
     "name": "stderr",
     "output_type": "stream",
     "text": [
      "Epoch 344/377: 100%|██████████| 856/856 [02:06<00:00,  6.76batches/s]\n",
      "Epoch 345/377:   0%|          | 1/856 [00:00<01:58,  7.22batches/s]"
     ]
    },
    {
     "name": "stdout",
     "output_type": "stream",
     "text": [
      "Validation accuracy at (0.99897985207855144, 3.9762107181593153e-05)\n"
     ]
    },
    {
     "name": "stderr",
     "output_type": "stream",
     "text": [
      "Epoch 345/377: 100%|██████████| 856/856 [02:07<00:00,  6.70batches/s]\n",
      "Epoch 346/377:   0%|          | 1/856 [00:00<01:59,  7.16batches/s]"
     ]
    },
    {
     "name": "stdout",
     "output_type": "stream",
     "text": [
      "Validation accuracy at (0.99273144605967867, 0.00056750026221934484)\n"
     ]
    },
    {
     "name": "stderr",
     "output_type": "stream",
     "text": [
      "Epoch 346/377: 100%|██████████| 856/856 [02:08<00:00,  6.69batches/s]\n",
      "Epoch 347/377:   0%|          | 1/856 [00:00<01:57,  7.28batches/s]"
     ]
    },
    {
     "name": "stdout",
     "output_type": "stream",
     "text": [
      "Validation accuracy at (0.99311400153022189, 0.0004995209081058474)\n"
     ]
    },
    {
     "name": "stderr",
     "output_type": "stream",
     "text": [
      "Epoch 347/377: 100%|██████████| 856/856 [02:08<00:00,  6.65batches/s]\n",
      "Epoch 348/377:   0%|          | 1/856 [00:00<01:58,  7.19batches/s]"
     ]
    },
    {
     "name": "stdout",
     "output_type": "stream",
     "text": [
      "Validation accuracy at (0.99706707472583522, 0.00018966198502534079)\n"
     ]
    },
    {
     "name": "stderr",
     "output_type": "stream",
     "text": [
      "Epoch 348/377: 100%|██████████| 856/856 [02:07<00:00,  6.69batches/s]\n",
      "Epoch 349/377:   0%|          | 1/856 [00:00<01:58,  7.22batches/s]"
     ]
    },
    {
     "name": "stdout",
     "output_type": "stream",
     "text": [
      "Validation accuracy at (0.97296608021842435, 0.0025154655163216262)\n"
     ]
    },
    {
     "name": "stderr",
     "output_type": "stream",
     "text": [
      "Epoch 349/377: 100%|██████████| 856/856 [02:05<00:00,  6.84batches/s]\n",
      "Epoch 350/377:   0%|          | 1/856 [00:00<02:01,  7.02batches/s]"
     ]
    },
    {
     "name": "stdout",
     "output_type": "stream",
     "text": [
      "Validation accuracy at (0.99897985207855144, 6.2320253283155354e-05)\n"
     ]
    },
    {
     "name": "stderr",
     "output_type": "stream",
     "text": [
      "Epoch 350/377: 100%|██████████| 856/856 [02:07<00:00,  6.71batches/s]\n",
      "Epoch 351/377:   0%|          | 1/856 [00:00<01:59,  7.15batches/s]"
     ]
    },
    {
     "name": "stdout",
     "output_type": "stream",
     "text": [
      "Validation accuracy at (0.99910737056873244, 2.7774191476959744e-05)\n"
     ]
    },
    {
     "name": "stderr",
     "output_type": "stream",
     "text": [
      "Epoch 351/377: 100%|██████████| 856/856 [02:08<00:00,  6.67batches/s]\n",
      "Epoch 352/377:   0%|          | 1/856 [00:00<01:58,  7.21batches/s]"
     ]
    },
    {
     "name": "stdout",
     "output_type": "stream",
     "text": [
      "Validation accuracy at (0.99948992603927567, 3.1333160597109585e-05)\n"
     ]
    },
    {
     "name": "stderr",
     "output_type": "stream",
     "text": [
      "Epoch 352/377: 100%|██████████| 856/856 [02:05<00:00,  6.81batches/s]\n",
      "Epoch 353/377:   0%|          | 0/856 [00:00<?, ?batches/s]"
     ]
    },
    {
     "name": "stdout",
     "output_type": "stream",
     "text": [
      "Validation accuracy at (0.99859729660800811, 0.00010249238028466416)\n"
     ]
    },
    {
     "name": "stderr",
     "output_type": "stream",
     "text": [
      "Epoch 353/377: 100%|██████████| 856/856 [02:07<00:00,  6.70batches/s]\n",
      "Epoch 354/377:   0%|          | 1/856 [00:00<01:58,  7.23batches/s]"
     ]
    },
    {
     "name": "stdout",
     "output_type": "stream",
     "text": [
      "Validation accuracy at (0.99923488905891356, 3.2516840080005002e-05)\n"
     ]
    },
    {
     "name": "stderr",
     "output_type": "stream",
     "text": [
      "Epoch 354/377: 100%|██████████| 856/856 [02:08<00:00,  6.66batches/s]\n",
      "Epoch 355/377:   0%|          | 1/856 [00:00<01:59,  7.14batches/s]"
     ]
    },
    {
     "name": "stdout",
     "output_type": "stream",
     "text": [
      "Validation accuracy at (0.99961744452945678, 1.967750861625312e-05)\n"
     ]
    },
    {
     "name": "stderr",
     "output_type": "stream",
     "text": [
      "Epoch 355/377: 100%|██████████| 856/856 [02:07<00:00,  6.70batches/s]\n",
      "Epoch 356/377:   0%|          | 1/856 [00:00<01:59,  7.14batches/s]"
     ]
    },
    {
     "name": "stdout",
     "output_type": "stream",
     "text": [
      "Validation accuracy at (0.9873756696088859, 0.00096806071765500115)\n"
     ]
    },
    {
     "name": "stderr",
     "output_type": "stream",
     "text": [
      "Epoch 356/377: 100%|██████████| 856/856 [02:08<00:00,  6.68batches/s]\n",
      "Epoch 357/377:   0%|          | 1/856 [00:00<01:59,  7.18batches/s]"
     ]
    },
    {
     "name": "stdout",
     "output_type": "stream",
     "text": [
      "Validation accuracy at (0.99298648304004078, 0.000403318855764328)\n"
     ]
    },
    {
     "name": "stderr",
     "output_type": "stream",
     "text": [
      "Epoch 357/377: 100%|██████████| 856/856 [02:08<00:00,  6.68batches/s]\n",
      "Epoch 358/377:   0%|          | 1/856 [00:00<02:03,  6.91batches/s]"
     ]
    },
    {
     "name": "stdout",
     "output_type": "stream",
     "text": [
      "Validation accuracy at (0.99630196378474878, 0.0002236678590280099)\n"
     ]
    },
    {
     "name": "stderr",
     "output_type": "stream",
     "text": [
      "Epoch 358/377: 100%|██████████| 856/856 [02:07<00:00,  6.70batches/s]\n",
      "Epoch 359/377:   0%|          | 1/856 [00:00<01:58,  7.20batches/s]"
     ]
    },
    {
     "name": "stdout",
     "output_type": "stream",
     "text": [
      "Validation accuracy at (0.99923488905891356, 3.771506921213872e-05)\n"
     ]
    },
    {
     "name": "stderr",
     "output_type": "stream",
     "text": [
      "Epoch 359/377: 100%|██████████| 856/856 [02:07<00:00,  6.71batches/s]\n",
      "Epoch 360/377:   0%|          | 1/856 [00:00<02:02,  6.97batches/s]"
     ]
    },
    {
     "name": "stdout",
     "output_type": "stream",
     "text": [
      "Validation accuracy at (0.99630196378474878, 0.00024821926100424268)\n"
     ]
    },
    {
     "name": "stderr",
     "output_type": "stream",
     "text": [
      "Epoch 360/377: 100%|██████████| 856/856 [02:08<00:00,  6.68batches/s]\n",
      "Epoch 361/377:   0%|          | 1/856 [00:00<01:57,  7.28batches/s]"
     ]
    },
    {
     "name": "stdout",
     "output_type": "stream",
     "text": [
      "Validation accuracy at (0.95562356555379802, 0.0088208476322352361)\n"
     ]
    },
    {
     "name": "stderr",
     "output_type": "stream",
     "text": [
      "Epoch 361/377: 100%|██████████| 856/856 [02:08<00:00,  6.64batches/s]\n",
      "Epoch 362/377:   0%|          | 1/856 [00:00<01:58,  7.20batches/s]"
     ]
    },
    {
     "name": "stdout",
     "output_type": "stream",
     "text": [
      "Validation accuracy at (0.99948992603927567, 2.6860087285727003e-05)\n"
     ]
    },
    {
     "name": "stderr",
     "output_type": "stream",
     "text": [
      "Epoch 362/377: 100%|██████████| 856/856 [02:05<00:00,  6.80batches/s]\n",
      "Epoch 363/377:   0%|          | 1/856 [00:00<01:58,  7.21batches/s]"
     ]
    },
    {
     "name": "stdout",
     "output_type": "stream",
     "text": [
      "Validation accuracy at (0.99783218566692167, 0.00010030781571389628)\n"
     ]
    },
    {
     "name": "stderr",
     "output_type": "stream",
     "text": [
      "Epoch 363/377: 100%|██████████| 856/856 [02:07<00:00,  6.72batches/s]\n",
      "Epoch 364/377:   0%|          | 1/856 [00:00<01:59,  7.17batches/s]"
     ]
    },
    {
     "name": "stdout",
     "output_type": "stream",
     "text": [
      "Validation accuracy at (0.99528181586330022, 0.00035898088008332366)\n"
     ]
    },
    {
     "name": "stderr",
     "output_type": "stream",
     "text": [
      "Epoch 364/377: 100%|██████████| 856/856 [02:07<00:00,  6.71batches/s]\n",
      "Epoch 365/377:   0%|          | 1/856 [00:00<01:59,  7.16batches/s]"
     ]
    },
    {
     "name": "stdout",
     "output_type": "stream",
     "text": [
      "Validation accuracy at (0.99936240754909467, 2.6114063734668735e-05)\n"
     ]
    },
    {
     "name": "stderr",
     "output_type": "stream",
     "text": [
      "Epoch 365/377: 100%|██████████| 856/856 [02:04<00:00,  6.86batches/s]\n",
      "Epoch 366/377:   0%|          | 1/856 [00:00<01:59,  7.18batches/s]"
     ]
    },
    {
     "name": "stdout",
     "output_type": "stream",
     "text": [
      "Validation accuracy at (0.99923488905891356, 4.119416328089839e-05)\n"
     ]
    },
    {
     "name": "stderr",
     "output_type": "stream",
     "text": [
      "Epoch 366/377: 100%|██████████| 856/856 [02:07<00:00,  6.72batches/s]\n",
      "Epoch 367/377:   0%|          | 1/856 [00:00<01:59,  7.16batches/s]"
     ]
    },
    {
     "name": "stdout",
     "output_type": "stream",
     "text": [
      "Validation accuracy at (0.99897985207855144, 3.9282662875602357e-05)\n"
     ]
    },
    {
     "name": "stderr",
     "output_type": "stream",
     "text": [
      "Epoch 367/377: 100%|██████████| 856/856 [02:07<00:00,  6.72batches/s]\n",
      "Epoch 368/377:   0%|          | 1/856 [00:00<02:01,  7.06batches/s]"
     ]
    },
    {
     "name": "stdout",
     "output_type": "stream",
     "text": [
      "Validation accuracy at (0.99655700076511089, 0.000139794542172405)\n"
     ]
    },
    {
     "name": "stderr",
     "output_type": "stream",
     "text": [
      "Epoch 368/377: 100%|██████████| 856/856 [02:05<00:00,  6.82batches/s]\n",
      "Epoch 369/377:   0%|          | 0/856 [00:00<?, ?batches/s]"
     ]
    },
    {
     "name": "stdout",
     "output_type": "stream",
     "text": [
      "Validation accuracy at (0.99910737056873244, 2.1824967656605465e-05)\n"
     ]
    },
    {
     "name": "stderr",
     "output_type": "stream",
     "text": [
      "Epoch 369/377: 100%|██████████| 856/856 [02:08<00:00,  6.66batches/s]\n",
      "Epoch 370/377:   0%|          | 1/856 [00:00<01:58,  7.20batches/s]"
     ]
    },
    {
     "name": "stdout",
     "output_type": "stream",
     "text": [
      "Validation accuracy at (0.99923488905891356, 2.0402966709336925e-05)\n"
     ]
    },
    {
     "name": "stderr",
     "output_type": "stream",
     "text": [
      "Epoch 370/377: 100%|██████████| 856/856 [02:07<00:00,  6.70batches/s]\n",
      "Epoch 371/377:   0%|          | 1/856 [00:00<01:58,  7.19batches/s]"
     ]
    },
    {
     "name": "stdout",
     "output_type": "stream",
     "text": [
      "Validation accuracy at (0.98648304004080589, 0.001279139887689965)\n"
     ]
    },
    {
     "name": "stderr",
     "output_type": "stream",
     "text": [
      "Epoch 371/377: 100%|██████████| 856/856 [02:07<00:00,  6.73batches/s]\n",
      "Epoch 372/377:   0%|          | 1/856 [00:00<02:00,  7.12batches/s]"
     ]
    },
    {
     "name": "stdout",
     "output_type": "stream",
     "text": [
      "Validation accuracy at (0.99719459321601633, 0.0001439564290495964)\n"
     ]
    },
    {
     "name": "stderr",
     "output_type": "stream",
     "text": [
      "Epoch 372/377: 100%|██████████| 856/856 [02:05<00:00,  6.83batches/s]\n",
      "Epoch 373/377:   0%|          | 1/856 [00:00<01:59,  7.16batches/s]"
     ]
    },
    {
     "name": "stdout",
     "output_type": "stream",
     "text": [
      "Validation accuracy at (0.99897985207855144, 4.5936433970012793e-05)\n"
     ]
    },
    {
     "name": "stderr",
     "output_type": "stream",
     "text": [
      "Epoch 373/377: 100%|██████████| 856/856 [02:07<00:00,  6.70batches/s]\n",
      "Epoch 374/377:   0%|          | 1/856 [00:00<01:50,  7.72batches/s]"
     ]
    },
    {
     "name": "stdout",
     "output_type": "stream",
     "text": [
      "Validation accuracy at (0.96505993382719757, 0.0047482650366030329)\n"
     ]
    },
    {
     "name": "stderr",
     "output_type": "stream",
     "text": [
      "Epoch 374/377: 100%|██████████| 856/856 [02:06<00:00,  6.74batches/s]\n",
      "Epoch 375/377:   0%|          | 1/856 [00:00<01:59,  7.15batches/s]"
     ]
    },
    {
     "name": "stdout",
     "output_type": "stream",
     "text": [
      "Validation accuracy at (0.99948992603927567, 1.1468337197277691e-05)\n"
     ]
    },
    {
     "name": "stderr",
     "output_type": "stream",
     "text": [
      "Epoch 375/377: 100%|██████████| 856/856 [02:05<00:00,  6.84batches/s]\n",
      "Epoch 376/377:   0%|          | 1/856 [00:00<01:59,  7.18batches/s]"
     ]
    },
    {
     "name": "stdout",
     "output_type": "stream",
     "text": [
      "Validation accuracy at (0.99923488905891356, 3.3841730584358029e-05)\n"
     ]
    },
    {
     "name": "stderr",
     "output_type": "stream",
     "text": [
      "Epoch 376/377: 100%|██████████| 856/856 [02:07<00:00,  6.71batches/s]\n",
      "Epoch 377/377:   0%|          | 1/856 [00:00<01:59,  7.14batches/s]"
     ]
    },
    {
     "name": "stdout",
     "output_type": "stream",
     "text": [
      "Validation accuracy at (0.98355011476664111, 0.0014950404458575865)\n"
     ]
    },
    {
     "name": "stderr",
     "output_type": "stream",
     "text": [
      "Epoch 377/377: 100%|██████████| 856/856 [02:10<00:00,  6.58batches/s]\n"
     ]
    },
    {
     "name": "stdout",
     "output_type": "stream",
     "text": [
      "Validation accuracy at (0.99936240754909467, 5.0602092231015869e-05)\n"
     ]
    },
    {
     "data": {
      "image/png": "[encoded data removed]",
      "text/plain": [
       "<matplotlib.figure.Figure at 0x7f7049deeb00>"
      ]
     },
     "metadata": {},
     "output_type": "display_data"
    },
    {
     "name": "stdout",
     "output_type": "stream",
     "text": [
      "Best Validation loss at 4.654341283106363e-06 last iteration 322048\n",
      "Validation accuracy at (0.99936240754909467, 5.0602092231015869e-05)\n"
     ]
    }
   ],
   "source": [
    "n_epochs = 377\n",
    "epoch = 0\n",
    "done_training = False\n",
    "# The accuracy measured against the validation set\n",
    "valid_accuracy = 0.0\n",
    "best_valid_loss = np.inf\n",
    "last_iteration = 0\n",
    "improvement_threshold = 0.995\n",
    "\n",
    "# Measurements use for graphing loss and accuracy\n",
    "batches = []\n",
    "loss_batch = []\n",
    "train_acc_batch = []\n",
    "valid_acc_batch = []\n",
    "\n",
    "save_dir =  'model1/'\n",
    "\n",
    "saver = tf.train.Saver(tf.global_variables())\n",
    "init = tf.global_variables_initializer()\n",
    "\n",
    "with tf.Session() as session:\n",
    "    session.run(init)\n",
    "    batch_count = int(math.ceil(len(X_train)/batch_size))\n",
    "\n",
    "    while (epoch < n_epochs) and (not done_training):\n",
    "        epoch = epoch + 1\n",
    "        \n",
    "        # Progress bar\n",
    "        batches_pbar = tqdm(range(batch_count), desc='Epoch {:>2}/{}'.format(epoch, n_epochs), unit='batches')\n",
    "        \n",
    "        # The training cycle\n",
    "        for batch_i in batches_pbar:\n",
    "            iteration = (epoch - 1) * batch_count + batch_i\n",
    "            # Get a batch of training features and labels\n",
    "            batch_start = batch_i*batch_size\n",
    "            X_batch = X_train[batch_start:batch_start + batch_size]\n",
    "            y_batch = y_train[batch_start:batch_start + batch_size]\n",
    "\n",
    "            # Run optimizer and get loss\n",
    "            _, l = session.run([optimizer, loss],feed_dict={X: X_batch, y: y_batch, keep_prob:0.5, is_training:True})\n",
    "\n",
    "            # Log every 50 batches\n",
    "            if not iteration % batch_size:\n",
    "                # Calculate Training and Validation accuracy\n",
    "                #training_accuracy = evaluate(X_train, y_train)\n",
    "                valid_accuracy, valid_loss = evaluate(X_valid, y_valid)\n",
    "\n",
    "                # Log batches\n",
    "                previous_batch = batches[-1] if batches else 0\n",
    "                batches.append(batch_size + previous_batch)\n",
    "                loss_batch.append(l)\n",
    "                #train_acc_batch.append(training_accuracy)\n",
    "                valid_acc_batch.append(valid_accuracy)\n",
    "            \n",
    "            if not iteration % 512:\n",
    "                if valid_loss < best_valid_loss*improvement_threshold:\n",
    "                    best_valid_loss = valid_loss\n",
    "                    last_iteration = iteration\n",
    "                    checkpoint_path = os.path.join(save_dir, 'model.ckpt')\n",
    "                    saver.save(session, checkpoint_path, global_step=iteration)\n",
    "                \n",
    "            if last_iteration - iteration > 987:\n",
    "                done_training = True\n",
    "                break\n",
    "        \n",
    "\n",
    "        # Check accuracy against Validation data\n",
    "        validation_accuracy = evaluate(X_valid, y_valid)\n",
    "        print('Validation accuracy at {}'.format(validation_accuracy))\n",
    "        if valid_loss < best_valid_loss:\n",
    "            best_valid_loss = valid_loss\n",
    "            last_iteration = iteration\n",
    "            checkpoint_path = os.path.join(save_dir, 'session.ckpt')\n",
    "            saver.save(session, checkpoint_path, global_step=iteration)\n",
    "        \n",
    "loss_plot = plt.subplot(211)\n",
    "loss_plot.set_title('Loss')\n",
    "loss_plot.plot(batches, loss_batch, 'g')\n",
    "loss_plot.set_xlim([batches[0], batches[-1]])\n",
    "acc_plot = plt.subplot(212)\n",
    "acc_plot.set_title('Accuracy')\n",
    "#acc_plot.plot(batches, train_acc_batch, 'r', label='Training Accuracy')\n",
    "acc_plot.plot(batches, valid_acc_batch, 'b', label='Validation Accuracy')\n",
    "acc_plot.set_ylim([0, 1.0])\n",
    "acc_plot.set_xlim([batches[0], batches[-1]])\n",
    "acc_plot.legend(loc=4)\n",
    "plt.tight_layout()\n",
    "plt.show()\n",
    "\n",
    "print('Best Validation loss at {} last iteration {}'.format(best_valid_loss, last_iteration))\n",
    "print('Validation accuracy at {}'.format(validation_accuracy))"
   ]
  },
  {
   "cell_type": "code",
   "execution_count": 15,
   "metadata": {
    "collapsed": false
   },
   "outputs": [
    {
     "name": "stdout",
     "output_type": "stream",
     "text": [
      "Test accuracy for augmented and balanced data with bottle-neck: 0.9521773552384909\n"
     ]
    }
   ],
   "source": [
    "save_dir = 'model1/'\n",
    "with tf.Session() as session:\n",
    "        saver = tf.train.Saver(tf.global_variables())\n",
    "        ckpt = tf.train.latest_checkpoint(save_dir)\n",
    "        saver.restore(session, ckpt)\n",
    "        test_acc, test_loss = evaluate(X_test, y_test)\n",
    "print(\"Test accuracy for augmented and balanced data with bottle-neck: {}\".format(test_acc))\n"
   ]
  },
  {
   "cell_type": "markdown",
   "metadata": {},
   "source": [
    "### Question 4\n",
    "\n",
    "_How did you train your model? (Type of optimizer, batch size, epochs, hyperparameters, etc.)_\n"
   ]
  },
  {
   "cell_type": "markdown",
   "metadata": {},
   "source": [
    "**Answer:**"
   ]
  },
  {
   "cell_type": "markdown",
   "metadata": {},
   "source": [
    "### Question 5\n",
    "\n",
    "\n",
    "_What approach did you take in coming up with a solution to this problem? It may have been a process of trial and error, in which case, outline the steps you took to get to the final solution and why you chose those steps. Perhaps your solution involved an already well known implementation or architecture. In this case, discuss why you think this is suitable for the current problem._"
   ]
  },
  {
   "cell_type": "markdown",
   "metadata": {},
   "source": [
    "**Answer:**"
   ]
  },
  {
   "cell_type": "markdown",
   "metadata": {},
   "source": [
    "---\n",
    "\n",
    "## Step 3: Test a Model on New Images\n",
    "\n",
    "Take several pictures of traffic signs that you find on the web or around you (at least five), and run them through your classifier on your computer to produce example results. The classifier might not recognize some local signs but it could prove interesting nonetheless.\n",
    "\n",
    "You may find `signnames.csv` useful as it contains mappings from the class id (integer) to the actual sign name."
   ]
  },
  {
   "cell_type": "markdown",
   "metadata": {},
   "source": [
    "### Implementation\n",
    "\n",
    "Use the code cell (or multiple code cells, if necessary) to implement the first step of your project. Once you have completed your implementation and are satisfied with the results, be sure to thoroughly answer the questions that follow."
   ]
  },
  {
   "cell_type": "code",
   "execution_count": 16,
   "metadata": {
    "collapsed": true
   },
   "outputs": [],
   "source": [
    "### Load the images and plot them here.\n",
    "### Feel free to use as many code cells as needed.\n",
    "from scipy import ndimage\n",
    "import scipy as sp"
   ]
  },
  {
   "cell_type": "code",
   "execution_count": 17,
   "metadata": {
    "collapsed": false
   },
   "outputs": [
    {
     "name": "stdout",
     "output_type": "stream",
     "text": [
      "(601, 600, 3)\n"
     ]
    }
   ],
   "source": [
    "x_images = []\n",
    "y_images = []\n",
    "dir_path = \"/home/shreyas/Documents/sdcND/data/test_images/\"\n",
    "for image in os.listdir(dir_path):\n",
    "        x_images.append(ndimage.imread(dir_path + image))\n",
    "        y_images.append(int(image.split('.')[0]))\n",
    "        \n",
    "x_images = np.array(x_images)\n",
    "y_images = np.array(y_images)\n",
    "x_images /= 255\n",
    "\n",
    "print(x_images[2].shape)"
   ]
  },
  {
   "cell_type": "code",
   "execution_count": 18,
   "metadata": {
    "collapsed": false
   },
   "outputs": [
    {
     "name": "stdout",
     "output_type": "stream",
     "text": [
      "(32, 32, 3)\n"
     ]
    }
   ],
   "source": [
    "#resize images to match the model input\n",
    "x_images = np.array([sp.misc.imresize(img, [32,32]) for img in x_images])\n",
    "\n",
    "print(x_images[0].shape)"
   ]
  },
  {
   "cell_type": "code",
   "execution_count": 19,
   "metadata": {
    "collapsed": false
   },
   "outputs": [
    {
     "ename": "NameError",
     "evalue": "name 'plot_img' is not defined",
     "output_type": "error",
     "traceback": [
      "\u001b[0;31m---------------------------------------------------------------------------\u001b[0m",
      "\u001b[0;31mNameError\u001b[0m                                 Traceback (most recent call last)",
      "\u001b[0;32m<ipython-input-19-b7349490328b>\u001b[0m in \u001b[0;36m<module>\u001b[0;34m()\u001b[0m\n\u001b[0;32m----> 1\u001b[0;31m \u001b[0mplot_img\u001b[0m\u001b[0;34m(\u001b[0m\u001b[0mx_images\u001b[0m\u001b[0;34m[\u001b[0m\u001b[0;34m:\u001b[0m\u001b[0;36m5\u001b[0m\u001b[0;34m]\u001b[0m\u001b[0;34m,\u001b[0m\u001b[0my_images\u001b[0m\u001b[0;34m[\u001b[0m\u001b[0;34m:\u001b[0m\u001b[0;36m5\u001b[0m\u001b[0;34m]\u001b[0m\u001b[0;34m)\u001b[0m\u001b[0;34m\u001b[0m\u001b[0m\n\u001b[0m",
      "\u001b[0;31mNameError\u001b[0m: name 'plot_img' is not defined"
     ]
    }
   ],
   "source": [
    "plot_img(x_images[:5],y_images[:5])"
   ]
  },
  {
   "cell_type": "markdown",
   "metadata": {},
   "source": [
    "### Question 6\n",
    "\n",
    "_Choose five candidate images of traffic signs and provide them in the report. Are there any particular qualities of the image(s) that might make classification difficult? It could be helpful to plot the images in the notebook._\n",
    "\n"
   ]
  },
  {
   "cell_type": "markdown",
   "metadata": {},
   "source": [
    "**Answer:**"
   ]
  },
  {
   "cell_type": "code",
   "execution_count": null,
   "metadata": {
    "collapsed": false
   },
   "outputs": [],
   "source": [
    "### Run the predictions here.\n",
    "### Feel free to use as many code cells as needed.\n",
    "save_dir = 'model1s/'\n",
    "\n",
    "top_k = tf.nn.top_k(logits, k=5, sorted=True)\n",
    "    \n",
    "with tf.Session() as session:\n",
    "        saver = tf.train.Saver(tf.global_variables())\n",
    "        ckpt = tf.train.latest_checkpoint(save_dir)\n",
    "        saver.restore(session, ckpt)\n",
    "        test_acc, top_5= session.run([accuracy,top_k], feed_dict={X: x_images, y: y_images, keep_prob:1.0, is_training:False})\n",
    "print(\"Test accuracy for original and imbalanced data with bottle-neck: {}\".format(test_acc))\n",
    "#print(top_5)"
   ]
  },
  {
   "cell_type": "markdown",
   "metadata": {},
   "source": [
    "### Question 7\n",
    "\n",
    "_Is your model able to perform equally well on captured pictures when compared to testing on the dataset? The simplest way to do this check the accuracy of the predictions. For example, if the model predicted 1 out of 5 signs correctly, it's 20% accurate._\n",
    "\n",
    "_**NOTE:** You could check the accuracy manually by using `signnames.csv` (same directory). This file has a mapping from the class id (0-42) to the corresponding sign name. So, you could take the class id the model outputs, lookup the name in `signnames.csv` and see if it matches the sign from the image._\n"
   ]
  },
  {
   "cell_type": "markdown",
   "metadata": {},
   "source": [
    "**Answer:**"
   ]
  },
  {
   "cell_type": "code",
   "execution_count": null,
   "metadata": {
    "collapsed": false
   },
   "outputs": [],
   "source": [
    "### Visualize the softmax probabilities here.\n",
    "### Feel free to use as many code cells as needed.\n",
    "import pandas as pd\n",
    "from sklearn import preprocessing\n",
    "lb = preprocessing.LabelBinarizer()\n",
    "lb.fit(np.concatenate((y_train, y_test), axis=0))\n",
    "def one_hot_encoding(data, lb):\n",
    "    encoded = np.array(lb.transform(data))\n",
    "    encoded_cls = lb.inverse_transform(encoded)\n",
    "    \n",
    "    return encoded, encoded_cls\n",
    "y_images, y_cls = one_hot_encoding(y_images, lb)"
   ]
  },
  {
   "cell_type": "code",
   "execution_count": null,
   "metadata": {
    "collapsed": false
   },
   "outputs": [],
   "source": [
    "f, axarr = plt.subplots(2, 5, figsize=(12, 4))\n",
    "f.suptitle('Top 5 - Prediction Certainty', fontsize=12, y=1.08)\n",
    "\n",
    "for i, ax in enumerate(axarr[0]):\n",
    "    ax.imshow(x_images[i])\n",
    "    ax.set_title('%s - %s' % (y_cls[i], signnames[y_cls[i]]), fontsize=8)\n",
    "    ax.axis('off')\n",
    "\n",
    "for i, ax in enumerate(axarr[1]):\n",
    "    data = pd.DataFrame([top_5.values[i]])\n",
    "    ax.set_ylim([0, 1.0])\n",
    "    sns.barplot(data=data, ax=ax, color='lightblue', ci=None)\n",
    "    \n",
    "    _ = ax.set_xticklabels(['%s - %s'% (signnames[j], j) for j in top_5.indices[i]], rotation=90)\n",
    "    \n",
    "    [tick.set_color(\"red\") for j, tick in enumerate(ax.get_xticklabels()) if top_5.indices[i][j] == y_cls[i]]"
   ]
  },
  {
   "cell_type": "markdown",
   "metadata": {},
   "source": [
    "### Question 8\n",
    "\n",
    "*Use the model's softmax probabilities to visualize the **certainty** of its predictions, [`tf.nn.top_k`](https://www.tensorflow.org/versions/r0.12/api_docs/python/nn.html#top_k) could prove helpful here. Which predictions is the model certain of? Uncertain? If the model was incorrect in its initial prediction, does the correct prediction appear in the top k? (k should be 5 at most)*\n",
    "\n",
    "`tf.nn.top_k` will return the values and indices (class ids) of the top k predictions. So if k=3, for each sign, it'll return the 3 largest probabilities (out of a possible 43) and the correspoding class ids.\n",
    "\n",
    "Take this numpy array as an example:\n",
    "\n",
    "```\n",
    "# (5, 6) array\n",
    "a = np.array([[ 0.24879643,  0.07032244,  0.12641572,  0.34763842,  0.07893497,\n",
    "         0.12789202],\n",
    "       [ 0.28086119,  0.27569815,  0.08594638,  0.0178669 ,  0.18063401,\n",
    "         0.15899337],\n",
    "       [ 0.26076848,  0.23664738,  0.08020603,  0.07001922,  0.1134371 ,\n",
    "         0.23892179],\n",
    "       [ 0.11943333,  0.29198961,  0.02605103,  0.26234032,  0.1351348 ,\n",
    "         0.16505091],\n",
    "       [ 0.09561176,  0.34396535,  0.0643941 ,  0.16240774,  0.24206137,\n",
    "         0.09155967]])\n",
    "```\n",
    "\n",
    "Running it through `sess.run(tf.nn.top_k(tf.constant(a), k=3))` produces:\n",
    "\n",
    "```\n",
    "TopKV2(values=array([[ 0.34763842,  0.24879643,  0.12789202],\n",
    "       [ 0.28086119,  0.27569815,  0.18063401],\n",
    "       [ 0.26076848,  0.23892179,  0.23664738],\n",
    "       [ 0.29198961,  0.26234032,  0.16505091],\n",
    "       [ 0.34396535,  0.24206137,  0.16240774]]), indices=array([[3, 0, 5],\n",
    "       [0, 1, 4],\n",
    "       [0, 5, 1],\n",
    "       [1, 3, 5],\n",
    "       [1, 4, 3]], dtype=int32))\n",
    "```\n",
    "\n",
    "Looking just at the first row we get `[ 0.34763842,  0.24879643,  0.12789202]`, you can confirm these are the 3 largest probabilities in `a`. You'll also notice `[3, 0, 5]` are the corresponding indices."
   ]
  },
  {
   "cell_type": "markdown",
   "metadata": {},
   "source": [
    "**Answer:**"
   ]
  },
  {
   "cell_type": "markdown",
   "metadata": {},
   "source": [
    "> **Note**: Once you have completed all of the code implementations and successfully answered each question above, you may finalize your work by exporting the iPython Notebook as an HTML document. You can do this by using the menu above and navigating to  \\n\",\n",
    "    \"**File -> Download as -> HTML (.html)**. Include the finished document along with this notebook as your submission."
   ]
  },
  {
   "cell_type": "code",
   "execution_count": null,
   "metadata": {
    "collapsed": true
   },
   "outputs": [],
   "source": []
  }
 ],
 "metadata": {
  "anaconda-cloud": {},
  "kernelspec": {
   "display_name": "Python 3",
   "language": "python",
   "name": "python3"
  },
  "language_info": {
   "codemirror_mode": {
    "name": "ipython",
    "version": 3
   },
   "file_extension": ".py",
   "mimetype": "text/x-python",
   "name": "python",
   "nbconvert_exporter": "python",
   "pygments_lexer": "ipython3",
   "version": "3.5.2"
  }
 },
 "nbformat": 4,
 "nbformat_minor": 1
}
